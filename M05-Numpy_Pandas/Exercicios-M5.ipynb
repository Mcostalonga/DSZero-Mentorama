{
 "cells": [
  {
   "cell_type": "markdown",
   "id": "9667eb0f",
   "metadata": {},
   "source": [
    "# Michell Luiz Costalonga\n",
    "# Carregando os dados usando scikit-learn"
   ]
  },
  {
   "cell_type": "code",
   "execution_count": 1,
   "id": "d0c3ecbc",
   "metadata": {},
   "outputs": [],
   "source": [
    "# Importando os módulos\n",
    "\n",
    "import numpy as np\n",
    "import pandas as pd\n",
    "from sklearn.datasets import load_iris as li\n",
    "\n",
    "X = li().data\n",
    "Y = li().target"
   ]
  },
  {
   "cell_type": "code",
   "execution_count": 2,
   "id": "1afdb1c2",
   "metadata": {},
   "outputs": [
    {
     "name": "stdout",
     "output_type": "stream",
     "text": [
      "Imprimindo X: \n",
      "[[5.1 3.5 1.4 0.2]\n",
      " [4.9 3.  1.4 0.2]\n",
      " [4.7 3.2 1.3 0.2]\n",
      " [4.6 3.1 1.5 0.2]\n",
      " [5.  3.6 1.4 0.2]\n",
      " [5.4 3.9 1.7 0.4]\n",
      " [4.6 3.4 1.4 0.3]\n",
      " [5.  3.4 1.5 0.2]\n",
      " [4.4 2.9 1.4 0.2]\n",
      " [4.9 3.1 1.5 0.1]]\n",
      "\n",
      "Imprimindo Y: \n",
      "[0 0 0 0 0 0 0 0 0 0]\n"
     ]
    }
   ],
   "source": [
    "# Imprimindo as variáveis X e Y (10 primeiros valores)\n",
    "print('Imprimindo X: ')\n",
    "print(X[:10])\n",
    "print('\\nImprimindo Y: ')\n",
    "print(Y[:10])\n"
   ]
  },
  {
   "cell_type": "markdown",
   "id": "a3c09d34",
   "metadata": {},
   "source": [
    "# Exercício 1"
   ]
  },
  {
   "cell_type": "markdown",
   "id": "d4efc54b",
   "metadata": {},
   "source": [
    "Crie um dataframe a partir de X e Y. Primeiro, concatene os arrays numpy. Na sequência, transforme o array final para um dataframe. Altere o nome das colunas para 'X1', 'X2', 'X3', 'X4' e 'target'."
   ]
  },
  {
   "cell_type": "code",
   "execution_count": 3,
   "id": "6befc4dc",
   "metadata": {},
   "outputs": [
    {
     "name": "stdout",
     "output_type": "stream",
     "text": [
      "    X1   X2   X3   X4  target\n",
      "0  5.1  3.5  1.4  0.2     0.0\n",
      "1  4.9  3.0  1.4  0.2     0.0\n",
      "2  4.7  3.2  1.3  0.2     0.0\n",
      "3  4.6  3.1  1.5  0.2     0.0\n",
      "4  5.0  3.6  1.4  0.2     0.0\n"
     ]
    }
   ],
   "source": [
    "# Concatenando X e Y\n",
    "data = np.c_[X,Y]\n",
    "\n",
    "# Criando um dataframe\n",
    "df = pd.DataFrame(data, columns=['X1', 'X2', 'X3', 'X4', 'target'])\n",
    "\n",
    "# Imprimindo o dataframe criado\n",
    "print(df.head())"
   ]
  },
  {
   "cell_type": "markdown",
   "id": "7dfd8bff",
   "metadata": {},
   "source": [
    "# Exercício 2"
   ]
  },
  {
   "cell_type": "markdown",
   "id": "4528512a",
   "metadata": {},
   "source": [
    "Usando o df criado no exercício 1, calcule qual a média da variável 'X2', para cada valor de target. Dica: Use a função groupby no dataframe df para resolver."
   ]
  },
  {
   "cell_type": "code",
   "execution_count": 4,
   "id": "e349aac2",
   "metadata": {},
   "outputs": [
    {
     "name": "stdout",
     "output_type": "stream",
     "text": [
      "target\n",
      "0.0    3.428\n",
      "1.0    2.770\n",
      "2.0    2.974\n",
      "dtype: float64\n"
     ]
    }
   ],
   "source": [
    "# Agrupando por 'target' e realizando a média para cada grupo.\n",
    "\n",
    "df_target = df.groupby(by='target').apply(lambda x: x.X2.mean())\n",
    "print(df_target)"
   ]
  },
  {
   "cell_type": "markdown",
   "id": "acb53ec9",
   "metadata": {},
   "source": [
    "# Exercício 3"
   ]
  },
  {
   "cell_type": "markdown",
   "id": "9e755e58",
   "metadata": {},
   "source": [
    "Construa um dicionário mapeando os valores:\n",
    "\n",
    "0 - 'A'\n",
    "\n",
    "1 - 'B'\n",
    "\n",
    "2 - 'C'\n",
    "\n",
    "Usando a função map, crie uma coluna nova no dataframe df chamada 'target_2' com o mapeamento feito. Dica: Use a função map como visto em aula."
   ]
  },
  {
   "cell_type": "code",
   "execution_count": 22,
   "id": "8800af8d",
   "metadata": {},
   "outputs": [
    {
     "name": "stdout",
     "output_type": "stream",
     "text": [
      "{0: 'A', 1: 'B', 2: 'C'}\n"
     ]
    }
   ],
   "source": [
    "# Criando um dicionário\n",
    "dict = {0:'A', 1:'B', 2:'C'}\n",
    "print(dict)"
   ]
  },
  {
   "cell_type": "code",
   "execution_count": 26,
   "id": "1bfd1b4a",
   "metadata": {},
   "outputs": [
    {
     "name": "stdout",
     "output_type": "stream",
     "text": [
      "    X1   X2   X3   X4  target  target_2\n",
      "0  5.1  3.5  1.4  0.2     0.0         0\n",
      "1  4.9  3.0  1.4  0.2     0.0         0\n",
      "2  4.7  3.2  1.3  0.2     0.0         0\n",
      "3  4.6  3.1  1.5  0.2     0.0         0\n",
      "4  5.0  3.6  1.4  0.2     0.0         0\n"
     ]
    }
   ],
   "source": [
    "# Imprimindo o dataframe com uma nova coluna chamada 'target_2'\n",
    "df['target_2'] = Y\n",
    "print(df.head())"
   ]
  },
  {
   "cell_type": "code",
   "execution_count": 27,
   "id": "4042245b",
   "metadata": {},
   "outputs": [
    {
     "name": "stdout",
     "output_type": "stream",
     "text": [
      "    X1   X2   X3   X4  target target_2\n",
      "0  5.1  3.5  1.4  0.2     0.0        A\n",
      "1  4.9  3.0  1.4  0.2     0.0        A\n",
      "2  4.7  3.2  1.3  0.2     0.0        A\n",
      "3  4.6  3.1  1.5  0.2     0.0        A\n",
      "4  5.0  3.6  1.4  0.2     0.0        A\n"
     ]
    }
   ],
   "source": [
    "# Usando a função map, os valores 0, 1 e 2 da coluna 'target_2' foram substituídos por A, B e C, respectivamente.\n",
    "df.target_2 = df.target_2.map({0:'A', 1:'B', 2:'C'})\n",
    "print(df.head())"
   ]
  },
  {
   "cell_type": "markdown",
   "id": "dac5dcab",
   "metadata": {},
   "source": [
    "# Exercício 4"
   ]
  },
  {
   "cell_type": "markdown",
   "id": "522b3cd9",
   "metadata": {},
   "source": [
    "## 4.1"
   ]
  },
  {
   "cell_type": "markdown",
   "id": "89197dc3",
   "metadata": {},
   "source": [
    "Filtre o dataframe df onde X1 é maior do que 6 ou target é diferente de 2 e chame-o de df1. Dica: usar os filtros e os operadores vistos em aula."
   ]
  },
  {
   "cell_type": "code",
   "execution_count": 56,
   "id": "cf3fad50",
   "metadata": {},
   "outputs": [
    {
     "name": "stdout",
     "output_type": "stream",
     "text": [
      "    X1   X2   X3   X4  target target_2\n",
      "0  5.1  3.5  1.4  0.2     0.0        A\n",
      "1  4.9  3.0  1.4  0.2     0.0        A\n",
      "2  4.7  3.2  1.3  0.2     0.0        A\n",
      "3  4.6  3.1  1.5  0.2     0.0        A\n",
      "4  5.0  3.6  1.4  0.2     0.0        A\n",
      "\n",
      "Número de linhas e colunas: \n",
      "(141, 6)\n"
     ]
    }
   ],
   "source": [
    "# Realizando a filtragem dos dados. \n",
    "# IMPORTANTE: Não se pode usar os operadores \"and\" e \"or\", deve-se usar \"&\" e \"|\", respectivamente.\n",
    "df1 = df[(df.X1 > 6.0) | (df.target != 2.0)]\n",
    "print(df1.head())\n",
    "\n",
    "# Número de linhas e colunas do dataframe\n",
    "print('\\nNúmero de linhas e colunas: ')\n",
    "print(df1.shape)"
   ]
  },
  {
   "cell_type": "markdown",
   "id": "2c54dfa3",
   "metadata": {},
   "source": [
    "# 4.2"
   ]
  },
  {
   "cell_type": "markdown",
   "id": "ce3a89af",
   "metadata": {},
   "source": [
    "Filtre os 15 primeiros índices do dataframe df e chame-o de df2."
   ]
  },
  {
   "cell_type": "code",
   "execution_count": 57,
   "id": "a4e1e0c3",
   "metadata": {},
   "outputs": [
    {
     "name": "stdout",
     "output_type": "stream",
     "text": [
      "    X1   X2   X3   X4  target target_2\n",
      "0  5.1  3.5  1.4  0.2     0.0        A\n",
      "1  4.9  3.0  1.4  0.2     0.0        A\n",
      "2  4.7  3.2  1.3  0.2     0.0        A\n",
      "3  4.6  3.1  1.5  0.2     0.0        A\n",
      "4  5.0  3.6  1.4  0.2     0.0        A\n"
     ]
    }
   ],
   "source": [
    "# Filtrando os 15 primeiros índices do df\n",
    "df2 = df[:15]\n",
    "print(df2.head())"
   ]
  },
  {
   "cell_type": "markdown",
   "id": "a95796fd",
   "metadata": {},
   "source": [
    "## 4.3"
   ]
  },
  {
   "cell_type": "markdown",
   "id": "2246608d",
   "metadata": {},
   "source": [
    "Transformando os dataframes df1 e df2 para arrays, multiplique df1 pelo transposto de df2 (use a função que calcula transposta de matriz) e imprima o resultado final. Lembre-se de remover a coluna 'target_2' de cada um dos dataframes antes de realizar a multiplicação."
   ]
  },
  {
   "cell_type": "code",
   "execution_count": 58,
   "id": "1cea35aa",
   "metadata": {},
   "outputs": [
    {
     "name": "stdout",
     "output_type": "stream",
     "text": [
      "Imprimindo df1 sem a coluna \"target_2\"\n",
      "    X1   X2   X3   X4  target\n",
      "0  5.1  3.5  1.4  0.2     0.0\n",
      "1  4.9  3.0  1.4  0.2     0.0\n",
      "2  4.7  3.2  1.3  0.2     0.0\n",
      "3  4.6  3.1  1.5  0.2     0.0\n",
      "4  5.0  3.6  1.4  0.2     0.0\n",
      "\n",
      "Número de linhas e colunas: \n",
      "(141, 5)\n",
      "\n",
      "Imprimindo df2 sem a coluna \"target_2\"\n",
      "    X1   X2   X3   X4  target\n",
      "0  5.1  3.5  1.4  0.2     0.0\n",
      "1  4.9  3.0  1.4  0.2     0.0\n",
      "2  4.7  3.2  1.3  0.2     0.0\n",
      "3  4.6  3.1  1.5  0.2     0.0\n",
      "4  5.0  3.6  1.4  0.2     0.0\n",
      "\n",
      "Número de linhas e colunas: \n",
      "(15, 5)\n"
     ]
    },
    {
     "name": "stderr",
     "output_type": "stream",
     "text": [
      "C:\\Users\\mlcos\\anaconda3\\lib\\site-packages\\pandas\\core\\frame.py:4308: SettingWithCopyWarning: \n",
      "A value is trying to be set on a copy of a slice from a DataFrame\n",
      "\n",
      "See the caveats in the documentation: https://pandas.pydata.org/pandas-docs/stable/user_guide/indexing.html#returning-a-view-versus-a-copy\n",
      "  return super().drop(\n"
     ]
    }
   ],
   "source": [
    "# Removendo as colucas 'target_2' de cada dataframe\n",
    "df1.drop('target_2', axis=1, inplace=True)\n",
    "df2.drop('target_2', axis=1, inplace=True)\n",
    "\n",
    "print('Imprimindo df1 sem a coluna \"target_2\"')\n",
    "print(df1.head())\n",
    "print('\\nNúmero de linhas e colunas: ')\n",
    "print(df1.shape)\n",
    "print('\\nImprimindo df2 sem a coluna \"target_2\"')\n",
    "print(df2.head())\n",
    "print('\\nNúmero de linhas e colunas: ')\n",
    "print(df2.shape)"
   ]
  },
  {
   "cell_type": "code",
   "execution_count": 62,
   "id": "71bc891b",
   "metadata": {},
   "outputs": [
    {
     "name": "stdout",
     "output_type": "stream",
     "text": [
      "Imprimindo array referente a df1: \n",
      "[[5.1 3.5 1.4 0.2 0. ]\n",
      " [4.9 3.  1.4 0.2 0. ]\n",
      " [4.7 3.2 1.3 0.2 0. ]\n",
      " [4.6 3.1 1.5 0.2 0. ]\n",
      " [5.  3.6 1.4 0.2 0. ]]\n",
      "\n",
      "Imprimindo array referente a df2: \n",
      "[[5.1 4.9 4.7 4.6 5.  5.4 4.6 5.  4.4 4.9 5.4 4.8 4.8 4.3 5.8]\n",
      " [3.5 3.  3.2 3.1 3.6 3.9 3.4 3.4 2.9 3.1 3.7 3.4 3.  3.  4. ]\n",
      " [1.4 1.4 1.3 1.5 1.4 1.7 1.4 1.5 1.4 1.5 1.5 1.6 1.4 1.1 1.2]\n",
      " [0.2 0.2 0.2 0.2 0.2 0.4 0.3 0.2 0.2 0.1 0.2 0.2 0.1 0.1 0.2]\n",
      " [0.  0.  0.  0.  0.  0.  0.  0.  0.  0.  0.  0.  0.  0.  0. ]]\n"
     ]
    }
   ],
   "source": [
    "# Convertendo os dataframes df1 e df2 para arrays.\n",
    "array_df1 = df1.values\n",
    "array_df2 = df2.values.T\n",
    "\n",
    "# Imprimindo arrays\n",
    "print('Imprimindo array referente a df1 (5 primeiras linhas): ')\n",
    "print(array_df1[:5])\n",
    "print('\\nImprimindo array referente a df2 (5 primeiras linhas): ')\n",
    "print(array_df2[:5])"
   ]
  },
  {
   "cell_type": "code",
   "execution_count": 64,
   "id": "4deb347b",
   "metadata": {},
   "outputs": [
    {
     "name": "stdout",
     "output_type": "stream",
     "text": [
      "O resultado da multiplicação entre os arrays é: \n",
      "[[40.26 37.49 37.03 ... 36.96 33.99 45.3 ]\n",
      " [37.49 35.01 34.49 ... 34.5  31.63 42.14]\n",
      " [37.03 34.49 34.06 ... 34.   31.26 41.66]\n",
      " ...\n",
      " [48.26 45.75 44.49 ... 44.93 40.28 52.92]\n",
      " [51.33 48.53 47.31 ... 47.68 42.87 56.34]\n",
      " [51.54 48.6  47.5  ... 47.75 43.03 56.5 ]]\n"
     ]
    }
   ],
   "source": [
    "# Realizando a multiplicação e imprimindo na tela o resultado.\n",
    "multiplicacao_arrays = np.dot(array_df1,array_df2)\n",
    "\n",
    "print('O resultado da multiplicação entre os arrays é: ')\n",
    "print(multiplicacao_arrays)"
   ]
  },
  {
   "cell_type": "markdown",
   "id": "e0ce7c11",
   "metadata": {},
   "source": [
    "# Exercício 5"
   ]
  },
  {
   "cell_type": "markdown",
   "id": "09d6d8fe",
   "metadata": {},
   "source": [
    "## 5.1"
   ]
  },
  {
   "cell_type": "markdown",
   "id": "82fc612e",
   "metadata": {},
   "source": [
    "Crie uma função que receba um número inteiro positivo N e retorne um array 0, 1, ..., N. Dica: Use as funções que vimos para criação de arrays."
   ]
  },
  {
   "cell_type": "code",
   "execution_count": 86,
   "id": "5a147810",
   "metadata": {},
   "outputs": [
    {
     "name": "stdout",
     "output_type": "stream",
     "text": [
      "Informe um valor inteiro para N: 5\n",
      "O array gerado é :\n",
      "[0 1 2 3 4 5]\n"
     ]
    }
   ],
   "source": [
    "# Criando uma função para construir arrays de 0 até N.\n",
    "def criarArray(N):\n",
    "    return np.arange(0, N+1, 1);\n",
    "\n",
    "# Informe o valor de N:\n",
    "\n",
    "N = int(input('Informe um valor inteiro para N: '))\n",
    "array = criarArray(N)\n",
    "\n",
    "# Imprimindo o array:\n",
    "print('O array gerado é :')\n",
    "print(array)"
   ]
  },
  {
   "cell_type": "markdown",
   "id": "71f0e3f3",
   "metadata": {},
   "source": [
    "## 5.2"
   ]
  },
  {
   "cell_type": "markdown",
   "id": "667580ac",
   "metadata": {},
   "source": [
    "Crie uma função que receba um array [0, 1, ..., N] e retorne o mesmo array, só que com os números em posições aleatórias. Dica: use a função que vimos em aula que faz escolhas aleatóries SEM reposição."
   ]
  },
  {
   "cell_type": "code",
   "execution_count": 90,
   "id": "61102adc",
   "metadata": {},
   "outputs": [
    {
     "name": "stdout",
     "output_type": "stream",
     "text": [
      "Array original: \n",
      "[0 1 2 3 4 5]\n",
      "O array aleatório 1 é: \n",
      "[3 0 5 4 1 2]\n"
     ]
    }
   ],
   "source": [
    "# Criando uma função para receber um array e devolvê-lo com os valores em ordens diferentes e aleatórias.\n",
    "def arrayAleatorio(arr):\n",
    "    return np.random.permutation(len(arr))\n",
    "\n",
    "print('Array original: ')\n",
    "print(array)\n",
    "\n",
    "array_aleatorio = arrayAleatorio(array)\n",
    "print('O array aleatório 1 é: ')\n",
    "print(array_aleatorio)"
   ]
  },
  {
   "cell_type": "markdown",
   "id": "57e3a906",
   "metadata": {},
   "source": [
    "## 5.3"
   ]
  },
  {
   "cell_type": "markdown",
   "id": "ad753f5d",
   "metadata": {},
   "source": [
    "Crie uma função que receba um número inteiro positivo N. Essa função deve retornar um array de tamanho N, cujos valores são números inteiros entre 0 e N-1 e pode haver repetição desses números."
   ]
  },
  {
   "cell_type": "code",
   "execution_count": 91,
   "id": "80769a5c",
   "metadata": {},
   "outputs": [
    {
     "name": "stdout",
     "output_type": "stream",
     "text": [
      "Digite um valor inteiro para N: 5\n",
      "Imprimindo o array criado: \n",
      "[2 4 2 0 2]\n"
     ]
    }
   ],
   "source": [
    "# Criando uma função para criar um array de tamanho N, cujos valores são números inteiros entre 0 e N-1\n",
    "def criarArrayAleatorio(N):\n",
    "    return np.random.randint(0, N, size=N)\n",
    "\n",
    "N = int(input('Digite um valor inteiro para N: '))\n",
    "arrayAleFunc = criarArrayAleatorio(N)\n",
    "print('Imprimindo o array criado: ')\n",
    "print(arrayAleFunc)"
   ]
  },
  {
   "cell_type": "markdown",
   "id": "b6cfa3f2",
   "metadata": {},
   "source": [
    "# Exercício 6"
   ]
  },
  {
   "cell_type": "markdown",
   "id": "e772401a",
   "metadata": {},
   "source": [
    "Construa uma função divide_dados:\n",
    "- Recebe um array X de dimensões quaisquer (n,k) e um parâmetro p entre 0 e 1.\n",
    "- Divide o array X em duas partes disjuntas de forma aleatória. Ou seja, crie dois novos arrays X1 e X2, onde a dimensão de linhas de X1 somada com a dimensão de linhas de X2 deve ser igual a dimensão de linhas de X.\n",
    "- Interpertando p como percentual, o tamanho de X1 deve ser p*100% do número de linhas de X, enquanto X2 deve ser o resto.\n",
    "- Retorne esses dois arrays."
   ]
  },
  {
   "cell_type": "code",
   "execution_count": 232,
   "id": "fa8a706a",
   "metadata": {},
   "outputs": [],
   "source": [
    "# Criando uma função para dividir os dados de um array de tamanho n,k em dois arrays distintos.\n",
    "# x é o array de entrada e p é a porcentagem (0 < p < 1).\n",
    "# A função irá retornar dois arrays X1 e X2, por isso, deve-se declarar duas variáveis ao usar a função.\n",
    "from sklearn.utils import shuffle\n",
    "\n",
    "def divide_dados(x, p):\n",
    "    verificador = False\n",
    "    try:\n",
    "        n, k = x.shape\n",
    "        \n",
    "    except ValueError:\n",
    "        verificador = True\n",
    "        \n",
    "    if (verificador):\n",
    "        x = np.random.permutation(len(x))\n",
    "        X1_len = int(round(len(x)*p, 0))\n",
    "        X2_len = int(len(x) - X1_len)\n",
    "        X1 = np.zeros(X1_len)\n",
    "        X1 = x[:X1_len]\n",
    "        X2 = np.zeros(X2_len)\n",
    "        X2 = x[X1_len:]\n",
    "        return X1, X2\n",
    "    else:\n",
    "        X1_len = int(round(len(x)*p, 0))\n",
    "        X2_len = int(len(x) - X1_len)\n",
    "        np.random.shuffle(x)\n",
    "        X1 = np.zeros((X1_len, k))\n",
    "        X1 = x[:X1_len, ::]\n",
    "        X2 = np.zeros((X2_len, k))\n",
    "        X2 = x[X1_len:, ::]\n",
    "        return X1, X2"
   ]
  },
  {
   "cell_type": "code",
   "execution_count": 270,
   "id": "4ac92a4f",
   "metadata": {},
   "outputs": [],
   "source": [
    "# Definindo arryas para teste.\n",
    "num_linhas = 7\n",
    "num_colunas = 3\n",
    "a = np.arange(num_linhas * num_colunas).reshape(num_linhas, num_colunas)\n",
    "a_lin, a_col = a.shape\n",
    "b = np.arange(num_linhas * num_colunas)\n",
    "b_len = len(b)"
   ]
  },
  {
   "cell_type": "code",
   "execution_count": 271,
   "id": "f5359ca8",
   "metadata": {},
   "outputs": [],
   "source": [
    "# Definindo o valor de p (0 < p < 1)\n",
    "\n",
    "p = 0.5"
   ]
  },
  {
   "cell_type": "code",
   "execution_count": 272,
   "id": "7b793ee9",
   "metadata": {},
   "outputs": [
    {
     "name": "stdout",
     "output_type": "stream",
     "text": [
      "Imprimindo a matriz original: \n",
      "[[ 0  1  2]\n",
      " [ 3  4  5]\n",
      " [ 6  7  8]\n",
      " [ 9 10 11]\n",
      " [12 13 14]\n",
      " [15 16 17]\n",
      " [18 19 20]]\n",
      "Tamanho original da matriz de entrada: 7, 3\n",
      "\n",
      "\n",
      "Imprimindo a matriz X1: \n",
      "[[ 3  4  5]\n",
      " [ 6  7  8]\n",
      " [12 13 14]\n",
      " [18 19 20]]\n",
      "\n",
      "Tamanho da matriz X1: 4, 3\n",
      "\n",
      "\n",
      "Imprimindo a matriz X2: \n",
      "[[15 16 17]\n",
      " [ 0  1  2]\n",
      " [ 9 10 11]]\n",
      "\n",
      "Tamanho da matriz X2: 3, 3\n",
      "\n",
      "A soma do número de linhas das matrizes X1 e X2 é igual ao número de linhas da matriz original.\n"
     ]
    }
   ],
   "source": [
    "# Testando com matriz bidimensional (a)\n",
    "\n",
    "print('Imprimindo a matriz original: ')\n",
    "print(a)\n",
    "print('Tamanho original da matriz de entrada: %d, %d' %(a_lin, a_col), end='\\n\\n')\n",
    "\n",
    "X1, X2 = divide_dados(a, p)\n",
    "X1_lin, X1_col = X1.shape\n",
    "X2_lin, X2_col = X2.shape\n",
    "\n",
    "print('\\nImprimindo a matriz X1: ')\n",
    "print(X1)\n",
    "print('\\nTamanho da matriz X1: %d, %d' %(X1_lin, X1_col), end='\\n\\n')\n",
    "\n",
    "print('\\nImprimindo a matriz X2: ')\n",
    "print(X2)\n",
    "print('\\nTamanho da matriz X2: %d, %d' %(X2_lin, X2_col), end='\\n\\n')\n",
    "\n",
    "if (X1_lin + X2_lin == a_lin):\n",
    "    print('A soma do número de linhas das matrizes X1 e X2 é igual ao número de linhas da matriz original.')\n",
    "else:\n",
    "    print('A soma do número de linhas das matrizes X1 e X2 não é igual ao número de linhas da matriz original.')"
   ]
  },
  {
   "cell_type": "code",
   "execution_count": 273,
   "id": "bd51ffa7",
   "metadata": {},
   "outputs": [
    {
     "name": "stdout",
     "output_type": "stream",
     "text": [
      "Imprimindo o vetor original: \n",
      "[[ 3  4  5]\n",
      " [ 6  7  8]\n",
      " [12 13 14]\n",
      " [18 19 20]\n",
      " [15 16 17]\n",
      " [ 0  1  2]\n",
      " [ 9 10 11]]\n",
      "Tamanho original do vetor de entrada: 21\n",
      "\n",
      "\n",
      "Imprimindo o vetor X1: \n",
      "[19  7  8 14  5  6  2 20 18  4]\n",
      "\n",
      "Tamanho do vetor X1: 10\n",
      "\n",
      "\n",
      "Imprimindo a matriz X2: \n",
      "[ 0 11 17 15  3 16 13 12  9  1 10]\n",
      "\n",
      "Tamanho da matriz X2: 11\n",
      "\n",
      "A soma do número de elementos de X1 e X2 é igual ao número de elementos do vetor original.\n"
     ]
    }
   ],
   "source": [
    "# Testando a função com um array unidimensional.\n",
    "\n",
    "print('Imprimindo o vetor original: ')\n",
    "print(a)\n",
    "print('Tamanho original do vetor de entrada: %d' %(b_len), end='\\n\\n')\n",
    "\n",
    "X1, X2 = divide_dados(b, p)\n",
    "X1_len = len(X1)\n",
    "X2_len = len(X2)\n",
    "\n",
    "print('\\nImprimindo o vetor X1: ')\n",
    "print(X1)\n",
    "print('\\nTamanho do vetor X1: %d' %(X1_len), end='\\n\\n')\n",
    "\n",
    "print('\\nImprimindo a matriz X2: ')\n",
    "print(X2)\n",
    "print('\\nTamanho da matriz X2: %d' %(X2_len), end='\\n\\n')\n",
    "\n",
    "if (X1_len + X2_len == b_len):\n",
    "    print('A soma do número de elementos de X1 e X2 é igual ao número de elementos do vetor original.')\n",
    "else:\n",
    "    print('A soma do número de elementos de X1 e X2 não é igual ao número de linhas do vetor original.')"
   ]
  }
 ],
 "metadata": {
  "kernelspec": {
   "display_name": "Python 3",
   "language": "python",
   "name": "python3"
  },
  "language_info": {
   "codemirror_mode": {
    "name": "ipython",
    "version": 3
   },
   "file_extension": ".py",
   "mimetype": "text/x-python",
   "name": "python",
   "nbconvert_exporter": "python",
   "pygments_lexer": "ipython3",
   "version": "3.8.8"
  }
 },
 "nbformat": 4,
 "nbformat_minor": 5
}
