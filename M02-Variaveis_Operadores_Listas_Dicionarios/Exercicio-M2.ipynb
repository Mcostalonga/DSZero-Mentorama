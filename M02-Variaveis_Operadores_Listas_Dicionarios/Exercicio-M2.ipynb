{
 "cells": [
  {
   "cell_type": "markdown",
   "id": "8238e104",
   "metadata": {},
   "source": [
    "# Michell Luiz Costalonga\n",
    "# Exercício 1"
   ]
  },
  {
   "cell_type": "markdown",
   "id": "e3130574",
   "metadata": {},
   "source": [
    "Escreva duas variáveis do tipo string e uma expressão lógica que verifica se essas variáveis são iguais. Além disso, defina duas variáveis numéricas e calcule qual o resto da divisão de uma pela outra."
   ]
  },
  {
   "cell_type": "markdown",
   "id": "91a15493",
   "metadata": {},
   "source": [
    "# Solução: Exercício 1"
   ]
  },
  {
   "cell_type": "code",
   "execution_count": 1,
   "id": "c0b9185d",
   "metadata": {},
   "outputs": [
    {
     "name": "stdout",
     "output_type": "stream",
     "text": [
      "Digite a string 1: mentorama\n",
      "Digite a string 2: mentorama\n",
      "As duas strings são iguais.\n"
     ]
    }
   ],
   "source": [
    "# Parte 1: Criando variáveis do tipo string e comparando se são iguais ou não.\n",
    "\n",
    "string1 = input('Digite a string 1: ')\n",
    "string2 = input('Digite a string 2: ')\n",
    "\n",
    "if (string1 == string2):\n",
    "    print('As duas strings são iguais.')\n",
    "else:\n",
    "    print('As duas strings são diferentes.')"
   ]
  },
  {
   "cell_type": "code",
   "execution_count": 3,
   "id": "510e6f01",
   "metadata": {},
   "outputs": [
    {
     "name": "stdout",
     "output_type": "stream",
     "text": [
      "Digite o valor de x (deve ser um número inteiro): 6\n",
      "Digite o valor de y (deve ser um número inteiro): 5\n",
      "A divisão inteira entre 6 e 5 é 1 e o resto da divisão é 1\n"
     ]
    }
   ],
   "source": [
    "# Parte 2: Criando duas variáveis numéricas e retornando o resto da divisão.\n",
    "\n",
    "x = int(input('Digite o valor de x (deve ser um número inteiro): '))\n",
    "y = int(input('Digite o valor de y (deve ser um número inteiro): '))\n",
    "div = x // y\n",
    "resto = x % y\n",
    "\n",
    "print('A divisão inteira entre %d e %d é %d e o resto da divisão é %d' % (x, y, div, resto))"
   ]
  },
  {
   "cell_type": "markdown",
   "id": "c14b9bf9",
   "metadata": {},
   "source": [
    "# Exercício 2"
   ]
  },
  {
   "cell_type": "markdown",
   "id": "483372fa",
   "metadata": {},
   "source": [
    "Crie uma lista de strings, que poussi elementos repetidos e posteriormente converta essa lista para um conjunto. Confira o tamanho das listas antes e depois da conversão."
   ]
  },
  {
   "cell_type": "code",
   "execution_count": 4,
   "id": "771232c7",
   "metadata": {},
   "outputs": [
    {
     "name": "stdout",
     "output_type": "stream",
     "text": [
      "O tamanho da lista é 14, enquanto o tamanho do conjunto é 9\n"
     ]
    }
   ],
   "source": [
    "# Criando uma lista com valores repetidos\n",
    "lista = [1, 1, 3, 5, 6, 7, 7, 9, 9, 9, 10, 11, 12, 12]\n",
    "tamLista = len(lista)\n",
    "\n",
    "# Criando um conjunto a partir da lista (remove valores repetidos)\n",
    "conjunto = set(lista)\n",
    "tamConjunto = len(conjunto)\n",
    "\n",
    "# Imprimindo os tamanhos da lista e do conjunto\n",
    "print('O tamanho da lista é %d, enquanto o tamanho do conjunto é %d' %(tamLista, tamConjunto))"
   ]
  },
  {
   "cell_type": "markdown",
   "id": "224b24da",
   "metadata": {},
   "source": [
    "# Exercício 3"
   ]
  },
  {
   "cell_type": "markdown",
   "id": "dcd84c46",
   "metadata": {},
   "source": [
    "Crie um dicionário com 3 itens, onde as chaves são clientes de uma determinada loja e os valores são listas contendo produtos que esses clientes já consumiram. As listas podem ter tamanhos diverentes."
   ]
  },
  {
   "cell_type": "code",
   "execution_count": 5,
   "id": "e5e4adba",
   "metadata": {},
   "outputs": [
    {
     "name": "stdout",
     "output_type": "stream",
     "text": [
      "João consumiu: \n",
      "Café\n",
      "Pão na chapa\n",
      "\n",
      "\n",
      "Madalena consumiu: \n",
      "Capuccino\n",
      "Croissant\n",
      "Água\n",
      "\n",
      "\n",
      "Roberta consumiu: \n",
      "Misto quente\n",
      "\n",
      "\n"
     ]
    }
   ],
   "source": [
    "# Criando um dicionário de clientes e itens consumidos (Loja: Padaria)\n",
    "dicionario = {'João':['Café', 'Pão na chapa'], 'Madalena':['Capuccino', 'Croissant', 'Água'], 'Roberta':['Misto quente']}\n",
    "\n",
    "for item in dicionario.keys():\n",
    "    print('%s consumiu: ' % item)\n",
    "    for item in dicionario[item]:\n",
    "        print(item)\n",
    "    print('\\n')"
   ]
  }
 ],
 "metadata": {
  "kernelspec": {
   "display_name": "Python 3",
   "language": "python",
   "name": "python3"
  },
  "language_info": {
   "codemirror_mode": {
    "name": "ipython",
    "version": 3
   },
   "file_extension": ".py",
   "mimetype": "text/x-python",
   "name": "python",
   "nbconvert_exporter": "python",
   "pygments_lexer": "ipython3",
   "version": "3.8.8"
  }
 },
 "nbformat": 4,
 "nbformat_minor": 5
}
