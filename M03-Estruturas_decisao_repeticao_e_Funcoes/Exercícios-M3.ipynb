{
 "cells": [
  {
   "cell_type": "markdown",
   "id": "1d69fd34",
   "metadata": {},
   "source": [
    "# Michell Luiz Costalonga\n",
    "# Exercício 1"
   ]
  },
  {
   "cell_type": "markdown",
   "id": "733bda0c",
   "metadata": {},
   "source": [
    "Construa uma função que recebe uma lista de tamanho 5 como parâmetro. Essa função deve percorrer cada elemento dessa lista e verificar se o elemento é par ou não. Se ele for par, salvar ele em uma nova lista que deve ser retornada com todos os valores pares encontrados."
   ]
  },
  {
   "cell_type": "code",
   "execution_count": 1,
   "id": "bc34703e",
   "metadata": {},
   "outputs": [
    {
     "name": "stdout",
     "output_type": "stream",
     "text": [
      "Determinando os números pares da lista [4, 6, 8, 9, 10]\n",
      "Os números pares são: [4, 6, 8, 10]\n"
     ]
    }
   ],
   "source": [
    "# Criando uma função para encontrar valores pares em listas.\n",
    "def sePar(lista):\n",
    "    listaPar = []\n",
    "    for item in lista:\n",
    "        if (item % 2 == 0):\n",
    "            listaPar.append(item)\n",
    "        else:\n",
    "            continue\n",
    "    return listaPar\n",
    "\n",
    "# Criando uma lista com 5 elementos\n",
    "lista = [4, 6, 8, 9, 10]\n",
    "\n",
    "elementosPar = sePar(lista)\n",
    "print('Determinando os números pares da lista' ,end=' ')\n",
    "print(lista)\n",
    "print('Os números pares são:', end=' ')\n",
    "print(elementosPar)"
   ]
  },
  {
   "cell_type": "markdown",
   "id": "7b372367",
   "metadata": {},
   "source": [
    "# Exercício 2"
   ]
  },
  {
   "cell_type": "markdown",
   "id": "04e75d7b",
   "metadata": {},
   "source": [
    "Escreva um código que chama o módulo random. Dentro deste módulo utilize a função que gera números aleatórios inteiros para criar uma função customizada que pede ao usuário digitar a quantidade de sorteios que ele quer e roda sorteando essa quantidade de números. Alguns usuários podem não enteder que o input é um número e digitar por exemplo \"três\", o que geraria um erro no código. Então escreva essa função de maneira a tratar esse erro, enviando uma mensagem que ajude o usuário a resolver o problema."
   ]
  },
  {
   "cell_type": "code",
   "execution_count": 2,
   "id": "f8f86f02",
   "metadata": {},
   "outputs": [
    {
     "name": "stdout",
     "output_type": "stream",
     "text": [
      "Informe o número de sorteios que deseja realizar: 6\n",
      "Os números sorteados foram:  [41, 2, 2, 76, 9, 22]\n"
     ]
    }
   ],
   "source": [
    "import random as rd\n",
    "\n",
    "def sorteioNumero(num):\n",
    "    lista = []\n",
    "    for i in range(num):\n",
    "        lista.append(rd.randint(1,100))\n",
    "        i += 1\n",
    "    return lista\n",
    "\n",
    "verificador = True\n",
    "\n",
    "while (verificador == True):\n",
    "    try:\n",
    "        numSorteios = int(input('Informe o número de sorteios que deseja realizar: '))\n",
    "        verificador = False\n",
    "    except : \n",
    "        print('\\nO número informado deve ser inteiro.\\n')\n",
    "        continue\n",
    "\n",
    "# Determinando os números sorteados.\n",
    "numSorteados = sorteioNumero(numSorteios)\n",
    "\n",
    "# Imprimindo os números sorteados:\n",
    "if (numSorteios == 0):\n",
    "    print('Nenhum número foi sorteado')\n",
    "elif (numSorteios == 1):\n",
    "    print('O número sorteado foi: ', end=' ')\n",
    "    print(numSorteados)\n",
    "else:\n",
    "    print('Os números sorteados foram: ', end=' ')\n",
    "    print(numSorteados)"
   ]
  },
  {
   "cell_type": "markdown",
   "id": "fa3b531d",
   "metadata": {},
   "source": [
    "# Exercício 3"
   ]
  },
  {
   "cell_type": "markdown",
   "id": "983cee77",
   "metadata": {},
   "source": [
    "Crie uma classe cliente. Esse cliente deve possuir 2 atributos: nome e saldo; e dois métodos: depositar e sacar. Usando a classe, crie um cliente, utilize os métodos para depositar R$ 100,00 na conta do cliente, que deve começar com saldo 0 e depois do depósito apresentar um saldo 100. Na sequeência, faça um saque de 20 reais. Fique atento: o seu código deve impedir que o usuário saque mais do que ele tem em saldo."
   ]
  },
  {
   "cell_type": "code",
   "execution_count": 3,
   "id": "34212e8e",
   "metadata": {},
   "outputs": [],
   "source": [
    "# Definindo a classe \"Cliente\", suas propriedades e métodos.\n",
    "class Cliente:\n",
    "    def __init__(self, nome):\n",
    "        self.nome = nome\n",
    "        self.saldo = 0\n",
    "        print('Cliente criado com sucesso.')\n",
    "        print('O saldo de %s é: R$ %d' %(self.nome, self.saldo))\n",
    "    \n",
    "    def depositar(self, valor):\n",
    "        self.saldo += valor\n",
    "        print('O saldo atual é R$ %d ' %(self.saldo))\n",
    "    \n",
    "    def sacar(self, valor):\n",
    "        if (valor > self.saldo):\n",
    "            print('Operação não permitida. O valor informado é superior ao valor disponível em conta.')\n",
    "        else:\n",
    "            self.saldo -= valor\n",
    "            print('Você acabou de realizar um saque no valor de R$ %d' %valor)\n",
    "            print('O saldo atual é R$ %d ' %(self.saldo))"
   ]
  },
  {
   "cell_type": "code",
   "execution_count": 4,
   "id": "add88fca",
   "metadata": {},
   "outputs": [
    {
     "name": "stdout",
     "output_type": "stream",
     "text": [
      "Cliente criado com sucesso.\n",
      "O saldo de João é: R$ 0\n"
     ]
    }
   ],
   "source": [
    "# Criando um cliente com saldo zero\n",
    "cliente1 = Cliente('João')"
   ]
  },
  {
   "cell_type": "code",
   "execution_count": 5,
   "id": "1238b9a8",
   "metadata": {},
   "outputs": [
    {
     "name": "stdout",
     "output_type": "stream",
     "text": [
      "O saldo atual é R$ 100 \n"
     ]
    }
   ],
   "source": [
    "# Depositando um valor de R$ 100,00\n",
    "cliente1.depositar(100)"
   ]
  },
  {
   "cell_type": "code",
   "execution_count": 6,
   "id": "1ce4ab31",
   "metadata": {},
   "outputs": [
    {
     "name": "stdout",
     "output_type": "stream",
     "text": [
      "Você acabou de realizar um saque no valor de R$ 20\n",
      "O saldo atual é R$ 80 \n"
     ]
    }
   ],
   "source": [
    "# Sacando um valor de R$ 20,00\n",
    "cliente1.sacar(20)"
   ]
  },
  {
   "cell_type": "code",
   "execution_count": 7,
   "id": "b783837b",
   "metadata": {},
   "outputs": [
    {
     "name": "stdout",
     "output_type": "stream",
     "text": [
      "Operação não permitida. O valor informado é superior ao valor disponível em conta.\n"
     ]
    }
   ],
   "source": [
    "# Sacando um valor acima do saldo disponível\n",
    "cliente1.sacar(200)"
   ]
  }
 ],
 "metadata": {
  "kernelspec": {
   "display_name": "Python 3",
   "language": "python",
   "name": "python3"
  },
  "language_info": {
   "codemirror_mode": {
    "name": "ipython",
    "version": 3
   },
   "file_extension": ".py",
   "mimetype": "text/x-python",
   "name": "python",
   "nbconvert_exporter": "python",
   "pygments_lexer": "ipython3",
   "version": "3.8.8"
  }
 },
 "nbformat": 4,
 "nbformat_minor": 5
}
