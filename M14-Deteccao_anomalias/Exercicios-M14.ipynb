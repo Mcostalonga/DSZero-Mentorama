{
 "cells": [
  {
   "cell_type": "markdown",
   "metadata": {},
   "source": [
    "# Michell Luiz Costalonga\n",
    "\n",
    "# Exercícios - Módulo 14\n",
    "<br>\n",
    "\n",
    "## __Exercício: Detecção de Anomalias__\n",
    "\n",
    "<br>\n",
    "\n",
    "__1:__\n",
    "\n",
    "Utilizando a classe DetectorAnomalias criada ao longo do módulo, __vamos avaliar um detector de anomalias.__\n",
    "\n",
    "O dataset utilizado pode ser importado através da função getData. \n",
    "\n",
    "Nesse conjunto de dados, possuímos 6 variáveis explicativas, $X_1, .., X_6$ e uma variável com a marcação se a instância é uma anomalia ou não.\n",
    "\n",
    "Utilizando a __metodolodia__ discutida ao longo do módulo, __teste diferentes modelos (variando o limiar $\\epsilon$)__ a fim de encontrar o que __melhor fita os dados.__\n",
    "\n",
    "Justifique as escolhas do $\\epsilon$, bem como quais as métricas de performance abordadas. "
   ]
  },
  {
   "cell_type": "code",
   "execution_count": 1,
   "metadata": {},
   "outputs": [],
   "source": [
    "# Importando bibliotecas\n",
    "import pandas as pd \n",
    "import numpy as np\n",
    "import scipy.stats as st\n",
    "import matplotlib.pyplot as plt\n",
    "\n",
    "# Função para realizar a validação cruzada e separação dos dados\n",
    "from sklearn.model_selection import cross_val_score, GridSearchCV, KFold, train_test_split\n",
    "\n",
    "# Métricas de performance (Exercício de regressão logística)\n",
    "from sklearn.metrics import f1_score, confusion_matrix, accuracy_score, precision_score, recall_score\n",
    "\n",
    "# Algoritmo para classificação\n",
    "from sklearn.linear_model import LogisticRegression\n",
    "from sklearn.neighbors import KNeighborsClassifier\n",
    "from sklearn.ensemble import RandomForestClassifier\n",
    "\n",
    "# Pre processamento\n",
    "from sklearn.preprocessing import StandardScaler\n",
    "\n",
    "# Contar tempo\n",
    "import time\n",
    "\n",
    "# ignorar avisos\n",
    "import warnings\n",
    "warnings.filterwarnings('ignore')"
   ]
  },
  {
   "cell_type": "code",
   "execution_count": 2,
   "metadata": {},
   "outputs": [],
   "source": [
    "# Classe para detectar anomalias\n",
    "class DetectorAnomalias():\n",
    "    \n",
    "    def __init__(self, epsilon = 0.0001):\n",
    "        self.epsilon = epsilon\n",
    "        \n",
    "    def fit(self, X):\n",
    "        medias = X.mean(axis = 0)\n",
    "        desvios = X.std(axis = 0)\n",
    "        gaussianas = [st.norm(loc = m, scale = d) for m, d in zip(medias, desvios)]  \n",
    "        self.gaussianas = gaussianas\n",
    "        self.X = X\n",
    "        \n",
    "    def prob(self, x):\n",
    "        p = 1\n",
    "        for i in range(self.X.shape[1]):\n",
    "            gaussiana_i = self.gaussianas[i]\n",
    "            x_i = x[i]\n",
    "            p *= gaussiana_i.pdf(x_i)\n",
    "        return p\n",
    "    \n",
    "    def isAnomaly(self, x):\n",
    "        return int(np.where(self.prob(x) < self.epsilon, 0, 1))"
   ]
  },
  {
   "cell_type": "code",
   "execution_count": 3,
   "metadata": {},
   "outputs": [],
   "source": [
    "def getData():\n",
    "    return pd.read_csv(\"dataframe_anomalias_exercicio.csv\")"
   ]
  },
  {
   "cell_type": "code",
   "execution_count": 4,
   "metadata": {},
   "outputs": [
    {
     "data": {
      "text/html": [
       "<div>\n",
       "<style scoped>\n",
       "    .dataframe tbody tr th:only-of-type {\n",
       "        vertical-align: middle;\n",
       "    }\n",
       "\n",
       "    .dataframe tbody tr th {\n",
       "        vertical-align: top;\n",
       "    }\n",
       "\n",
       "    .dataframe thead th {\n",
       "        text-align: right;\n",
       "    }\n",
       "</style>\n",
       "<table border=\"1\" class=\"dataframe\">\n",
       "  <thead>\n",
       "    <tr style=\"text-align: right;\">\n",
       "      <th></th>\n",
       "      <th>x1</th>\n",
       "      <th>x2</th>\n",
       "      <th>x3</th>\n",
       "      <th>x4</th>\n",
       "      <th>x5</th>\n",
       "      <th>x6</th>\n",
       "      <th>anomalia</th>\n",
       "    </tr>\n",
       "  </thead>\n",
       "  <tbody>\n",
       "    <tr>\n",
       "      <th>0</th>\n",
       "      <td>7.731153</td>\n",
       "      <td>23.299155</td>\n",
       "      <td>-0.367453</td>\n",
       "      <td>4.715372</td>\n",
       "      <td>9.306179</td>\n",
       "      <td>16.780965</td>\n",
       "      <td>0.0</td>\n",
       "    </tr>\n",
       "    <tr>\n",
       "      <th>1</th>\n",
       "      <td>11.466833</td>\n",
       "      <td>16.943695</td>\n",
       "      <td>-0.245131</td>\n",
       "      <td>7.060311</td>\n",
       "      <td>10.462826</td>\n",
       "      <td>19.821289</td>\n",
       "      <td>0.0</td>\n",
       "    </tr>\n",
       "    <tr>\n",
       "      <th>2</th>\n",
       "      <td>11.501272</td>\n",
       "      <td>20.196011</td>\n",
       "      <td>1.206049</td>\n",
       "      <td>-4.957189</td>\n",
       "      <td>7.771262</td>\n",
       "      <td>19.100079</td>\n",
       "      <td>0.0</td>\n",
       "    </tr>\n",
       "    <tr>\n",
       "      <th>3</th>\n",
       "      <td>10.893921</td>\n",
       "      <td>16.072385</td>\n",
       "      <td>2.738045</td>\n",
       "      <td>-3.684228</td>\n",
       "      <td>7.373334</td>\n",
       "      <td>23.225524</td>\n",
       "      <td>0.0</td>\n",
       "    </tr>\n",
       "    <tr>\n",
       "      <th>4</th>\n",
       "      <td>10.091706</td>\n",
       "      <td>19.253894</td>\n",
       "      <td>0.996895</td>\n",
       "      <td>-9.504052</td>\n",
       "      <td>8.883988</td>\n",
       "      <td>17.903298</td>\n",
       "      <td>0.0</td>\n",
       "    </tr>\n",
       "    <tr>\n",
       "      <th>...</th>\n",
       "      <td>...</td>\n",
       "      <td>...</td>\n",
       "      <td>...</td>\n",
       "      <td>...</td>\n",
       "      <td>...</td>\n",
       "      <td>...</td>\n",
       "      <td>...</td>\n",
       "    </tr>\n",
       "    <tr>\n",
       "      <th>10095</th>\n",
       "      <td>11.192286</td>\n",
       "      <td>18.451987</td>\n",
       "      <td>-0.953650</td>\n",
       "      <td>-14.362996</td>\n",
       "      <td>10.875826</td>\n",
       "      <td>17.056541</td>\n",
       "      <td>0.0</td>\n",
       "    </tr>\n",
       "    <tr>\n",
       "      <th>10096</th>\n",
       "      <td>12.014177</td>\n",
       "      <td>19.461815</td>\n",
       "      <td>1.985099</td>\n",
       "      <td>-7.119190</td>\n",
       "      <td>11.079922</td>\n",
       "      <td>17.582755</td>\n",
       "      <td>0.0</td>\n",
       "    </tr>\n",
       "    <tr>\n",
       "      <th>10097</th>\n",
       "      <td>10.745460</td>\n",
       "      <td>18.175951</td>\n",
       "      <td>0.206037</td>\n",
       "      <td>-1.897015</td>\n",
       "      <td>9.888329</td>\n",
       "      <td>17.963324</td>\n",
       "      <td>0.0</td>\n",
       "    </tr>\n",
       "    <tr>\n",
       "      <th>10098</th>\n",
       "      <td>9.893969</td>\n",
       "      <td>22.333270</td>\n",
       "      <td>-1.465981</td>\n",
       "      <td>4.137382</td>\n",
       "      <td>7.690620</td>\n",
       "      <td>21.570097</td>\n",
       "      <td>0.0</td>\n",
       "    </tr>\n",
       "    <tr>\n",
       "      <th>10099</th>\n",
       "      <td>11.563246</td>\n",
       "      <td>20.777121</td>\n",
       "      <td>-1.145317</td>\n",
       "      <td>-4.650515</td>\n",
       "      <td>11.857622</td>\n",
       "      <td>19.424881</td>\n",
       "      <td>0.0</td>\n",
       "    </tr>\n",
       "  </tbody>\n",
       "</table>\n",
       "<p>10100 rows × 7 columns</p>\n",
       "</div>"
      ],
      "text/plain": [
       "              x1         x2        x3         x4         x5         x6  \\\n",
       "0       7.731153  23.299155 -0.367453   4.715372   9.306179  16.780965   \n",
       "1      11.466833  16.943695 -0.245131   7.060311  10.462826  19.821289   \n",
       "2      11.501272  20.196011  1.206049  -4.957189   7.771262  19.100079   \n",
       "3      10.893921  16.072385  2.738045  -3.684228   7.373334  23.225524   \n",
       "4      10.091706  19.253894  0.996895  -9.504052   8.883988  17.903298   \n",
       "...          ...        ...       ...        ...        ...        ...   \n",
       "10095  11.192286  18.451987 -0.953650 -14.362996  10.875826  17.056541   \n",
       "10096  12.014177  19.461815  1.985099  -7.119190  11.079922  17.582755   \n",
       "10097  10.745460  18.175951  0.206037  -1.897015   9.888329  17.963324   \n",
       "10098   9.893969  22.333270 -1.465981   4.137382   7.690620  21.570097   \n",
       "10099  11.563246  20.777121 -1.145317  -4.650515  11.857622  19.424881   \n",
       "\n",
       "       anomalia  \n",
       "0           0.0  \n",
       "1           0.0  \n",
       "2           0.0  \n",
       "3           0.0  \n",
       "4           0.0  \n",
       "...         ...  \n",
       "10095       0.0  \n",
       "10096       0.0  \n",
       "10097       0.0  \n",
       "10098       0.0  \n",
       "10099       0.0  \n",
       "\n",
       "[10100 rows x 7 columns]"
      ]
     },
     "execution_count": 4,
     "metadata": {},
     "output_type": "execute_result"
    }
   ],
   "source": [
    "df = getData()\n",
    "df"
   ]
  },
  {
   "cell_type": "code",
   "execution_count": 5,
   "metadata": {},
   "outputs": [
    {
     "data": {
      "text/plain": [
       "0.0    10046\n",
       "1.0       54\n",
       "Name: anomalia, dtype: int64"
      ]
     },
     "execution_count": 5,
     "metadata": {},
     "output_type": "execute_result"
    }
   ],
   "source": [
    "df.anomalia.value_counts()"
   ]
  },
  {
   "cell_type": "markdown",
   "metadata": {},
   "source": [
    "Para usarmos métricas como Precision, Recall e a F1 Score, precisaremos de valores *true positive*. Dessa forma, inverteremos os valores 0 e 1. Dessa forma:\n",
    "\n",
    "- 0: representa casos em que há anomalia\n",
    "- 1: representa casos em que não há anomalia"
   ]
  },
  {
   "cell_type": "code",
   "execution_count": 6,
   "metadata": {},
   "outputs": [],
   "source": [
    "# Trocando 1 por 0 e 0 por 1\n",
    "df.replace({'anomalia': {0: 1, 1: 0}}, inplace=True)"
   ]
  },
  {
   "cell_type": "code",
   "execution_count": 7,
   "metadata": {},
   "outputs": [
    {
     "data": {
      "text/plain": [
       "1.0    10046\n",
       "0.0       54\n",
       "Name: anomalia, dtype: int64"
      ]
     },
     "execution_count": 7,
     "metadata": {},
     "output_type": "execute_result"
    }
   ],
   "source": [
    "df.anomalia.value_counts()"
   ]
  },
  {
   "cell_type": "code",
   "execution_count": 8,
   "metadata": {},
   "outputs": [
    {
     "data": {
      "text/plain": [
       "((10046, 7), (54, 7))"
      ]
     },
     "execution_count": 8,
     "metadata": {},
     "output_type": "execute_result"
    }
   ],
   "source": [
    "# Separando os dados que apresentam anomalia, dos que não apresentam\n",
    "\n",
    "df_normal = df[df.anomalia == 1]\n",
    "df_anomalia = df[df.anomalia == 0]\n",
    "\n",
    "df_normal.shape, df_anomalia.shape"
   ]
  },
  {
   "cell_type": "code",
   "execution_count": 9,
   "metadata": {},
   "outputs": [],
   "source": [
    "# Função para os dados de treino, validação e teste\n",
    "def separarDados(df_, porc):\n",
    "    \n",
    "    # Especificando o número de linhas para o dataframe A\n",
    "    ponto_separacao = round(len(df_) * porc)\n",
    "    \n",
    "    # Separando o dataframe de entrada (df_) em dois dataframes.\n",
    "    # df_A possuirá \"ponto_separacao\" linhas e df_B possuirá o restante das\n",
    "    # linhas de df_ a partir de \"ponto_separacao\"\n",
    "    df_A = df_.iloc[:ponto_separacao].reset_index(drop=True)\n",
    "    df_B = df_.iloc[ponto_separacao:].reset_index(drop=True)\n",
    "    \n",
    "    return df_A, df_B\n",
    "\n",
    "# Função para juntar os dados de validação/teste normais e com anomalia\n",
    "def juntarDados(df_1, df_2):\n",
    "    df_saida = df_1.append(df_2).reset_index(drop=True)\n",
    "    \n",
    "    return df_saida\n",
    "\n",
    "# Função para separar as variáveis independentes da variável independente\n",
    "# Função para separar as variáveis independentes da variável dependente.\n",
    "def dividirVDVI(df_):\n",
    "    verificador = True\n",
    "    # Loop para separar as variáveis independentes da variável dependente\n",
    "    for item in df_.columns:\n",
    "        if (verificador):\n",
    "            if (item != 'anomalia'):\n",
    "                X = df_[item].values.reshape(-1,1)\n",
    "                verificador = False\n",
    "            else:\n",
    "                Y = df_[item].values.reshape(-1,1)\n",
    "                verificador = False\n",
    "        else:\n",
    "            if (item != 'anomalia'):\n",
    "                X = np.c_[X, df_[item].values.reshape(-1,1)]\n",
    "            else:\n",
    "                Y = df_[item].values.reshape(-1,1)\n",
    "            \n",
    "    # Transformando a lista para um numpy array\n",
    "    \n",
    "    return X, Y # Dados de saída"
   ]
  },
  {
   "cell_type": "code",
   "execution_count": 10,
   "metadata": {},
   "outputs": [
    {
     "name": "stdout",
     "output_type": "stream",
     "text": [
      "Dataframe de treino: 8037 linhas e 7 colunas.\n",
      "Dataframe de validação: 1031 linhas e 7 colunas.\n",
      "Dataframe de Teste: 1032 linhas e 7 colunas.\n"
     ]
    }
   ],
   "source": [
    "# Criação dos dataframes com os dados de treino, validação e teste.\n",
    "df_n_treino, df_val_tes = separarDados(df_ = df_normal, porc = 0.8)\n",
    "df_n_validacao, df_n_teste = separarDados(df_ = df_val_tes, porc = 0.5)\n",
    "df_a_validacao, df_a_teste = separarDados(df_ = df_anomalia, porc = 0.5)\n",
    "\n",
    "df_validacao = juntarDados(df_1 = df_n_validacao, df_2 = df_a_validacao)\n",
    "df_teste = juntarDados(df_1 = df_n_teste, df_2 = df_a_teste)\n",
    "\n",
    "# Os dataframes que utilizaremos serão os seguintes:\n",
    "print('Dataframe de treino: %d linhas e %d colunas.' %(df_n_treino.shape[0], df_n_treino.shape[1]))\n",
    "print('Dataframe de validação: %d linhas e %d colunas.' %(df_validacao.shape[0], df_validacao.shape[1]))\n",
    "print('Dataframe de Teste: %d linhas e %d colunas.' %(df_teste.shape[0], df_teste.shape[1]))"
   ]
  },
  {
   "cell_type": "markdown",
   "metadata": {},
   "source": [
    "Depois de separar os dados, usaremos a função \"dividirVDVI\" para separar a variável dependente das variáveis independentes."
   ]
  },
  {
   "cell_type": "code",
   "execution_count": 11,
   "metadata": {},
   "outputs": [],
   "source": [
    "X_treino, y_treino = dividirVDVI(df_n_treino)\n",
    "X_val, y_val = dividirVDVI(df_validacao)\n",
    "X_teste, y_teste = dividirVDVI(df_teste)"
   ]
  },
  {
   "cell_type": "markdown",
   "metadata": {},
   "source": [
    "Com as variáveis separadas, iremos instanciar o modelo \"DetectorAnomalias\" e verificar qual o valor de epsilon para os dados apresentados."
   ]
  },
  {
   "cell_type": "code",
   "execution_count": 12,
   "metadata": {},
   "outputs": [],
   "source": [
    "# Instanciando a classe DectectorAnomalias (o valor de epsilon foi obtido a partir de np.min logo abaixo)\n",
    "detector = DetectorAnomalias(epsilon = 7e-9)\n",
    "\n",
    "# Ajustando o modelo aos dados de treino\n",
    "detector.fit(X_treino)"
   ]
  },
  {
   "cell_type": "code",
   "execution_count": 13,
   "metadata": {},
   "outputs": [],
   "source": [
    "# Probabilidade para cada linha do dataframe\n",
    "probab = []\n",
    "for item in X_treino:\n",
    "    probab.append(detector.prob(item))"
   ]
  },
  {
   "cell_type": "code",
   "execution_count": 14,
   "metadata": {},
   "outputs": [
    {
     "data": {
      "text/plain": [
       "(7.657363146106533e-09, 7.275090373109252e-05)"
      ]
     },
     "execution_count": 14,
     "metadata": {},
     "output_type": "execute_result"
    }
   ],
   "source": [
    "# Valores mínimo e máximo da probabilidade dos dados de treino.\n",
    "np.min(probab), np.max(probab)"
   ]
  },
  {
   "cell_type": "markdown",
   "metadata": {},
   "source": [
    "Conhecendo o valor mínimo de probabilidade para os dados de treino, podemos configurar o parâmetro epsilon. Nesse caso, foi considerado o valor de $\\varepsilon$ = $7 \\times 10^{-9}$. Como os dados de treino só possuem dados sem anomalia, o valor predito deve retornar uma contagem de valores 1 igual a zero."
   ]
  },
  {
   "cell_type": "code",
   "execution_count": 15,
   "metadata": {},
   "outputs": [],
   "source": [
    "y_pred = []\n",
    "for item in X_treino:\n",
    "    y_pred.append(detector.isAnomaly(item))"
   ]
  },
  {
   "cell_type": "code",
   "execution_count": 16,
   "metadata": {},
   "outputs": [
    {
     "name": "stdout",
     "output_type": "stream",
     "text": [
      "Accuracy score: 1.0\n",
      "Precision score: 1.0\n",
      "Recall score: 1.0\n",
      "F1 score: 1.0\n"
     ]
    },
    {
     "data": {
      "text/html": [
       "<div>\n",
       "<style scoped>\n",
       "    .dataframe tbody tr th:only-of-type {\n",
       "        vertical-align: middle;\n",
       "    }\n",
       "\n",
       "    .dataframe tbody tr th {\n",
       "        vertical-align: top;\n",
       "    }\n",
       "\n",
       "    .dataframe thead th {\n",
       "        text-align: right;\n",
       "    }\n",
       "</style>\n",
       "<table border=\"1\" class=\"dataframe\">\n",
       "  <thead>\n",
       "    <tr style=\"text-align: right;\">\n",
       "      <th></th>\n",
       "      <th>Sem anom. (P)</th>\n",
       "    </tr>\n",
       "  </thead>\n",
       "  <tbody>\n",
       "    <tr>\n",
       "      <th>Sem anom. (R)</th>\n",
       "      <td>8037</td>\n",
       "    </tr>\n",
       "  </tbody>\n",
       "</table>\n",
       "</div>"
      ],
      "text/plain": [
       "               Sem anom. (P)\n",
       "Sem anom. (R)           8037"
      ]
     },
     "execution_count": 16,
     "metadata": {},
     "output_type": "execute_result"
    }
   ],
   "source": [
    "accuracy = accuracy_score(y_true = y_treino, y_pred = y_pred)\n",
    "precision = precision_score(y_true = y_treino, y_pred = y_pred)\n",
    "recall = recall_score(y_true = y_treino, y_pred = y_pred)\n",
    "f1 = f1_score(y_true = y_treino, y_pred = y_pred)\n",
    "cm = confusion_matrix(y_true = y_treino, y_pred = y_pred)\n",
    "df_cm = pd.DataFrame(np.c_[cm],\n",
    "                     columns = ['Sem anom. (P)'],\n",
    "                     index = ['Sem anom. (R)'])\n",
    "\n",
    "print('Accuracy score: %s' %accuracy)\n",
    "print('Precision score: %s' %precision)\n",
    "print('Recall score: %s' %recall)\n",
    "print('F1 score: %s' %f1)\n",
    "df_cm"
   ]
  },
  {
   "cell_type": "markdown",
   "metadata": {},
   "source": [
    "Com os scores acima, vemos que o modelo se ajusta bem aos dados de treino, identificando todos os casos sem anomalias. Antes de determinar o melhor valor de epsilon para o modelo, iremos aplicar o modelo aos dados de validação e teste e comparar o valor das métricas apresentadas."
   ]
  },
  {
   "cell_type": "code",
   "execution_count": 17,
   "metadata": {},
   "outputs": [
    {
     "name": "stdout",
     "output_type": "stream",
     "text": [
      "Accuracy score: 1.0\n",
      "Precision score: 1.0\n",
      "Recall score: 1.0\n",
      "F1 score: 1.0\n"
     ]
    },
    {
     "data": {
      "text/html": [
       "<div>\n",
       "<style scoped>\n",
       "    .dataframe tbody tr th:only-of-type {\n",
       "        vertical-align: middle;\n",
       "    }\n",
       "\n",
       "    .dataframe tbody tr th {\n",
       "        vertical-align: top;\n",
       "    }\n",
       "\n",
       "    .dataframe thead th {\n",
       "        text-align: right;\n",
       "    }\n",
       "</style>\n",
       "<table border=\"1\" class=\"dataframe\">\n",
       "  <thead>\n",
       "    <tr style=\"text-align: right;\">\n",
       "      <th></th>\n",
       "      <th>Com anom. (P)</th>\n",
       "      <th>Sem anom. (P)</th>\n",
       "    </tr>\n",
       "  </thead>\n",
       "  <tbody>\n",
       "    <tr>\n",
       "      <th>Com anom. (R)</th>\n",
       "      <td>27</td>\n",
       "      <td>0</td>\n",
       "    </tr>\n",
       "    <tr>\n",
       "      <th>Sem anom. (R)</th>\n",
       "      <td>0</td>\n",
       "      <td>1004</td>\n",
       "    </tr>\n",
       "  </tbody>\n",
       "</table>\n",
       "</div>"
      ],
      "text/plain": [
       "               Com anom. (P)  Sem anom. (P)\n",
       "Com anom. (R)             27              0\n",
       "Sem anom. (R)              0           1004"
      ]
     },
     "execution_count": 17,
     "metadata": {},
     "output_type": "execute_result"
    }
   ],
   "source": [
    "y_pred_val = []\n",
    "for item in X_val:\n",
    "    y_pred_val.append(detector.isAnomaly(item))\n",
    "    \n",
    "accuracy = accuracy_score(y_true = y_val, y_pred = y_pred_val)\n",
    "precision = precision_score(y_true = y_val, y_pred = y_pred_val)\n",
    "recall = recall_score(y_true = y_val, y_pred = y_pred_val)\n",
    "f1 = f1_score(y_true = y_treino, y_pred = y_pred)\n",
    "cm = confusion_matrix(y_true = y_val, y_pred = y_pred_val)\n",
    "df_cm = pd.DataFrame(np.c_[cm],\n",
    "                     columns = ['Com anom. (P)', 'Sem anom. (P)'],\n",
    "                     index = ['Com anom. (R)', 'Sem anom. (R)'])\n",
    "\n",
    "print('Accuracy score: %s' %accuracy)\n",
    "print('Precision score: %s' %precision)\n",
    "print('Recall score: %s' %recall)\n",
    "print('F1 score: %s' %f1)\n",
    "df_cm"
   ]
  },
  {
   "cell_type": "markdown",
   "metadata": {},
   "source": [
    "Os resultados acima indicam que o modelo apresenta um bom ajuste aos dados de validação. Por último aplicaremos o modelo aos dados de teste."
   ]
  },
  {
   "cell_type": "code",
   "execution_count": 18,
   "metadata": {},
   "outputs": [
    {
     "name": "stdout",
     "output_type": "stream",
     "text": [
      "Accuracy score: 0.998062015503876\n",
      "Precision score: 0.9980139026812314\n",
      "Recall score: 1.0\n",
      "F1 score: 0.9990059642147118\n"
     ]
    },
    {
     "data": {
      "text/html": [
       "<div>\n",
       "<style scoped>\n",
       "    .dataframe tbody tr th:only-of-type {\n",
       "        vertical-align: middle;\n",
       "    }\n",
       "\n",
       "    .dataframe tbody tr th {\n",
       "        vertical-align: top;\n",
       "    }\n",
       "\n",
       "    .dataframe thead th {\n",
       "        text-align: right;\n",
       "    }\n",
       "</style>\n",
       "<table border=\"1\" class=\"dataframe\">\n",
       "  <thead>\n",
       "    <tr style=\"text-align: right;\">\n",
       "      <th></th>\n",
       "      <th>Com anom. (P)</th>\n",
       "      <th>Sem anom. (P)</th>\n",
       "    </tr>\n",
       "  </thead>\n",
       "  <tbody>\n",
       "    <tr>\n",
       "      <th>Com anom. (R)</th>\n",
       "      <td>25</td>\n",
       "      <td>2</td>\n",
       "    </tr>\n",
       "    <tr>\n",
       "      <th>Sem anom. (R)</th>\n",
       "      <td>0</td>\n",
       "      <td>1005</td>\n",
       "    </tr>\n",
       "  </tbody>\n",
       "</table>\n",
       "</div>"
      ],
      "text/plain": [
       "               Com anom. (P)  Sem anom. (P)\n",
       "Com anom. (R)             25              2\n",
       "Sem anom. (R)              0           1005"
      ]
     },
     "execution_count": 18,
     "metadata": {},
     "output_type": "execute_result"
    }
   ],
   "source": [
    "y_pred_teste = []\n",
    "for item in X_teste:\n",
    "    y_pred_teste.append(detector.isAnomaly(item))\n",
    "    \n",
    "accuracy = accuracy_score(y_true = y_teste, y_pred = y_pred_teste)\n",
    "precision = precision_score(y_true = y_teste, y_pred = y_pred_teste)\n",
    "recall = recall_score(y_true = y_teste, y_pred = y_pred_teste)\n",
    "f1 = f1_score(y_true = y_teste, y_pred = y_pred_teste)\n",
    "cm = confusion_matrix(y_true = y_teste, y_pred = y_pred_teste)\n",
    "df_cm = pd.DataFrame(np.c_[cm],\n",
    "                     columns = ['Com anom. (P)', 'Sem anom. (P)'],\n",
    "                     index = ['Com anom. (R)', 'Sem anom. (R)'])\n",
    "\n",
    "print('Accuracy score: %s' %accuracy)\n",
    "print('Precision score: %s' %precision)\n",
    "print('Recall score: %s' %recall)\n",
    "print('F1 score: %s' %f1)\n",
    "df_cm"
   ]
  },
  {
   "cell_type": "markdown",
   "metadata": {},
   "source": [
    "Vemos que o epsilon utilizado permite a identificação de maneira eficiente de casos com e sem anomalia. Entretanto, para os dados de teste, vemos que houveram 2 falsos negativos (2 casos em que havia anomalia, mas foram identificados sem anomalia). Com isso em mente, tentaremos obter um valor de epsilon para maximizar o valor de F1 score, que é a métrica escolhida, uma vez que não sabemos o peso de falsos positivos e falsos negativos. \n",
    "\n",
    "Para isso, inverteremos os conjuntos de dados. Os dados de teste serão usados como dados de validação, enquanto os dados de validação passarão a ser os dados de teste."
   ]
  },
  {
   "cell_type": "code",
   "execution_count": 19,
   "metadata": {},
   "outputs": [],
   "source": [
    "df_validacao = juntarDados(df_1 = df_n_teste, df_2 = df_a_teste)\n",
    "df_teste = juntarDados(df_1 = df_n_validacao, df_2 = df_a_validacao)\n",
    "\n",
    "X_val, y_val = dividirVDVI(df_validacao)\n",
    "X_teste, y_teste = dividirVDVI(df_teste)"
   ]
  },
  {
   "cell_type": "markdown",
   "metadata": {},
   "source": [
    "Como vimos anteriormente, para o caso em questão, um bom valor de epsilon para começar é aquele próximo do menor valor de probabilidade obtido dos dados de treino. Com isso em mente, a classe DetectarAnomalia foi modificada para obter esse valor após o ajuste de dados através da função \"definirEpsilon\". Além disso, foi incluída uma função para fornecer a lista dos valores preditos a partir do modelo ajustado, chamada \"predict\". Por último, para obter o valor ótimo de epsilon, usaremos a função \"variarEpsilon\" para atribuir valores e, posteriormente compararmos os resultados. A nova classe foi chamada de \"DetectarAnomalia_mod\"."
   ]
  },
  {
   "cell_type": "code",
   "execution_count": 20,
   "metadata": {},
   "outputs": [],
   "source": [
    "class DetectarAnomalia_mod():\n",
    "    \n",
    "    def __init__(self, epsilon = 0.0001):\n",
    "        self.epsilon = epsilon\n",
    "        \n",
    "    def fit(self, X):\n",
    "        medias = X.mean(axis = 0)\n",
    "        desvios = X.std(axis = 0)\n",
    "        gaussianas = [st.norm(loc = m, scale = d) for m, d in zip(medias, desvios)]  \n",
    "        self.gaussianas = gaussianas\n",
    "        self.X = X\n",
    "        \n",
    "    def definirEpsilon(self):\n",
    "        \n",
    "        self.lista_prob = []\n",
    "        \n",
    "        for item in self.X:\n",
    "            p = 1\n",
    "            x = item\n",
    "            for i in range(self.X.shape[1]):\n",
    "                gaussiana_i = self.gaussianas[i]\n",
    "                x_i = x[i]\n",
    "                p *= gaussiana_i.pdf(x_i)\n",
    "            self.lista_prob.append(p)\n",
    "        \n",
    "        prob_min = np.min(self.lista_prob)\n",
    "        \n",
    "        if (self.epsilon > prob_min):\n",
    "            self.epsilon = prob_min * 0.9999       \n",
    "    \n",
    "    def prob(self, x):\n",
    "        p = 1\n",
    "        for i in range(self.X.shape[1]):\n",
    "            gaussiana_i = self.gaussianas[i]\n",
    "            x_i = x[i]\n",
    "            p *= gaussiana_i.pdf(x_i)\n",
    "        return p\n",
    "    \n",
    "    def variarEpsilon(self, epsilon):\n",
    "        self.epsilon = epsilon\n",
    "    \n",
    "    def predict(self, X):\n",
    "        lista_ypred = []\n",
    "        for item in X:\n",
    "            lista_ypred.append(self.isAnomaly(item))\n",
    "        return np.array(lista_ypred)\n",
    "    \n",
    "    def isAnomaly(self, x):\n",
    "        return int(np.where(self.prob(x) < self.epsilon, 0, 1))"
   ]
  },
  {
   "cell_type": "code",
   "execution_count": 21,
   "metadata": {},
   "outputs": [],
   "source": [
    "# Instanciando a classe\n",
    "det = DetectarAnomalia_mod()\n",
    "\n",
    "# Treinando o modelo\n",
    "det.fit(X_treino)\n",
    "\n",
    "# Definindo um valor de epsilon\n",
    "det.definirEpsilon()"
   ]
  },
  {
   "cell_type": "markdown",
   "metadata": {},
   "source": [
    "Perceba que para a classe modificada, não é necessário fornecer um valor de epsilon ao instanciar a mesma. O valor é definido ao usara função \"definirEpsilon\". A partir desse valor, criaremos um intervalo onde o valor máximo de epsilon é 15% maior que o valor inicial e o valor mínimo é 15% menor que o valor inicial."
   ]
  },
  {
   "cell_type": "code",
   "execution_count": 22,
   "metadata": {},
   "outputs": [],
   "source": [
    "# Faixa de valores para epsilon: dentro desse intervalo, serão testados 100 valores.\n",
    "faixa_epsilon = np.linspace(1.15 * det.epsilon, 0.85 * det.epsilon, 100)\n",
    "\n",
    "# Listas para armazenar os valores de F1 score para os dados de validação.\n",
    "lista_f1_val = []\n",
    "lista_epsilon = []\n",
    "\n",
    "for item in faixa_epsilon:\n",
    "\n",
    "    det.variarEpsilon(item)\n",
    "    y_pred_val = det.predict(X_val)\n",
    "    \n",
    "    lista_epsilon.append(det.epsilon)\n",
    "    lista_f1_val.append(f1_score(y_true = y_val, y_pred = y_pred_val))\n",
    "    \n",
    "    df_comp = pd.DataFrame(np.c_[lista_epsilon, lista_f1_val],\n",
    "                           columns = ['Epsilon', 'F1 Score'])"
   ]
  },
  {
   "cell_type": "code",
   "execution_count": 23,
   "metadata": {},
   "outputs": [
    {
     "data": {
      "text/html": [
       "<div>\n",
       "<style scoped>\n",
       "    .dataframe tbody tr th:only-of-type {\n",
       "        vertical-align: middle;\n",
       "    }\n",
       "\n",
       "    .dataframe tbody tr th {\n",
       "        vertical-align: top;\n",
       "    }\n",
       "\n",
       "    .dataframe thead th {\n",
       "        text-align: right;\n",
       "    }\n",
       "</style>\n",
       "<table border=\"1\" class=\"dataframe\">\n",
       "  <thead>\n",
       "    <tr style=\"text-align: right;\">\n",
       "      <th></th>\n",
       "      <th>Epsilon</th>\n",
       "      <th>F1 Score</th>\n",
       "    </tr>\n",
       "  </thead>\n",
       "  <tbody>\n",
       "    <tr>\n",
       "      <th>0</th>\n",
       "      <td>8.805087e-09</td>\n",
       "      <td>0.999004</td>\n",
       "    </tr>\n",
       "    <tr>\n",
       "      <th>1</th>\n",
       "      <td>8.781885e-09</td>\n",
       "      <td>0.999004</td>\n",
       "    </tr>\n",
       "    <tr>\n",
       "      <th>2</th>\n",
       "      <td>8.758683e-09</td>\n",
       "      <td>0.999004</td>\n",
       "    </tr>\n",
       "    <tr>\n",
       "      <th>3</th>\n",
       "      <td>8.735482e-09</td>\n",
       "      <td>0.999004</td>\n",
       "    </tr>\n",
       "    <tr>\n",
       "      <th>4</th>\n",
       "      <td>8.712280e-09</td>\n",
       "      <td>0.999004</td>\n",
       "    </tr>\n",
       "  </tbody>\n",
       "</table>\n",
       "</div>"
      ],
      "text/plain": [
       "        Epsilon  F1 Score\n",
       "0  8.805087e-09  0.999004\n",
       "1  8.781885e-09  0.999004\n",
       "2  8.758683e-09  0.999004\n",
       "3  8.735482e-09  0.999004\n",
       "4  8.712280e-09  0.999004"
      ]
     },
     "execution_count": 23,
     "metadata": {},
     "output_type": "execute_result"
    }
   ],
   "source": [
    "df_comp.head()"
   ]
  },
  {
   "cell_type": "code",
   "execution_count": 24,
   "metadata": {},
   "outputs": [
    {
     "name": "stdout",
     "output_type": "stream",
     "text": [
      "Epsilon = 7.38977659096584e-09 apresentou um F1 score = 0.9995027349577325\n"
     ]
    }
   ],
   "source": [
    "best_ep = df_comp['Epsilon'].iloc[df_comp.index[df_comp['F1 Score'] == df_comp['F1 Score'].max()][0]]\n",
    "print('Epsilon = %s apresentou um F1 score = %s' %(str(best_ep), str(df_comp['F1 Score'].max())))"
   ]
  },
  {
   "cell_type": "markdown",
   "metadata": {},
   "source": [
    "Considerando o valor ótimo para epsilon encontrado acima, iremos comparar os resultados com o primeiro caso, com $\\varepsilon$ = $7 \\times 10^{-9}$."
   ]
  },
  {
   "cell_type": "code",
   "execution_count": 25,
   "metadata": {},
   "outputs": [
    {
     "name": "stdout",
     "output_type": "stream",
     "text": [
      "-- F1 score -- \n",
      "Treino: 1.0 \n",
      "Validação: 0.9995027349577325 \n",
      "Teste: 1.0\n",
      "\n"
     ]
    }
   ],
   "source": [
    "det.variarEpsilon(best_ep)\n",
    "y_pred_treino = det.predict(X_treino)\n",
    "y_pred_val = det.predict(X_val)\n",
    "y_pred_teste = det.predict(X_teste)\n",
    "\n",
    "f1_treino = f1_score(y_true = y_treino, y_pred = y_pred_treino)\n",
    "f1_val = f1_score(y_true = y_val, y_pred = y_pred_val)\n",
    "f1_teste = f1_score(y_true = y_teste, y_pred = y_pred_teste)\n",
    "\n",
    "cm_treino = confusion_matrix(y_true = y_treino, y_pred = y_pred_treino)\n",
    "cm_val = confusion_matrix(y_true = y_val, y_pred = y_pred_val)\n",
    "cm_teste = confusion_matrix(y_true = y_teste, y_pred = y_pred_teste)\n",
    "\n",
    "print('-- F1 score -- \\nTreino: %s \\nValidação: %s \\nTeste: %s' %(str(f1_treino), str(f1_val), str(f1_teste)), end='\\n\\n')"
   ]
  },
  {
   "cell_type": "markdown",
   "metadata": {},
   "source": [
    "Lembrando que o dataset de validação é o dataset de treino do primeiro caso, vemos que há um aumento no coeficiente F1, uma vez que foi reduzida a quantidade em uma unidade de falsos negativos, como é mostrado na matriz de confusão abaixo."
   ]
  },
  {
   "cell_type": "code",
   "execution_count": 26,
   "metadata": {},
   "outputs": [
    {
     "name": "stdout",
     "output_type": "stream",
     "text": [
      "Caso ótimo: epsilon = 7.38977659096584e-09\n"
     ]
    },
    {
     "data": {
      "text/html": [
       "<div>\n",
       "<style scoped>\n",
       "    .dataframe tbody tr th:only-of-type {\n",
       "        vertical-align: middle;\n",
       "    }\n",
       "\n",
       "    .dataframe tbody tr th {\n",
       "        vertical-align: top;\n",
       "    }\n",
       "\n",
       "    .dataframe thead th {\n",
       "        text-align: right;\n",
       "    }\n",
       "</style>\n",
       "<table border=\"1\" class=\"dataframe\">\n",
       "  <thead>\n",
       "    <tr style=\"text-align: right;\">\n",
       "      <th></th>\n",
       "      <th>Com anom. (P)</th>\n",
       "      <th>Sem anom. (P)</th>\n",
       "    </tr>\n",
       "  </thead>\n",
       "  <tbody>\n",
       "    <tr>\n",
       "      <th>Com anom. (R)</th>\n",
       "      <td>26</td>\n",
       "      <td>1</td>\n",
       "    </tr>\n",
       "    <tr>\n",
       "      <th>Sem anom. (R)</th>\n",
       "      <td>0</td>\n",
       "      <td>1005</td>\n",
       "    </tr>\n",
       "  </tbody>\n",
       "</table>\n",
       "</div>"
      ],
      "text/plain": [
       "               Com anom. (P)  Sem anom. (P)\n",
       "Com anom. (R)             26              1\n",
       "Sem anom. (R)              0           1005"
      ]
     },
     "execution_count": 26,
     "metadata": {},
     "output_type": "execute_result"
    }
   ],
   "source": [
    "df_cm_val = pd.DataFrame(np.c_[cm_val],\n",
    "                     columns = ['Com anom. (P)', 'Sem anom. (P)'],\n",
    "                     index = ['Com anom. (R)', 'Sem anom. (R)'])\n",
    "\n",
    "print('Caso ótimo: epsilon = 7.38977659096584e-09')\n",
    "df_cm_val"
   ]
  },
  {
   "cell_type": "code",
   "execution_count": 27,
   "metadata": {},
   "outputs": [
    {
     "name": "stdout",
     "output_type": "stream",
     "text": [
      "Primeiro caso: epsilon = 7e-09\n"
     ]
    },
    {
     "data": {
      "text/html": [
       "<div>\n",
       "<style scoped>\n",
       "    .dataframe tbody tr th:only-of-type {\n",
       "        vertical-align: middle;\n",
       "    }\n",
       "\n",
       "    .dataframe tbody tr th {\n",
       "        vertical-align: top;\n",
       "    }\n",
       "\n",
       "    .dataframe thead th {\n",
       "        text-align: right;\n",
       "    }\n",
       "</style>\n",
       "<table border=\"1\" class=\"dataframe\">\n",
       "  <thead>\n",
       "    <tr style=\"text-align: right;\">\n",
       "      <th></th>\n",
       "      <th>Com anom. (P)</th>\n",
       "      <th>Sem anom. (P)</th>\n",
       "    </tr>\n",
       "  </thead>\n",
       "  <tbody>\n",
       "    <tr>\n",
       "      <th>Com anom. (R)</th>\n",
       "      <td>25</td>\n",
       "      <td>2</td>\n",
       "    </tr>\n",
       "    <tr>\n",
       "      <th>Sem anom. (R)</th>\n",
       "      <td>0</td>\n",
       "      <td>1005</td>\n",
       "    </tr>\n",
       "  </tbody>\n",
       "</table>\n",
       "</div>"
      ],
      "text/plain": [
       "               Com anom. (P)  Sem anom. (P)\n",
       "Com anom. (R)             25              2\n",
       "Sem anom. (R)              0           1005"
      ]
     },
     "execution_count": 27,
     "metadata": {},
     "output_type": "execute_result"
    }
   ],
   "source": [
    "print('Primeiro caso: epsilon = 7e-09')\n",
    "df_cm"
   ]
  },
  {
   "cell_type": "markdown",
   "metadata": {},
   "source": [
    "__2:__ \n",
    "\n",
    "Aborde o problema num contexto de aprendizado supervisionado, ou seja, treine modelos de classificação binária com o objetivo de detectar anomalias.\n",
    "\n",
    "Compare os resultados entre as metodologias."
   ]
  },
  {
   "cell_type": "markdown",
   "metadata": {},
   "source": [
    "Para o caso de aprendizado supervisionado, utilizaremos o modelo de regressão logística e, caso necessário, o modelo KNN para classificação."
   ]
  },
  {
   "cell_type": "code",
   "execution_count": 28,
   "metadata": {},
   "outputs": [],
   "source": [
    "#adaptação da função validacao_cruzada \n",
    "def validacao_cruzada(classificador, \n",
    "                      X_data, \n",
    "                      y_data, \n",
    "                      metrica, \n",
    "                      num_folds, \n",
    "                      limiar = 0.5, \n",
    "                      print_info = False, \n",
    "                      nome_metrica = None):\n",
    "    \n",
    "    lista_metrica_treino = []\n",
    "    lista_metrica_validacao = []\n",
    "    \n",
    "    kf = KFold(n_splits = num_folds)\n",
    "    for train_index, val_index in kf.split(X_data, y_data):\n",
    "        Xtrain_folds = X_data[train_index]\n",
    "        ytrain_folds = y_data[train_index]\n",
    "        Xval_fold = X_data[val_index]\n",
    "        yval_fold = y_data[val_index]\n",
    "        classificador.fit(Xtrain_folds, ytrain_folds)\n",
    "        \n",
    "        #alteração nesta parte! agora, primeiro calculamos a probabilidade e na sequência usamos o valor do limiar\n",
    "        prob_class1_treino = classificador.predict_proba(Xtrain_folds)[:,1]\n",
    "        prob_class1_validacao = classificador.predict_proba(Xval_fold)[:,1]\n",
    "        pred_treino = np.where(prob_class1_treino > limiar, 1, 0)\n",
    "        pred_validacao = np.where(prob_class1_validacao > limiar, 1, 0)\n",
    "        \n",
    "        lista_metrica_treino.append(metrica(y_pred = pred_treino, y_true = ytrain_folds))\n",
    "        lista_metrica_validacao.append(metrica(y_pred = pred_validacao, y_true = yval_fold))\n",
    "    if print_info:\n",
    "        print(\"Métrica: \" + nome_metrica)\n",
    "        print('média treino:', np.mean(lista_metrica_treino))\n",
    "        print('média validação:', np.mean(lista_metrica_validacao))\n",
    "    return lista_metrica_treino, lista_metrica_validacao, classificador"
   ]
  },
  {
   "cell_type": "code",
   "execution_count": 29,
   "metadata": {},
   "outputs": [
    {
     "data": {
      "text/html": [
       "<div>\n",
       "<style scoped>\n",
       "    .dataframe tbody tr th:only-of-type {\n",
       "        vertical-align: middle;\n",
       "    }\n",
       "\n",
       "    .dataframe tbody tr th {\n",
       "        vertical-align: top;\n",
       "    }\n",
       "\n",
       "    .dataframe thead th {\n",
       "        text-align: right;\n",
       "    }\n",
       "</style>\n",
       "<table border=\"1\" class=\"dataframe\">\n",
       "  <thead>\n",
       "    <tr style=\"text-align: right;\">\n",
       "      <th></th>\n",
       "      <th>x1</th>\n",
       "      <th>x2</th>\n",
       "      <th>x3</th>\n",
       "      <th>x4</th>\n",
       "      <th>x5</th>\n",
       "      <th>x6</th>\n",
       "      <th>anomalia</th>\n",
       "    </tr>\n",
       "  </thead>\n",
       "  <tbody>\n",
       "    <tr>\n",
       "      <th>0</th>\n",
       "      <td>7.731153</td>\n",
       "      <td>23.299155</td>\n",
       "      <td>-0.367453</td>\n",
       "      <td>4.715372</td>\n",
       "      <td>9.306179</td>\n",
       "      <td>16.780965</td>\n",
       "      <td>1.0</td>\n",
       "    </tr>\n",
       "    <tr>\n",
       "      <th>1</th>\n",
       "      <td>11.466833</td>\n",
       "      <td>16.943695</td>\n",
       "      <td>-0.245131</td>\n",
       "      <td>7.060311</td>\n",
       "      <td>10.462826</td>\n",
       "      <td>19.821289</td>\n",
       "      <td>1.0</td>\n",
       "    </tr>\n",
       "    <tr>\n",
       "      <th>2</th>\n",
       "      <td>11.501272</td>\n",
       "      <td>20.196011</td>\n",
       "      <td>1.206049</td>\n",
       "      <td>-4.957189</td>\n",
       "      <td>7.771262</td>\n",
       "      <td>19.100079</td>\n",
       "      <td>1.0</td>\n",
       "    </tr>\n",
       "    <tr>\n",
       "      <th>3</th>\n",
       "      <td>10.893921</td>\n",
       "      <td>16.072385</td>\n",
       "      <td>2.738045</td>\n",
       "      <td>-3.684228</td>\n",
       "      <td>7.373334</td>\n",
       "      <td>23.225524</td>\n",
       "      <td>1.0</td>\n",
       "    </tr>\n",
       "    <tr>\n",
       "      <th>4</th>\n",
       "      <td>10.091706</td>\n",
       "      <td>19.253894</td>\n",
       "      <td>0.996895</td>\n",
       "      <td>-9.504052</td>\n",
       "      <td>8.883988</td>\n",
       "      <td>17.903298</td>\n",
       "      <td>1.0</td>\n",
       "    </tr>\n",
       "  </tbody>\n",
       "</table>\n",
       "</div>"
      ],
      "text/plain": [
       "          x1         x2        x3        x4         x5         x6  anomalia\n",
       "0   7.731153  23.299155 -0.367453  4.715372   9.306179  16.780965       1.0\n",
       "1  11.466833  16.943695 -0.245131  7.060311  10.462826  19.821289       1.0\n",
       "2  11.501272  20.196011  1.206049 -4.957189   7.771262  19.100079       1.0\n",
       "3  10.893921  16.072385  2.738045 -3.684228   7.373334  23.225524       1.0\n",
       "4  10.091706  19.253894  0.996895 -9.504052   8.883988  17.903298       1.0"
      ]
     },
     "execution_count": 29,
     "metadata": {},
     "output_type": "execute_result"
    }
   ],
   "source": [
    "# Dados originais\n",
    "df.head()"
   ]
  },
  {
   "cell_type": "code",
   "execution_count": 30,
   "metadata": {},
   "outputs": [
    {
     "data": {
      "text/plain": [
       "(10100, 7)"
      ]
     },
     "execution_count": 30,
     "metadata": {},
     "output_type": "execute_result"
    }
   ],
   "source": [
    "df.shape"
   ]
  },
  {
   "cell_type": "code",
   "execution_count": 31,
   "metadata": {},
   "outputs": [
    {
     "data": {
      "text/plain": [
       "((8080, 7), (2020, 7))"
      ]
     },
     "execution_count": 31,
     "metadata": {},
     "output_type": "execute_result"
    }
   ],
   "source": [
    "# Dividindo o dataset em treino/validação e teste\n",
    "dftrain, dftest = train_test_split(df, test_size = 0.2, random_state = 0)\n",
    "dftrain.shape, dftest.shape"
   ]
  },
  {
   "cell_type": "code",
   "execution_count": 32,
   "metadata": {},
   "outputs": [],
   "source": [
    "Xtrain, ytrain = dividirVDVI(dftrain)\n",
    "Xtest, ytest = dividirVDVI(dftest)"
   ]
  },
  {
   "cell_type": "code",
   "execution_count": 33,
   "metadata": {},
   "outputs": [
    {
     "data": {
      "image/png": "[encoded data removed]",
      "text/plain": [
       "<Figure size 1440x720 with 1 Axes>"
      ]
     },
     "metadata": {
      "needs_background": "light"
     },
     "output_type": "display_data"
    },
    {
     "name": "stdout",
     "output_type": "stream",
     "text": [
      "O valor máximo do F1 Score para o treino é 99.76271843747689 % para t = 0.9\n",
      "\n",
      "O valor máximo do F1 Score para a validação é 99.75803943471114 % para t = 0.0\n",
      "\n",
      "Tempo de execução: 21.520933389663696 segundos.\n"
     ]
    }
   ],
   "source": [
    "threshold = np.arange(0, 1, 0.0125)\n",
    "\n",
    "lista_media_metrica_treino = []\n",
    "lista_media_metrica_validacao = []\n",
    "\n",
    "t0 = time.time()\n",
    "\n",
    "for t in threshold:\n",
    "    \n",
    "    lt, lv, cl = validacao_cruzada(classificador = LogisticRegression(), \n",
    "                               X_data = Xtrain, \n",
    "                               y_data = ytrain, \n",
    "                               metrica = f1_score,\n",
    "                               num_folds = 5, \n",
    "                               limiar = t)\n",
    "    \n",
    "    lista_media_metrica_treino.append(np.mean(lt))\n",
    "    lista_media_metrica_validacao.append(np.mean(lv))\n",
    "    \n",
    "plt.figure(figsize=[20,10])\n",
    "plt.plot(range(len(threshold)), lista_media_metrica_treino, c = 'red', label = 'F1 médio - TREINO', lw = 2)\n",
    "plt.plot(range(len(threshold)), lista_media_metrica_validacao, c = 'blue', label = 'F1 médio - VALIDAÇÃO', lw = 2)\n",
    "plt.xticks(range(len(threshold)), threshold.round(2), fontsize = 14, rotation=90)\n",
    "plt.legend(fontsize = 14, bbox_to_anchor = [1,1])\n",
    "plt.grid()\n",
    "plt.xlabel(\"Limiar\", fontsize = 14, fontweight = 'bold')\n",
    "plt.ylabel(\"Valor\", fontsize = 14, fontweight = 'bold')\n",
    "plt.title(\"Dispersão do F1 (cross-val.) por limiar - Reg. Logística\", fontsize = 16, fontweight = 'bold')\n",
    "plt.show()\n",
    "\n",
    "print('O valor máximo do F1 Score para o treino é ', end='')\n",
    "print(str(np.max(lista_media_metrica_treino)*100) + ' %', end=' ')\n",
    "print('para t = ', end='')\n",
    "print(threshold[lista_media_metrica_treino.index(np.max(lista_media_metrica_treino))], end='\\n\\n')\n",
    "\n",
    "print('O valor máximo do F1 Score para a validação é ', end='')\n",
    "print(str(np.max(lista_media_metrica_validacao)*100) + ' %', end=' ')\n",
    "print('para t = ', end='')\n",
    "print(threshold[lista_media_metrica_validacao.index(np.max(lista_media_metrica_validacao))], end='\\n\\n')\n",
    "\n",
    "t1 = time.time()\n",
    "print('Tempo de execução: %s segundos.' %(t1-t0))"
   ]
  },
  {
   "cell_type": "code",
   "execution_count": 34,
   "metadata": {},
   "outputs": [
    {
     "data": {
      "text/html": [
       "<div>\n",
       "<style scoped>\n",
       "    .dataframe tbody tr th:only-of-type {\n",
       "        vertical-align: middle;\n",
       "    }\n",
       "\n",
       "    .dataframe tbody tr th {\n",
       "        vertical-align: top;\n",
       "    }\n",
       "\n",
       "    .dataframe thead th {\n",
       "        text-align: right;\n",
       "    }\n",
       "</style>\n",
       "<table border=\"1\" class=\"dataframe\">\n",
       "  <thead>\n",
       "    <tr style=\"text-align: right;\">\n",
       "      <th></th>\n",
       "      <th>Threshold</th>\n",
       "      <th>F1 treino</th>\n",
       "      <th>F1 val</th>\n",
       "      <th>Dif.[%]</th>\n",
       "    </tr>\n",
       "  </thead>\n",
       "  <tbody>\n",
       "    <tr>\n",
       "      <th>0</th>\n",
       "      <td>0.0000</td>\n",
       "      <td>0.997581</td>\n",
       "      <td>0.99758</td>\n",
       "      <td>-0.000038</td>\n",
       "    </tr>\n",
       "    <tr>\n",
       "      <th>1</th>\n",
       "      <td>0.0125</td>\n",
       "      <td>0.997581</td>\n",
       "      <td>0.99758</td>\n",
       "      <td>-0.000038</td>\n",
       "    </tr>\n",
       "    <tr>\n",
       "      <th>2</th>\n",
       "      <td>0.0250</td>\n",
       "      <td>0.997581</td>\n",
       "      <td>0.99758</td>\n",
       "      <td>-0.000038</td>\n",
       "    </tr>\n",
       "    <tr>\n",
       "      <th>3</th>\n",
       "      <td>0.0375</td>\n",
       "      <td>0.997581</td>\n",
       "      <td>0.99758</td>\n",
       "      <td>-0.000038</td>\n",
       "    </tr>\n",
       "    <tr>\n",
       "      <th>4</th>\n",
       "      <td>0.0500</td>\n",
       "      <td>0.997581</td>\n",
       "      <td>0.99758</td>\n",
       "      <td>-0.000038</td>\n",
       "    </tr>\n",
       "    <tr>\n",
       "      <th>5</th>\n",
       "      <td>0.0625</td>\n",
       "      <td>0.997581</td>\n",
       "      <td>0.99758</td>\n",
       "      <td>-0.000038</td>\n",
       "    </tr>\n",
       "    <tr>\n",
       "      <th>6</th>\n",
       "      <td>0.0750</td>\n",
       "      <td>0.997581</td>\n",
       "      <td>0.99758</td>\n",
       "      <td>-0.000038</td>\n",
       "    </tr>\n",
       "    <tr>\n",
       "      <th>7</th>\n",
       "      <td>0.0875</td>\n",
       "      <td>0.997581</td>\n",
       "      <td>0.99758</td>\n",
       "      <td>-0.000038</td>\n",
       "    </tr>\n",
       "    <tr>\n",
       "      <th>8</th>\n",
       "      <td>0.1000</td>\n",
       "      <td>0.997581</td>\n",
       "      <td>0.99758</td>\n",
       "      <td>-0.000038</td>\n",
       "    </tr>\n",
       "    <tr>\n",
       "      <th>9</th>\n",
       "      <td>0.1125</td>\n",
       "      <td>0.997581</td>\n",
       "      <td>0.99758</td>\n",
       "      <td>-0.000038</td>\n",
       "    </tr>\n",
       "    <tr>\n",
       "      <th>10</th>\n",
       "      <td>0.1250</td>\n",
       "      <td>0.997581</td>\n",
       "      <td>0.99758</td>\n",
       "      <td>-0.000038</td>\n",
       "    </tr>\n",
       "    <tr>\n",
       "      <th>11</th>\n",
       "      <td>0.1375</td>\n",
       "      <td>0.997581</td>\n",
       "      <td>0.99758</td>\n",
       "      <td>-0.000038</td>\n",
       "    </tr>\n",
       "    <tr>\n",
       "      <th>12</th>\n",
       "      <td>0.1500</td>\n",
       "      <td>0.997581</td>\n",
       "      <td>0.99758</td>\n",
       "      <td>-0.000038</td>\n",
       "    </tr>\n",
       "    <tr>\n",
       "      <th>13</th>\n",
       "      <td>0.1625</td>\n",
       "      <td>0.997581</td>\n",
       "      <td>0.99758</td>\n",
       "      <td>-0.000038</td>\n",
       "    </tr>\n",
       "    <tr>\n",
       "      <th>14</th>\n",
       "      <td>0.1750</td>\n",
       "      <td>0.997581</td>\n",
       "      <td>0.99758</td>\n",
       "      <td>-0.000038</td>\n",
       "    </tr>\n",
       "    <tr>\n",
       "      <th>15</th>\n",
       "      <td>0.1875</td>\n",
       "      <td>0.997581</td>\n",
       "      <td>0.99758</td>\n",
       "      <td>-0.000038</td>\n",
       "    </tr>\n",
       "    <tr>\n",
       "      <th>16</th>\n",
       "      <td>0.2000</td>\n",
       "      <td>0.997581</td>\n",
       "      <td>0.99758</td>\n",
       "      <td>-0.000038</td>\n",
       "    </tr>\n",
       "    <tr>\n",
       "      <th>17</th>\n",
       "      <td>0.2125</td>\n",
       "      <td>0.997581</td>\n",
       "      <td>0.99758</td>\n",
       "      <td>-0.000038</td>\n",
       "    </tr>\n",
       "    <tr>\n",
       "      <th>18</th>\n",
       "      <td>0.2250</td>\n",
       "      <td>0.997581</td>\n",
       "      <td>0.99758</td>\n",
       "      <td>-0.000038</td>\n",
       "    </tr>\n",
       "    <tr>\n",
       "      <th>19</th>\n",
       "      <td>0.2375</td>\n",
       "      <td>0.997581</td>\n",
       "      <td>0.99758</td>\n",
       "      <td>-0.000038</td>\n",
       "    </tr>\n",
       "    <tr>\n",
       "      <th>20</th>\n",
       "      <td>0.2500</td>\n",
       "      <td>0.997581</td>\n",
       "      <td>0.99758</td>\n",
       "      <td>-0.000038</td>\n",
       "    </tr>\n",
       "    <tr>\n",
       "      <th>21</th>\n",
       "      <td>0.2625</td>\n",
       "      <td>0.997581</td>\n",
       "      <td>0.99758</td>\n",
       "      <td>-0.000038</td>\n",
       "    </tr>\n",
       "    <tr>\n",
       "      <th>22</th>\n",
       "      <td>0.2750</td>\n",
       "      <td>0.997581</td>\n",
       "      <td>0.99758</td>\n",
       "      <td>-0.000038</td>\n",
       "    </tr>\n",
       "    <tr>\n",
       "      <th>23</th>\n",
       "      <td>0.2875</td>\n",
       "      <td>0.997581</td>\n",
       "      <td>0.99758</td>\n",
       "      <td>-0.000038</td>\n",
       "    </tr>\n",
       "    <tr>\n",
       "      <th>24</th>\n",
       "      <td>0.3000</td>\n",
       "      <td>0.997581</td>\n",
       "      <td>0.99758</td>\n",
       "      <td>-0.000038</td>\n",
       "    </tr>\n",
       "    <tr>\n",
       "      <th>25</th>\n",
       "      <td>0.3125</td>\n",
       "      <td>0.997581</td>\n",
       "      <td>0.99758</td>\n",
       "      <td>-0.000038</td>\n",
       "    </tr>\n",
       "    <tr>\n",
       "      <th>26</th>\n",
       "      <td>0.3250</td>\n",
       "      <td>0.997581</td>\n",
       "      <td>0.99758</td>\n",
       "      <td>-0.000038</td>\n",
       "    </tr>\n",
       "    <tr>\n",
       "      <th>27</th>\n",
       "      <td>0.3375</td>\n",
       "      <td>0.997581</td>\n",
       "      <td>0.99758</td>\n",
       "      <td>-0.000038</td>\n",
       "    </tr>\n",
       "    <tr>\n",
       "      <th>28</th>\n",
       "      <td>0.3500</td>\n",
       "      <td>0.997581</td>\n",
       "      <td>0.99758</td>\n",
       "      <td>-0.000038</td>\n",
       "    </tr>\n",
       "    <tr>\n",
       "      <th>29</th>\n",
       "      <td>0.3625</td>\n",
       "      <td>0.997581</td>\n",
       "      <td>0.99758</td>\n",
       "      <td>-0.000038</td>\n",
       "    </tr>\n",
       "    <tr>\n",
       "      <th>30</th>\n",
       "      <td>0.3750</td>\n",
       "      <td>0.997581</td>\n",
       "      <td>0.99758</td>\n",
       "      <td>-0.000038</td>\n",
       "    </tr>\n",
       "    <tr>\n",
       "      <th>31</th>\n",
       "      <td>0.3875</td>\n",
       "      <td>0.997581</td>\n",
       "      <td>0.99758</td>\n",
       "      <td>-0.000038</td>\n",
       "    </tr>\n",
       "    <tr>\n",
       "      <th>32</th>\n",
       "      <td>0.4000</td>\n",
       "      <td>0.997581</td>\n",
       "      <td>0.99758</td>\n",
       "      <td>-0.000038</td>\n",
       "    </tr>\n",
       "    <tr>\n",
       "      <th>33</th>\n",
       "      <td>0.4125</td>\n",
       "      <td>0.997581</td>\n",
       "      <td>0.99758</td>\n",
       "      <td>-0.000038</td>\n",
       "    </tr>\n",
       "    <tr>\n",
       "      <th>34</th>\n",
       "      <td>0.4250</td>\n",
       "      <td>0.997581</td>\n",
       "      <td>0.99758</td>\n",
       "      <td>-0.000038</td>\n",
       "    </tr>\n",
       "    <tr>\n",
       "      <th>35</th>\n",
       "      <td>0.4375</td>\n",
       "      <td>0.997581</td>\n",
       "      <td>0.99758</td>\n",
       "      <td>-0.000038</td>\n",
       "    </tr>\n",
       "    <tr>\n",
       "      <th>36</th>\n",
       "      <td>0.4500</td>\n",
       "      <td>0.997581</td>\n",
       "      <td>0.99758</td>\n",
       "      <td>-0.000038</td>\n",
       "    </tr>\n",
       "    <tr>\n",
       "      <th>37</th>\n",
       "      <td>0.4625</td>\n",
       "      <td>0.997581</td>\n",
       "      <td>0.99758</td>\n",
       "      <td>-0.000038</td>\n",
       "    </tr>\n",
       "    <tr>\n",
       "      <th>38</th>\n",
       "      <td>0.4750</td>\n",
       "      <td>0.997581</td>\n",
       "      <td>0.99758</td>\n",
       "      <td>-0.000038</td>\n",
       "    </tr>\n",
       "    <tr>\n",
       "      <th>39</th>\n",
       "      <td>0.4875</td>\n",
       "      <td>0.997581</td>\n",
       "      <td>0.99758</td>\n",
       "      <td>-0.000038</td>\n",
       "    </tr>\n",
       "    <tr>\n",
       "      <th>40</th>\n",
       "      <td>0.5000</td>\n",
       "      <td>0.997581</td>\n",
       "      <td>0.99758</td>\n",
       "      <td>-0.000038</td>\n",
       "    </tr>\n",
       "    <tr>\n",
       "      <th>41</th>\n",
       "      <td>0.5125</td>\n",
       "      <td>0.997581</td>\n",
       "      <td>0.99758</td>\n",
       "      <td>-0.000038</td>\n",
       "    </tr>\n",
       "    <tr>\n",
       "      <th>42</th>\n",
       "      <td>0.5250</td>\n",
       "      <td>0.997581</td>\n",
       "      <td>0.99758</td>\n",
       "      <td>-0.000038</td>\n",
       "    </tr>\n",
       "    <tr>\n",
       "      <th>43</th>\n",
       "      <td>0.5375</td>\n",
       "      <td>0.997581</td>\n",
       "      <td>0.99758</td>\n",
       "      <td>-0.000038</td>\n",
       "    </tr>\n",
       "    <tr>\n",
       "      <th>44</th>\n",
       "      <td>0.5500</td>\n",
       "      <td>0.997581</td>\n",
       "      <td>0.99758</td>\n",
       "      <td>-0.000038</td>\n",
       "    </tr>\n",
       "    <tr>\n",
       "      <th>45</th>\n",
       "      <td>0.5625</td>\n",
       "      <td>0.997581</td>\n",
       "      <td>0.99758</td>\n",
       "      <td>-0.000038</td>\n",
       "    </tr>\n",
       "    <tr>\n",
       "      <th>46</th>\n",
       "      <td>0.5750</td>\n",
       "      <td>0.997581</td>\n",
       "      <td>0.99758</td>\n",
       "      <td>-0.000038</td>\n",
       "    </tr>\n",
       "    <tr>\n",
       "      <th>47</th>\n",
       "      <td>0.5875</td>\n",
       "      <td>0.997581</td>\n",
       "      <td>0.99758</td>\n",
       "      <td>-0.000038</td>\n",
       "    </tr>\n",
       "    <tr>\n",
       "      <th>48</th>\n",
       "      <td>0.6000</td>\n",
       "      <td>0.997581</td>\n",
       "      <td>0.99758</td>\n",
       "      <td>-0.000038</td>\n",
       "    </tr>\n",
       "    <tr>\n",
       "      <th>49</th>\n",
       "      <td>0.6125</td>\n",
       "      <td>0.997581</td>\n",
       "      <td>0.99758</td>\n",
       "      <td>-0.000038</td>\n",
       "    </tr>\n",
       "  </tbody>\n",
       "</table>\n",
       "</div>"
      ],
      "text/plain": [
       "    Threshold  F1 treino   F1 val   Dif.[%]\n",
       "0      0.0000   0.997581  0.99758 -0.000038\n",
       "1      0.0125   0.997581  0.99758 -0.000038\n",
       "2      0.0250   0.997581  0.99758 -0.000038\n",
       "3      0.0375   0.997581  0.99758 -0.000038\n",
       "4      0.0500   0.997581  0.99758 -0.000038\n",
       "5      0.0625   0.997581  0.99758 -0.000038\n",
       "6      0.0750   0.997581  0.99758 -0.000038\n",
       "7      0.0875   0.997581  0.99758 -0.000038\n",
       "8      0.1000   0.997581  0.99758 -0.000038\n",
       "9      0.1125   0.997581  0.99758 -0.000038\n",
       "10     0.1250   0.997581  0.99758 -0.000038\n",
       "11     0.1375   0.997581  0.99758 -0.000038\n",
       "12     0.1500   0.997581  0.99758 -0.000038\n",
       "13     0.1625   0.997581  0.99758 -0.000038\n",
       "14     0.1750   0.997581  0.99758 -0.000038\n",
       "15     0.1875   0.997581  0.99758 -0.000038\n",
       "16     0.2000   0.997581  0.99758 -0.000038\n",
       "17     0.2125   0.997581  0.99758 -0.000038\n",
       "18     0.2250   0.997581  0.99758 -0.000038\n",
       "19     0.2375   0.997581  0.99758 -0.000038\n",
       "20     0.2500   0.997581  0.99758 -0.000038\n",
       "21     0.2625   0.997581  0.99758 -0.000038\n",
       "22     0.2750   0.997581  0.99758 -0.000038\n",
       "23     0.2875   0.997581  0.99758 -0.000038\n",
       "24     0.3000   0.997581  0.99758 -0.000038\n",
       "25     0.3125   0.997581  0.99758 -0.000038\n",
       "26     0.3250   0.997581  0.99758 -0.000038\n",
       "27     0.3375   0.997581  0.99758 -0.000038\n",
       "28     0.3500   0.997581  0.99758 -0.000038\n",
       "29     0.3625   0.997581  0.99758 -0.000038\n",
       "30     0.3750   0.997581  0.99758 -0.000038\n",
       "31     0.3875   0.997581  0.99758 -0.000038\n",
       "32     0.4000   0.997581  0.99758 -0.000038\n",
       "33     0.4125   0.997581  0.99758 -0.000038\n",
       "34     0.4250   0.997581  0.99758 -0.000038\n",
       "35     0.4375   0.997581  0.99758 -0.000038\n",
       "36     0.4500   0.997581  0.99758 -0.000038\n",
       "37     0.4625   0.997581  0.99758 -0.000038\n",
       "38     0.4750   0.997581  0.99758 -0.000038\n",
       "39     0.4875   0.997581  0.99758 -0.000038\n",
       "40     0.5000   0.997581  0.99758 -0.000038\n",
       "41     0.5125   0.997581  0.99758 -0.000038\n",
       "42     0.5250   0.997581  0.99758 -0.000038\n",
       "43     0.5375   0.997581  0.99758 -0.000038\n",
       "44     0.5500   0.997581  0.99758 -0.000038\n",
       "45     0.5625   0.997581  0.99758 -0.000038\n",
       "46     0.5750   0.997581  0.99758 -0.000038\n",
       "47     0.5875   0.997581  0.99758 -0.000038\n",
       "48     0.6000   0.997581  0.99758 -0.000038\n",
       "49     0.6125   0.997581  0.99758 -0.000038"
      ]
     },
     "execution_count": 34,
     "metadata": {},
     "output_type": "execute_result"
    }
   ],
   "source": [
    "df_comp_lg = pd.DataFrame(np.c_[threshold, lista_media_metrica_treino, lista_media_metrica_validacao],\n",
    "                         columns = ['Threshold', 'F1 treino', 'F1 val'])\n",
    "\n",
    "df_comp_lg['Dif.[%]'] = (1 - df_comp_lg['F1 treino'] / df_comp_lg['F1 val'] ) *100\n",
    "\n",
    "min_dif = abs(df_comp_lg['Dif.[%]']).min(); min_dif\n",
    "\n",
    "df_comp_lg.head(50)"
   ]
  },
  {
   "cell_type": "markdown",
   "metadata": {},
   "source": [
    "Vemos que o valor de F1 score para os dados de validação permanece constante até o valor de threshold igual a 0.9375. Com isso em mente, manteremo o limiar padrão t = 0,5, uma vez que não há alteração significativa no valor de F1 score. Assim, realizaremos o treino do modelo usando esse limiar e aplicaremos o modelo aos dados de teste para avaliar o resultado."
   ]
  },
  {
   "cell_type": "code",
   "execution_count": 35,
   "metadata": {},
   "outputs": [
    {
     "name": "stdout",
     "output_type": "stream",
     "text": [
      "O valor médio do F1 Score para os dados treino é 99.75807701606445 %.\n",
      "O valor médio do F1 Score para os dados de validação é 99.75803943471114 %.\n",
      "O valor do F1 Score para os dados de teste é 99.62732919254658 %.\n"
     ]
    }
   ],
   "source": [
    "lt, lv, cl = validacao_cruzada(classificador = LogisticRegression(), \n",
    "                               X_data = Xtrain, \n",
    "                               y_data = ytrain, \n",
    "                               metrica = f1_score,\n",
    "                               num_folds = 5, \n",
    "                               limiar = 0.5)\n",
    "    \n",
    "f1_treino = np.mean(lt)\n",
    "f1_validacao = np.mean(lv)\n",
    "\n",
    "print('O valor médio do F1 Score para os dados treino é ', end='')\n",
    "print(str(f1_treino * 100) + ' %.')\n",
    "\n",
    "print('O valor médio do F1 Score para os dados de validação é ', end='')\n",
    "print(str(f1_validacao * 100) + ' %.')\n",
    "\n",
    "y_pred_test = cl.predict(Xtest)\n",
    "f1_test = f1_score(y_true = ytest, y_pred = y_pred_test)\n",
    "\n",
    "print('O valor do F1 Score para os dados de teste é ', end='')\n",
    "print(str(f1_test * 100) + ' %.')"
   ]
  },
  {
   "cell_type": "code",
   "execution_count": 36,
   "metadata": {},
   "outputs": [
    {
     "name": "stdout",
     "output_type": "stream",
     "text": [
      "Matriz de confusão: Dados de treino\n"
     ]
    },
    {
     "data": {
      "text/html": [
       "<div>\n",
       "<style scoped>\n",
       "    .dataframe tbody tr th:only-of-type {\n",
       "        vertical-align: middle;\n",
       "    }\n",
       "\n",
       "    .dataframe tbody tr th {\n",
       "        vertical-align: top;\n",
       "    }\n",
       "\n",
       "    .dataframe thead th {\n",
       "        text-align: right;\n",
       "    }\n",
       "</style>\n",
       "<table border=\"1\" class=\"dataframe\">\n",
       "  <thead>\n",
       "    <tr style=\"text-align: right;\">\n",
       "      <th></th>\n",
       "      <th>Com anom. (P)</th>\n",
       "      <th>Sem anom. (P)</th>\n",
       "    </tr>\n",
       "  </thead>\n",
       "  <tbody>\n",
       "    <tr>\n",
       "      <th>Com anom. (R)</th>\n",
       "      <td>0</td>\n",
       "      <td>39</td>\n",
       "    </tr>\n",
       "    <tr>\n",
       "      <th>Sem anom. (R)</th>\n",
       "      <td>0</td>\n",
       "      <td>8041</td>\n",
       "    </tr>\n",
       "  </tbody>\n",
       "</table>\n",
       "</div>"
      ],
      "text/plain": [
       "               Com anom. (P)  Sem anom. (P)\n",
       "Com anom. (R)              0             39\n",
       "Sem anom. (R)              0           8041"
      ]
     },
     "execution_count": 36,
     "metadata": {},
     "output_type": "execute_result"
    }
   ],
   "source": [
    "cm_lg_tr = confusion_matrix(y_true = ytrain, y_pred = cl.predict(Xtrain))\n",
    "df_cm_lg_tr = pd.DataFrame(np.c_[cm_lg_tr],\n",
    "                     columns = ['Com anom. (P)', 'Sem anom. (P)'],\n",
    "                     index = ['Com anom. (R)', 'Sem anom. (R)'])\n",
    "print('Matriz de confusão: Dados de treino')\n",
    "df_cm_lg_tr"
   ]
  },
  {
   "cell_type": "code",
   "execution_count": 37,
   "metadata": {},
   "outputs": [
    {
     "name": "stdout",
     "output_type": "stream",
     "text": [
      "Matriz de confusão: Dados de teste\n"
     ]
    },
    {
     "data": {
      "text/html": [
       "<div>\n",
       "<style scoped>\n",
       "    .dataframe tbody tr th:only-of-type {\n",
       "        vertical-align: middle;\n",
       "    }\n",
       "\n",
       "    .dataframe tbody tr th {\n",
       "        vertical-align: top;\n",
       "    }\n",
       "\n",
       "    .dataframe thead th {\n",
       "        text-align: right;\n",
       "    }\n",
       "</style>\n",
       "<table border=\"1\" class=\"dataframe\">\n",
       "  <thead>\n",
       "    <tr style=\"text-align: right;\">\n",
       "      <th></th>\n",
       "      <th>Com anom. (P)</th>\n",
       "      <th>Sem anom. (P)</th>\n",
       "    </tr>\n",
       "  </thead>\n",
       "  <tbody>\n",
       "    <tr>\n",
       "      <th>Com anom. (R)</th>\n",
       "      <td>0</td>\n",
       "      <td>15</td>\n",
       "    </tr>\n",
       "    <tr>\n",
       "      <th>Sem anom. (R)</th>\n",
       "      <td>0</td>\n",
       "      <td>2005</td>\n",
       "    </tr>\n",
       "  </tbody>\n",
       "</table>\n",
       "</div>"
      ],
      "text/plain": [
       "               Com anom. (P)  Sem anom. (P)\n",
       "Com anom. (R)              0             15\n",
       "Sem anom. (R)              0           2005"
      ]
     },
     "execution_count": 37,
     "metadata": {},
     "output_type": "execute_result"
    }
   ],
   "source": [
    "cm_lg = confusion_matrix(y_true = ytest, y_pred = y_pred_test)\n",
    "df_cm_lg = pd.DataFrame(np.c_[cm_lg],\n",
    "                     columns = ['Com anom. (P)', 'Sem anom. (P)'],\n",
    "                     index = ['Com anom. (R)', 'Sem anom. (R)'])\n",
    "print('Matriz de confusão: Dados de teste')\n",
    "df_cm_lg"
   ]
  },
  {
   "cell_type": "markdown",
   "metadata": {},
   "source": [
    "Vemos que o modelo de regressão logística apresenta uma alta consistência nos resultados se considerarmos apenas os valores dos F1 scores calculados para os dados de treino/validação e teste. Entretanto, ao avaliar a matriz de confusão, vemos que tanto para os dados de treino, quanto para os dados de teste, o modelo não é capaz de identificar os casos em que há anomalia. O valor do F1 score é alto, uma vez que há poucos dados com anomalia. Com isso em mente, vemos que o modelo de regressão logística não é adequado para esse caso. \n",
    "\n",
    "Testaremos o modelo KNN de classificação para verificar se ocorre o mesmo. Testaremos o modelo com K igual a 1 até 50, com um passo igual a 2. Além disso, como comentado anteriormente, como apenas 0,53% dos dados apresentam anomalia, consideraremos o limiar padrão de 0.5."
   ]
  },
  {
   "cell_type": "code",
   "execution_count": 38,
   "metadata": {},
   "outputs": [
    {
     "data": {
      "image/png": "[encoded data removed]",
      "text/plain": [
       "<Figure size 1440x720 with 1 Axes>"
      ]
     },
     "metadata": {
      "needs_background": "light"
     },
     "output_type": "display_data"
    },
    {
     "name": "stdout",
     "output_type": "stream",
     "text": [
      "O valor máximo do F1 Score para o treino é 100.0 % para K = 1\n",
      "\n",
      "O valor máximo do F1 Score para a validação é 99.76419091287558 % para K = 1\n",
      "\n",
      "Tempo de execução: 46.13685655593872 segundos.\n"
     ]
    }
   ],
   "source": [
    "num_viz = np.arange(1, 52, 2)\n",
    "\n",
    "lista_media_metrica_treino = []\n",
    "lista_media_metrica_validacao = []\n",
    "\n",
    "t0 = time.time()\n",
    "\n",
    "for viz in num_viz:\n",
    "    \n",
    "    lt, lv, cl = validacao_cruzada(classificador = KNeighborsClassifier(n_neighbors=viz), \n",
    "                               X_data = Xtrain, \n",
    "                               y_data = ytrain, \n",
    "                               metrica = f1_score,\n",
    "                               num_folds = 5, \n",
    "                               limiar = 0.5)\n",
    "    \n",
    "    lista_media_metrica_treino.append(np.mean(lt))\n",
    "    lista_media_metrica_validacao.append(np.mean(lv))\n",
    "    \n",
    "plt.figure(figsize=[20,10])\n",
    "plt.plot(range(len(num_viz)), lista_media_metrica_treino, c = 'red', label = 'F1 médio - TREINO', lw = 2)\n",
    "plt.plot(range(len(num_viz)), lista_media_metrica_validacao, c = 'blue', label = 'F1 médio - VALIDAÇÃO', lw = 2)\n",
    "plt.xticks(range(len(num_viz)), num_viz.round(2), fontsize = 14, rotation=90)\n",
    "plt.legend(fontsize = 14, bbox_to_anchor = [1,1])\n",
    "plt.grid()\n",
    "plt.xlabel(\"Limiar\", fontsize = 14, fontweight = 'bold')\n",
    "plt.ylabel(\"Valor\", fontsize = 14, fontweight = 'bold')\n",
    "plt.title(\"Dispersão do F1 (cross-val.) por limiar - Reg. Logística\", fontsize = 16, fontweight = 'bold')\n",
    "plt.show()\n",
    "\n",
    "print('O valor máximo do F1 Score para o treino é ', end='')\n",
    "print(str(np.max(lista_media_metrica_treino)*100) + ' %', end=' ')\n",
    "print('para K = ', end='')\n",
    "print(num_viz[lista_media_metrica_treino.index(np.max(lista_media_metrica_treino))], end='\\n\\n')\n",
    "\n",
    "print('O valor máximo do F1 Score para a validação é ', end='')\n",
    "print(str(np.max(lista_media_metrica_validacao)*100) + ' %', end=' ')\n",
    "print('para K = ', end='')\n",
    "print(num_viz[lista_media_metrica_validacao.index(np.max(lista_media_metrica_validacao))], end='\\n\\n')\n",
    "\n",
    "t1 = time.time()\n",
    "print('Tempo de execução: %s segundos.' %(t1-t0))"
   ]
  },
  {
   "cell_type": "markdown",
   "metadata": {},
   "source": [
    "Vemos que para K = 1, obtemos um valor para F1 score = 1 e ao ser aplicado aos dados de validação, o F1 score é reduzido apra 0.9975. Inicialmente, testaremos o modelo com essa configuração."
   ]
  },
  {
   "cell_type": "code",
   "execution_count": 39,
   "metadata": {},
   "outputs": [
    {
     "name": "stdout",
     "output_type": "stream",
     "text": [
      "O valor médio do F1 Score para os dados treino é 100.0 %.\n",
      "O valor médio do F1 Score para os dados de validação é 99.76419091287558 %.\n",
      "O valor do F1 Score para os dados de teste é 99.65174129353234 %.\n"
     ]
    }
   ],
   "source": [
    "lt, lv, cl = validacao_cruzada(classificador = KNeighborsClassifier(n_neighbors = 1), \n",
    "                               X_data = Xtrain, \n",
    "                               y_data = ytrain, \n",
    "                               metrica = f1_score,\n",
    "                               num_folds = 5, \n",
    "                               limiar = 0.5)\n",
    "    \n",
    "f1_treino = np.mean(lt)\n",
    "f1_validacao = np.mean(lv)\n",
    "\n",
    "print('O valor médio do F1 Score para os dados treino é ', end='')\n",
    "print(str(f1_treino * 100) + ' %.')\n",
    "\n",
    "print('O valor médio do F1 Score para os dados de validação é ', end='')\n",
    "print(str(f1_validacao * 100) + ' %.')\n",
    "\n",
    "y_pred_test = cl.predict(Xtest)\n",
    "f1_test = f1_score(y_true = ytest, y_pred = y_pred_test)\n",
    "\n",
    "print('O valor do F1 Score para os dados de teste é ', end='')\n",
    "print(str(f1_test * 100) + ' %.')"
   ]
  },
  {
   "cell_type": "code",
   "execution_count": 40,
   "metadata": {},
   "outputs": [
    {
     "name": "stdout",
     "output_type": "stream",
     "text": [
      "Matriz de confusão: Dados de treino\n"
     ]
    },
    {
     "data": {
      "text/html": [
       "<div>\n",
       "<style scoped>\n",
       "    .dataframe tbody tr th:only-of-type {\n",
       "        vertical-align: middle;\n",
       "    }\n",
       "\n",
       "    .dataframe tbody tr th {\n",
       "        vertical-align: top;\n",
       "    }\n",
       "\n",
       "    .dataframe thead th {\n",
       "        text-align: right;\n",
       "    }\n",
       "</style>\n",
       "<table border=\"1\" class=\"dataframe\">\n",
       "  <thead>\n",
       "    <tr style=\"text-align: right;\">\n",
       "      <th></th>\n",
       "      <th>Com anom. (P)</th>\n",
       "      <th>Sem anom. (P)</th>\n",
       "    </tr>\n",
       "  </thead>\n",
       "  <tbody>\n",
       "    <tr>\n",
       "      <th>Com anom. (R)</th>\n",
       "      <td>30</td>\n",
       "      <td>9</td>\n",
       "    </tr>\n",
       "    <tr>\n",
       "      <th>Sem anom. (R)</th>\n",
       "      <td>0</td>\n",
       "      <td>8041</td>\n",
       "    </tr>\n",
       "  </tbody>\n",
       "</table>\n",
       "</div>"
      ],
      "text/plain": [
       "               Com anom. (P)  Sem anom. (P)\n",
       "Com anom. (R)             30              9\n",
       "Sem anom. (R)              0           8041"
      ]
     },
     "execution_count": 40,
     "metadata": {},
     "output_type": "execute_result"
    }
   ],
   "source": [
    "cm_knn_tr = confusion_matrix(y_true = ytrain, y_pred = cl.predict(Xtrain))\n",
    "df_cm_knn_tr = pd.DataFrame(np.c_[cm_knn_tr],\n",
    "                     columns = ['Com anom. (P)', 'Sem anom. (P)'],\n",
    "                     index = ['Com anom. (R)', 'Sem anom. (R)'])\n",
    "print('Matriz de confusão: Dados de treino')\n",
    "df_cm_knn_tr"
   ]
  },
  {
   "cell_type": "code",
   "execution_count": 41,
   "metadata": {},
   "outputs": [
    {
     "name": "stdout",
     "output_type": "stream",
     "text": [
      "Matriz de confusão: Dados de teste\n"
     ]
    },
    {
     "data": {
      "text/html": [
       "<div>\n",
       "<style scoped>\n",
       "    .dataframe tbody tr th:only-of-type {\n",
       "        vertical-align: middle;\n",
       "    }\n",
       "\n",
       "    .dataframe tbody tr th {\n",
       "        vertical-align: top;\n",
       "    }\n",
       "\n",
       "    .dataframe thead th {\n",
       "        text-align: right;\n",
       "    }\n",
       "</style>\n",
       "<table border=\"1\" class=\"dataframe\">\n",
       "  <thead>\n",
       "    <tr style=\"text-align: right;\">\n",
       "      <th></th>\n",
       "      <th>Com anom. (P)</th>\n",
       "      <th>Sem anom. (P)</th>\n",
       "    </tr>\n",
       "  </thead>\n",
       "  <tbody>\n",
       "    <tr>\n",
       "      <th>Com anom. (R)</th>\n",
       "      <td>3</td>\n",
       "      <td>12</td>\n",
       "    </tr>\n",
       "    <tr>\n",
       "      <th>Sem anom. (R)</th>\n",
       "      <td>2</td>\n",
       "      <td>2003</td>\n",
       "    </tr>\n",
       "  </tbody>\n",
       "</table>\n",
       "</div>"
      ],
      "text/plain": [
       "               Com anom. (P)  Sem anom. (P)\n",
       "Com anom. (R)              3             12\n",
       "Sem anom. (R)              2           2003"
      ]
     },
     "execution_count": 41,
     "metadata": {},
     "output_type": "execute_result"
    }
   ],
   "source": [
    "cm_knn = confusion_matrix(y_true = ytest, y_pred = y_pred_test)\n",
    "df_cm_knn = pd.DataFrame(np.c_[cm_knn],\n",
    "                     columns = ['Com anom. (P)', 'Sem anom. (P)'],\n",
    "                     index = ['Com anom. (R)', 'Sem anom. (R)'])\n",
    "print('Matriz de confusão: Dados de teste')\n",
    "df_cm_knn"
   ]
  },
  {
   "cell_type": "markdown",
   "metadata": {},
   "source": [
    "Para K = 1, vemos que o modelo consegue identificar alguns casos em que há anormalia, entretanto, ainda apresenta falsos positivos para os dados de treino e falsos positivos e negativos para os dados de teste. Testaremos agora em uma região onde o coeficiente F1 score para os dados de treino e validação permanem próximos, como para K = 7."
   ]
  },
  {
   "cell_type": "code",
   "execution_count": 42,
   "metadata": {},
   "outputs": [
    {
     "name": "stdout",
     "output_type": "stream",
     "text": [
      "O valor médio do F1 Score para os dados treino é 99.75807701606445 %.\n",
      "O valor médio do F1 Score para os dados de validação é 99.75803943471114 %.\n",
      "O valor do F1 Score para os dados de teste é 99.62732919254658 %.\n"
     ]
    }
   ],
   "source": [
    "lt, lv, cl = validacao_cruzada(classificador = KNeighborsClassifier(n_neighbors = 7), \n",
    "                               X_data = Xtrain, \n",
    "                               y_data = ytrain, \n",
    "                               metrica = f1_score,\n",
    "                               num_folds = 5, \n",
    "                               limiar = 0.5)\n",
    "    \n",
    "f1_treino = np.mean(lt)\n",
    "f1_validacao = np.mean(lv)\n",
    "\n",
    "print('O valor médio do F1 Score para os dados treino é ', end='')\n",
    "print(str(f1_treino * 100) + ' %.')\n",
    "\n",
    "print('O valor médio do F1 Score para os dados de validação é ', end='')\n",
    "print(str(f1_validacao * 100) + ' %.')\n",
    "\n",
    "y_pred_test = cl.predict(Xtest)\n",
    "f1_test = f1_score(y_true = ytest, y_pred = y_pred_test)\n",
    "\n",
    "print('O valor do F1 Score para os dados de teste é ', end='')\n",
    "print(str(f1_test * 100) + ' %.')"
   ]
  },
  {
   "cell_type": "code",
   "execution_count": 43,
   "metadata": {},
   "outputs": [
    {
     "name": "stdout",
     "output_type": "stream",
     "text": [
      "Matriz de confusão: Dados de treino\n"
     ]
    },
    {
     "data": {
      "text/html": [
       "<div>\n",
       "<style scoped>\n",
       "    .dataframe tbody tr th:only-of-type {\n",
       "        vertical-align: middle;\n",
       "    }\n",
       "\n",
       "    .dataframe tbody tr th {\n",
       "        vertical-align: top;\n",
       "    }\n",
       "\n",
       "    .dataframe thead th {\n",
       "        text-align: right;\n",
       "    }\n",
       "</style>\n",
       "<table border=\"1\" class=\"dataframe\">\n",
       "  <thead>\n",
       "    <tr style=\"text-align: right;\">\n",
       "      <th></th>\n",
       "      <th>Com anom. (P)</th>\n",
       "      <th>Sem anom. (P)</th>\n",
       "    </tr>\n",
       "  </thead>\n",
       "  <tbody>\n",
       "    <tr>\n",
       "      <th>Com anom. (R)</th>\n",
       "      <td>0</td>\n",
       "      <td>39</td>\n",
       "    </tr>\n",
       "    <tr>\n",
       "      <th>Sem anom. (R)</th>\n",
       "      <td>0</td>\n",
       "      <td>8041</td>\n",
       "    </tr>\n",
       "  </tbody>\n",
       "</table>\n",
       "</div>"
      ],
      "text/plain": [
       "               Com anom. (P)  Sem anom. (P)\n",
       "Com anom. (R)              0             39\n",
       "Sem anom. (R)              0           8041"
      ]
     },
     "execution_count": 43,
     "metadata": {},
     "output_type": "execute_result"
    }
   ],
   "source": [
    "cm_knn_tr = confusion_matrix(y_true = ytrain, y_pred = cl.predict(Xtrain))\n",
    "df_cm_knn_tr = pd.DataFrame(np.c_[cm_knn_tr],\n",
    "                     columns = ['Com anom. (P)', 'Sem anom. (P)'],\n",
    "                     index = ['Com anom. (R)', 'Sem anom. (R)'])\n",
    "print('Matriz de confusão: Dados de treino')\n",
    "df_cm_knn_tr"
   ]
  },
  {
   "cell_type": "code",
   "execution_count": 44,
   "metadata": {},
   "outputs": [
    {
     "name": "stdout",
     "output_type": "stream",
     "text": [
      "Matriz de confusão: Dados de teste\n"
     ]
    },
    {
     "data": {
      "text/html": [
       "<div>\n",
       "<style scoped>\n",
       "    .dataframe tbody tr th:only-of-type {\n",
       "        vertical-align: middle;\n",
       "    }\n",
       "\n",
       "    .dataframe tbody tr th {\n",
       "        vertical-align: top;\n",
       "    }\n",
       "\n",
       "    .dataframe thead th {\n",
       "        text-align: right;\n",
       "    }\n",
       "</style>\n",
       "<table border=\"1\" class=\"dataframe\">\n",
       "  <thead>\n",
       "    <tr style=\"text-align: right;\">\n",
       "      <th></th>\n",
       "      <th>Com anom. (P)</th>\n",
       "      <th>Sem anom. (P)</th>\n",
       "    </tr>\n",
       "  </thead>\n",
       "  <tbody>\n",
       "    <tr>\n",
       "      <th>Com anom. (R)</th>\n",
       "      <td>0</td>\n",
       "      <td>15</td>\n",
       "    </tr>\n",
       "    <tr>\n",
       "      <th>Sem anom. (R)</th>\n",
       "      <td>0</td>\n",
       "      <td>2005</td>\n",
       "    </tr>\n",
       "  </tbody>\n",
       "</table>\n",
       "</div>"
      ],
      "text/plain": [
       "               Com anom. (P)  Sem anom. (P)\n",
       "Com anom. (R)              0             15\n",
       "Sem anom. (R)              0           2005"
      ]
     },
     "execution_count": 44,
     "metadata": {},
     "output_type": "execute_result"
    }
   ],
   "source": [
    "cm_knn = confusion_matrix(y_true = ytest, y_pred = y_pred_test)\n",
    "df_cm_knn = pd.DataFrame(np.c_[cm_knn],\n",
    "                     columns = ['Com anom. (P)', 'Sem anom. (P)'],\n",
    "                     index = ['Com anom. (R)', 'Sem anom. (R)'])\n",
    "print('Matriz de confusão: Dados de teste')\n",
    "df_cm_knn"
   ]
  },
  {
   "cell_type": "markdown",
   "metadata": {},
   "source": [
    "Com o aumento do número de vizinhos, o modelo deixa de identificar as anomalias, se comportando de maneira similar à regressão logística. Repetiremos o ajuste do molode de regressão logística, mas agora com os dados normalizados. Para isso, usaremos a função StandardScaler e verificaremos se o resultado será influenciado."
   ]
  },
  {
   "cell_type": "code",
   "execution_count": 45,
   "metadata": {},
   "outputs": [],
   "source": [
    "# Normalizando os dados\n",
    "ss = StandardScaler()\n",
    "Xtrain_n = ss.fit_transform(Xtrain)\n",
    "Xtest_n = ss.transform(Xtest)"
   ]
  },
  {
   "cell_type": "code",
   "execution_count": 46,
   "metadata": {},
   "outputs": [
    {
     "data": {
      "image/png": "[encoded data removed]",
      "text/plain": [
       "<Figure size 1440x720 with 1 Axes>"
      ]
     },
     "metadata": {
      "needs_background": "light"
     },
     "output_type": "display_data"
    },
    {
     "name": "stdout",
     "output_type": "stream",
     "text": [
      "O valor máximo do F1 Score para o treino é 99.76426581581148 % para t = 0.9125000000000001\n",
      "\n",
      "O valor máximo do F1 Score para a validação é 99.75803943471114 % para t = 0.0\n",
      "\n",
      "Tempo de execução: 11.603504657745361 segundos.\n"
     ]
    }
   ],
   "source": [
    "threshold = np.arange(0, 1, 0.0125)\n",
    "\n",
    "lista_media_metrica_treino = []\n",
    "lista_media_metrica_validacao = []\n",
    "\n",
    "t0 = time.time()\n",
    "\n",
    "for t in threshold:\n",
    "    \n",
    "    lt, lv, cl = validacao_cruzada(classificador = LogisticRegression(), \n",
    "                               X_data = Xtrain_n, \n",
    "                               y_data = ytrain, \n",
    "                               metrica = f1_score,\n",
    "                               num_folds = 5, \n",
    "                               limiar = t)\n",
    "    \n",
    "    lista_media_metrica_treino.append(np.mean(lt))\n",
    "    lista_media_metrica_validacao.append(np.mean(lv))\n",
    "    \n",
    "plt.figure(figsize=[20,10])\n",
    "plt.plot(range(len(threshold)), lista_media_metrica_treino, c = 'red', label = 'F1 médio - TREINO', lw = 2)\n",
    "plt.plot(range(len(threshold)), lista_media_metrica_validacao, c = 'blue', label = 'F1 médio - VALIDAÇÃO', lw = 2)\n",
    "plt.xticks(range(len(threshold)), threshold.round(2), fontsize = 14, rotation=90)\n",
    "plt.legend(fontsize = 14, bbox_to_anchor = [1,1])\n",
    "plt.grid()\n",
    "plt.xlabel(\"Limiar\", fontsize = 14, fontweight = 'bold')\n",
    "plt.ylabel(\"Valor\", fontsize = 14, fontweight = 'bold')\n",
    "plt.title(\"Dispersão do F1 (cross-val.) por limiar - Reg. Logística\", fontsize = 16, fontweight = 'bold')\n",
    "plt.show()\n",
    "\n",
    "print('O valor máximo do F1 Score para o treino é ', end='')\n",
    "print(str(np.max(lista_media_metrica_treino)*100) + ' %', end=' ')\n",
    "print('para t = ', end='')\n",
    "print(threshold[lista_media_metrica_treino.index(np.max(lista_media_metrica_treino))], end='\\n\\n')\n",
    "\n",
    "print('O valor máximo do F1 Score para a validação é ', end='')\n",
    "print(str(np.max(lista_media_metrica_validacao)*100) + ' %', end=' ')\n",
    "print('para t = ', end='')\n",
    "print(threshold[lista_media_metrica_validacao.index(np.max(lista_media_metrica_validacao))], end='\\n\\n')\n",
    "\n",
    "t1 = time.time()\n",
    "print('Tempo de execução: %s segundos.' %(t1-t0))"
   ]
  },
  {
   "cell_type": "markdown",
   "metadata": {},
   "source": [
    "Vemos que o resultado é bastante similar ao caso sem normalização. Para t = 0.5, obtemos as seguintes matrizes de confusão."
   ]
  },
  {
   "cell_type": "code",
   "execution_count": 47,
   "metadata": {},
   "outputs": [
    {
     "name": "stdout",
     "output_type": "stream",
     "text": [
      "O valor médio do F1 Score para os dados treino é 99.75807701606445 %.\n",
      "O valor médio do F1 Score para os dados de validação é 99.75803943471114 %.\n",
      "O valor do F1 Score para os dados de teste é 99.62732919254658 %.\n"
     ]
    }
   ],
   "source": [
    "lt, lv, cl = validacao_cruzada(classificador = LogisticRegression(), \n",
    "                               X_data = Xtrain_n, \n",
    "                               y_data = ytrain, \n",
    "                               metrica = f1_score,\n",
    "                               num_folds = 5, \n",
    "                               limiar = 0.5)\n",
    "    \n",
    "f1_treino = np.mean(lt)\n",
    "f1_validacao = np.mean(lv)\n",
    "\n",
    "print('O valor médio do F1 Score para os dados treino é ', end='')\n",
    "print(str(f1_treino * 100) + ' %.')\n",
    "\n",
    "print('O valor médio do F1 Score para os dados de validação é ', end='')\n",
    "print(str(f1_validacao * 100) + ' %.')\n",
    "\n",
    "y_pred_test = cl.predict(Xtest)\n",
    "f1_test = f1_score(y_true = ytest, y_pred = y_pred_test)\n",
    "\n",
    "print('O valor do F1 Score para os dados de teste é ', end='')\n",
    "print(str(f1_test * 100) + ' %.')"
   ]
  },
  {
   "cell_type": "code",
   "execution_count": 48,
   "metadata": {},
   "outputs": [
    {
     "name": "stdout",
     "output_type": "stream",
     "text": [
      "Matriz de confusão: Dados de treino\n"
     ]
    },
    {
     "data": {
      "text/html": [
       "<div>\n",
       "<style scoped>\n",
       "    .dataframe tbody tr th:only-of-type {\n",
       "        vertical-align: middle;\n",
       "    }\n",
       "\n",
       "    .dataframe tbody tr th {\n",
       "        vertical-align: top;\n",
       "    }\n",
       "\n",
       "    .dataframe thead th {\n",
       "        text-align: right;\n",
       "    }\n",
       "</style>\n",
       "<table border=\"1\" class=\"dataframe\">\n",
       "  <thead>\n",
       "    <tr style=\"text-align: right;\">\n",
       "      <th></th>\n",
       "      <th>Com anom. (P)</th>\n",
       "      <th>Sem anom. (P)</th>\n",
       "    </tr>\n",
       "  </thead>\n",
       "  <tbody>\n",
       "    <tr>\n",
       "      <th>Com anom. (R)</th>\n",
       "      <td>0</td>\n",
       "      <td>39</td>\n",
       "    </tr>\n",
       "    <tr>\n",
       "      <th>Sem anom. (R)</th>\n",
       "      <td>0</td>\n",
       "      <td>8041</td>\n",
       "    </tr>\n",
       "  </tbody>\n",
       "</table>\n",
       "</div>"
      ],
      "text/plain": [
       "               Com anom. (P)  Sem anom. (P)\n",
       "Com anom. (R)              0             39\n",
       "Sem anom. (R)              0           8041"
      ]
     },
     "execution_count": 48,
     "metadata": {},
     "output_type": "execute_result"
    }
   ],
   "source": [
    "cm_lg_tr = confusion_matrix(y_true = ytrain, y_pred = cl.predict(Xtrain))\n",
    "df_cm_lg_tr = pd.DataFrame(np.c_[cm_lg_tr],\n",
    "                     columns = ['Com anom. (P)', 'Sem anom. (P)'],\n",
    "                     index = ['Com anom. (R)', 'Sem anom. (R)'])\n",
    "print('Matriz de confusão: Dados de treino')\n",
    "df_cm_lg_tr"
   ]
  },
  {
   "cell_type": "code",
   "execution_count": 49,
   "metadata": {},
   "outputs": [
    {
     "name": "stdout",
     "output_type": "stream",
     "text": [
      "Matriz de confusão: Dados de teste\n"
     ]
    },
    {
     "data": {
      "text/html": [
       "<div>\n",
       "<style scoped>\n",
       "    .dataframe tbody tr th:only-of-type {\n",
       "        vertical-align: middle;\n",
       "    }\n",
       "\n",
       "    .dataframe tbody tr th {\n",
       "        vertical-align: top;\n",
       "    }\n",
       "\n",
       "    .dataframe thead th {\n",
       "        text-align: right;\n",
       "    }\n",
       "</style>\n",
       "<table border=\"1\" class=\"dataframe\">\n",
       "  <thead>\n",
       "    <tr style=\"text-align: right;\">\n",
       "      <th></th>\n",
       "      <th>Com anom. (P)</th>\n",
       "      <th>Sem anom. (P)</th>\n",
       "    </tr>\n",
       "  </thead>\n",
       "  <tbody>\n",
       "    <tr>\n",
       "      <th>Com anom. (R)</th>\n",
       "      <td>0</td>\n",
       "      <td>15</td>\n",
       "    </tr>\n",
       "    <tr>\n",
       "      <th>Sem anom. (R)</th>\n",
       "      <td>0</td>\n",
       "      <td>2005</td>\n",
       "    </tr>\n",
       "  </tbody>\n",
       "</table>\n",
       "</div>"
      ],
      "text/plain": [
       "               Com anom. (P)  Sem anom. (P)\n",
       "Com anom. (R)              0             15\n",
       "Sem anom. (R)              0           2005"
      ]
     },
     "execution_count": 49,
     "metadata": {},
     "output_type": "execute_result"
    }
   ],
   "source": [
    "cm_lg = confusion_matrix(y_true = ytest, y_pred = y_pred_test)\n",
    "df_cm_lg = pd.DataFrame(np.c_[cm_lg],\n",
    "                     columns = ['Com anom. (P)', 'Sem anom. (P)'],\n",
    "                     index = ['Com anom. (R)', 'Sem anom. (R)'])\n",
    "print('Matriz de confusão: Dados de teste')\n",
    "df_cm_lg"
   ]
  },
  {
   "cell_type": "markdown",
   "metadata": {},
   "source": [
    "Vemos que, independente da normalização, o modelo de regressão logística simples não é capaz de predizer quando há, ou não, uma anomalia. Uma possibilidade seria usar modelos de ordem superior, como polinômios de segunda ordem, por exemplo, ou até mesmo modelos de árvores de decisão, ou baseados em árvores de decisão, como ensambles.\n",
    "\n",
    "Para os casos considerados na segunda parte do exercício, o único modelo que se mostrou capaz de predizer se há anomalia foi o KNN (K = 1), entretanto, quando comparado ao modelo basedo nas funções de densidade de probabilidade, vemos que a resposta do mesmo não é tão boa.\n",
    "\n",
    "Além disso, percebe-se, também, que a métrica f1 score não é uma boa metodologia a ser utilizada, uma vez que a quantidade total de anomalias presentes é muito menor que o total de dados normais. O mesmo pode ser dito para os parâmetros accuracy, precision e recall. Apesar do comentário anterior, talvez o coeficiente accuracy fosse mais adequado à análise. A métrica f1 foi escolhida, pois na parte 1 do problema ela apresentou uma boa resposta aos dados, entretanto, na parte 2 vimos que apesar dos modelos testados apresentarem um alto valor para a métrica f1, os mesmos não foram capazes de identificar as anomalias.\n",
    "\n",
    "__Dúvidas__: \n",
    "\n",
    "1. Qual seria a métrica mais indicada para esse tipo de análise? Na parte 1, f1 pareceu ser uma boa escolha, mas testando os modelos de classificação na parte 2, fica claro que não é a melhor.\n",
    "\n",
    "2. No caso de anomalias, o modelo apresentado na parte 1 do exercício será o mais indicado? Poderia me indicar algum outro modelo para estudar?"
   ]
  },
  {
   "cell_type": "code",
   "execution_count": null,
   "metadata": {},
   "outputs": [],
   "source": []
  }
 ],
 "metadata": {
  "kernelspec": {
   "display_name": "Python 3",
   "language": "python",
   "name": "python3"
  },
  "language_info": {
   "codemirror_mode": {
    "name": "ipython",
    "version": 3
   },
   "file_extension": ".py",
   "mimetype": "text/x-python",
   "name": "python",
   "nbconvert_exporter": "python",
   "pygments_lexer": "ipython3",
   "version": "3.8.8"
  }
 },
 "nbformat": 4,
 "nbformat_minor": 2
}
