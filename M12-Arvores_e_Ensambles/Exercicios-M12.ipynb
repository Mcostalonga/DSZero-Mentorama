{
 "cells": [
  {
   "cell_type": "markdown",
   "metadata": {},
   "source": [
    "# Michell Luiz Costalonga\n",
    "\n",
    "# Exercícios - Módulo 12\n",
    "\n",
    "### Modelos baseados em árvores\n",
    "\n",
    "<br>\n",
    "\n",
    "Ao longo do módulo, discutimos bastante as árvores de decisão, bem como ensemble de árvores, como Random Forest e algoritmos do tipo boosting.\n",
    "\n",
    "Esses __ensembles acabam tendo muitos hiperparâmetros;__ escolhe-los de forma manual acaba sendo muito custoso e tedioso. \n",
    "\n",
    "Neste exercício, vamos discutir a respeito da metolodia __grid-search__, que otimiza essa busca de hiperparâmetros.\n",
    "\n",
    "Considere o dataset abaixo (basta executar as células):"
   ]
  },
  {
   "cell_type": "code",
   "execution_count": 1,
   "metadata": {},
   "outputs": [],
   "source": [
    "# Importando bibliotecas\n",
    "import pandas as pd\n",
    "import numpy as np\n",
    "import matplotlib.pyplot as plt\n",
    "\n",
    "# Usado para tornar a ordem dos dados aleatória\n",
    "from sklearn.utils import shuffle \n",
    "\n",
    "# Algorítmos de regressão\n",
    "from sklearn.neighbors import KNeighborsRegressor\n",
    "from sklearn.ensemble import RandomForestRegressor, GradientBoostingRegressor\n",
    "\n",
    "# Função para normalização e codificação dos dados, respectivamente\n",
    "from sklearn.preprocessing import StandardScaler, OneHotEncoder\n",
    "\n",
    "# Funções com métricas de performance\n",
    "from sklearn.metrics import mean_squared_error, r2_score\n",
    "\n",
    "# Função para realizar a validação cruzada e separação dos dados\n",
    "from sklearn.model_selection import cross_val_score, train_test_split, GridSearchCV\n",
    "\n",
    "# Datasets\n",
    "from sklearn.datasets import load_diabetes\n",
    "\n",
    "# Contar tempo\n",
    "import time\n",
    "\n",
    "# ignorar avisos\n",
    "import warnings\n",
    "warnings.filterwarnings('ignore')"
   ]
  },
  {
   "cell_type": "code",
   "execution_count": 2,
   "metadata": {},
   "outputs": [
    {
     "name": "stdout",
     "output_type": "stream",
     "text": [
      "(331, 10) (111, 10) (331,) (111,)\n"
     ]
    }
   ],
   "source": [
    "#problema de regressão\n",
    "\n",
    "X, y = load_diabetes().data, load_diabetes().target\n",
    "Xtrain, Xtest, ytrain, ytest = train_test_split(X, y, test_size = 0.25, random_state = 42)\n",
    "print(Xtrain.shape, Xtest.shape, ytrain.shape, ytest.shape)"
   ]
  },
  {
   "cell_type": "markdown",
   "metadata": {},
   "source": [
    "Imagine que queremos testar - usando cross-validation - várias instâncias de Random Forests: com 10 árvores, com 100 árvores, com 1000 árvores, com profundidade máxima 1, 5, 10. \n",
    "\n",
    "Como podemos proceder? O código abaixo exemplifica um jeito:"
   ]
  },
  {
   "cell_type": "code",
   "execution_count": 3,
   "metadata": {},
   "outputs": [
    {
     "name": "stdout",
     "output_type": "stream",
     "text": [
      "estimators:  10  prof:  1  | R2 mean / std:  0.34852765751092557  /  0.03265951438722261\n",
      "estimators:  10  prof:  5  | R2 mean / std:  0.39964191304965196  /  0.06289241406662849\n",
      "estimators:  10  prof:  10  | R2 mean / std:  0.406573775343376  /  0.014109384844909627\n",
      "estimators:  100  prof:  1  | R2 mean / std:  0.3330142259255648  /  0.039300465798423265\n",
      "estimators:  100  prof:  5  | R2 mean / std:  0.43548449693987584  /  0.035745194391947\n",
      "estimators:  100  prof:  10  | R2 mean / std:  0.422364352464796  /  0.03561323580405732\n",
      "estimators:  100  prof:  1  | R2 mean / std:  0.33878980904360373  /  0.03373092237498488\n",
      "estimators:  100  prof:  5  | R2 mean / std:  0.4247614487477402  /  0.037674855364625996\n",
      "estimators:  100  prof:  10  | R2 mean / std:  0.41215427142739164  /  0.03113422662913163\n"
     ]
    }
   ],
   "source": [
    "\n",
    "\n",
    "for n_est in [10,100,100]:\n",
    "    for prof in [1,5,10]:\n",
    "        rf = RandomForestRegressor(n_estimators=n_est, max_depth=prof)\n",
    "        cvres = cross_val_score(estimator=rf, X = Xtrain, y = ytrain, cv = 3, scoring='r2')\n",
    "        print(\"estimators: \", n_est, \" prof: \", prof, \" | R2 mean / std: \", cvres.mean(), ' / ', cvres.std())"
   ]
  },
  {
   "cell_type": "markdown",
   "metadata": {},
   "source": [
    "Podemos, com algum trabalho, escolher o melhor modelo.\n",
    "\n",
    "Se quisermos testar mais parâmetros, podemos aumentar nosso loop... mais isso vai ficando cada vez mais complicado.\n",
    "\n",
    "A proposta do __grid-search__ é justamente fazer isso de forma mais automática!\n",
    "\n",
    "Podemos importar a função GridSearchCV do módulo model_selection do sklearn e usá-la para isso. \n",
    "Na prática, precisamos definir um __estimador base__ para o grid. Além disso, precisamos definir um __dicionário de parâmetros__ a ser testado. Ainda, definiremos a quantidade de folds para cross-validation e qual a métrica de performance que queremos otimizar:"
   ]
  },
  {
   "cell_type": "code",
   "execution_count": 4,
   "metadata": {},
   "outputs": [],
   "source": [
    "#definindo o estimador base\n",
    "estimador_base = RandomForestRegressor()\n",
    "\n",
    "#definindo o dicionario de parâmetros do modelo\n",
    "params_RF = {\"n_estimators\":[10,500], \"max_depth\":[2,10]}"
   ]
  },
  {
   "cell_type": "code",
   "execution_count": 5,
   "metadata": {},
   "outputs": [
    {
     "data": {
      "text/plain": [
       "GridSearchCV(cv=3, estimator=RandomForestRegressor(),\n",
       "             param_grid={'max_depth': [2, 10], 'n_estimators': [10, 500]},\n",
       "             scoring='r2')"
      ]
     },
     "execution_count": 5,
     "metadata": {},
     "output_type": "execute_result"
    }
   ],
   "source": [
    "grid = GridSearchCV(estimator = estimador_base, \n",
    "                    param_grid = params_RF, \n",
    "                    scoring = 'r2', \n",
    "                    cv = 3)\n",
    "\n",
    "grid"
   ]
  },
  {
   "cell_type": "code",
   "execution_count": 6,
   "metadata": {},
   "outputs": [
    {
     "data": {
      "text/plain": [
       "GridSearchCV(cv=3, estimator=RandomForestRegressor(),\n",
       "             param_grid={'max_depth': [2, 10], 'n_estimators': [10, 500]},\n",
       "             scoring='r2')"
      ]
     },
     "execution_count": 6,
     "metadata": {},
     "output_type": "execute_result"
    }
   ],
   "source": [
    "#treinando os modelos no grid\n",
    "grid.fit(Xtrain, ytrain)"
   ]
  },
  {
   "cell_type": "markdown",
   "metadata": {},
   "source": [
    "O objeto \"grid\", após o treinamento acima, conterá várias informações muito relevantes. \n",
    "\n",
    "__1- \"best_params_\":__ retorna os melhores parâmetros, de acordo com a métrica de performance avaliada na cross-validation;\n",
    "\n",
    "__1- \"best_score_\":__ retorna o melhor score - métrica de performance - nos dados de validação;\n",
    "\n",
    "__1- \"best_estimator_\":__ retorna o melhor modelo, já treinado;\n",
    "\n",
    "__1- \"cv_results_\":__ retorna uma visão geral dos resultados."
   ]
  },
  {
   "cell_type": "code",
   "execution_count": 7,
   "metadata": {},
   "outputs": [
    {
     "data": {
      "text/plain": [
       "{'max_depth': 10, 'n_estimators': 500}"
      ]
     },
     "execution_count": 7,
     "metadata": {},
     "output_type": "execute_result"
    }
   ],
   "source": [
    "grid.best_params_"
   ]
  },
  {
   "cell_type": "code",
   "execution_count": 8,
   "metadata": {},
   "outputs": [
    {
     "data": {
      "text/plain": [
       "0.4201875292947403"
      ]
     },
     "execution_count": 8,
     "metadata": {},
     "output_type": "execute_result"
    }
   ],
   "source": [
    "grid.best_score_"
   ]
  },
  {
   "cell_type": "code",
   "execution_count": 9,
   "metadata": {},
   "outputs": [
    {
     "data": {
      "text/plain": [
       "RandomForestRegressor(max_depth=10, n_estimators=500)"
      ]
     },
     "execution_count": 9,
     "metadata": {},
     "output_type": "execute_result"
    }
   ],
   "source": [
    "grid.best_estimator_"
   ]
  },
  {
   "cell_type": "code",
   "execution_count": 10,
   "metadata": {},
   "outputs": [
    {
     "data": {
      "text/plain": [
       "{'mean_fit_time': array([0.00933369, 0.41951966, 0.01300009, 0.59692502]),\n",
       " 'std_fit_time': array([4.70471583e-04, 7.97620790e-03, 2.53317792e-06, 1.15937895e-02]),\n",
       " 'mean_score_time': array([0.00099913, 0.02633389, 0.00100009, 0.029006  ]),\n",
       " 'std_score_time': array([9.60274217e-07, 4.73853206e-04, 4.49566384e-07, 8.10803879e-04]),\n",
       " 'param_max_depth': masked_array(data=[2, 2, 10, 10],\n",
       "              mask=[False, False, False, False],\n",
       "        fill_value='?',\n",
       "             dtype=object),\n",
       " 'param_n_estimators': masked_array(data=[10, 500, 10, 500],\n",
       "              mask=[False, False, False, False],\n",
       "        fill_value='?',\n",
       "             dtype=object),\n",
       " 'params': [{'max_depth': 2, 'n_estimators': 10},\n",
       "  {'max_depth': 2, 'n_estimators': 500},\n",
       "  {'max_depth': 10, 'n_estimators': 10},\n",
       "  {'max_depth': 10, 'n_estimators': 500}],\n",
       " 'split0_test_score': array([0.25917085, 0.34899806, 0.21880261, 0.36967816]),\n",
       " 'split1_test_score': array([0.42366251, 0.44704195, 0.39642644, 0.44419832]),\n",
       " 'split2_test_score': array([0.39100695, 0.43254566, 0.40741891, 0.44668611]),\n",
       " 'mean_test_score': array([0.35794677, 0.40952855, 0.34088265, 0.42018753]),\n",
       " 'std_test_score': array([0.07110606, 0.04320873, 0.0864402 , 0.03572995]),\n",
       " 'rank_test_score': array([3, 2, 4, 1])}"
      ]
     },
     "execution_count": 10,
     "metadata": {},
     "output_type": "execute_result"
    }
   ],
   "source": [
    "grid.cv_results_"
   ]
  },
  {
   "cell_type": "markdown",
   "metadata": {},
   "source": [
    "__Exercício 1:__ Utilizando o dataset abaixo, faça um grid_search com KNN's, Random Forests e GradientBoostings e retorne o melhor modelo de cada tipo.\n",
    "\n",
    "__Obs.:__ Lembre-se de fazer um pré-processamento nos dados!"
   ]
  },
  {
   "cell_type": "code",
   "execution_count": 11,
   "metadata": {},
   "outputs": [
    {
     "name": "stdout",
     "output_type": "stream",
     "text": [
      "(20640, 10)\n"
     ]
    },
    {
     "data": {
      "text/html": [
       "<div>\n",
       "<style scoped>\n",
       "    .dataframe tbody tr th:only-of-type {\n",
       "        vertical-align: middle;\n",
       "    }\n",
       "\n",
       "    .dataframe tbody tr th {\n",
       "        vertical-align: top;\n",
       "    }\n",
       "\n",
       "    .dataframe thead th {\n",
       "        text-align: right;\n",
       "    }\n",
       "</style>\n",
       "<table border=\"1\" class=\"dataframe\">\n",
       "  <thead>\n",
       "    <tr style=\"text-align: right;\">\n",
       "      <th></th>\n",
       "      <th>longitude</th>\n",
       "      <th>latitude</th>\n",
       "      <th>idade_mediana_das_casas</th>\n",
       "      <th>total_comodos</th>\n",
       "      <th>total_quartos</th>\n",
       "      <th>populacao</th>\n",
       "      <th>familias</th>\n",
       "      <th>salario_mediano</th>\n",
       "      <th>preco_mediano_das_casas</th>\n",
       "      <th>proximidade_ao_mar</th>\n",
       "    </tr>\n",
       "  </thead>\n",
       "  <tbody>\n",
       "    <tr>\n",
       "      <th>0</th>\n",
       "      <td>-122.23</td>\n",
       "      <td>37.88</td>\n",
       "      <td>41.0</td>\n",
       "      <td>880.0</td>\n",
       "      <td>129.0</td>\n",
       "      <td>322.0</td>\n",
       "      <td>126.0</td>\n",
       "      <td>8.3252</td>\n",
       "      <td>452600.0</td>\n",
       "      <td>PERTO DA BAÍA</td>\n",
       "    </tr>\n",
       "    <tr>\n",
       "      <th>1</th>\n",
       "      <td>-122.22</td>\n",
       "      <td>37.86</td>\n",
       "      <td>21.0</td>\n",
       "      <td>7099.0</td>\n",
       "      <td>1106.0</td>\n",
       "      <td>2401.0</td>\n",
       "      <td>1138.0</td>\n",
       "      <td>8.3014</td>\n",
       "      <td>358500.0</td>\n",
       "      <td>PERTO DA BAÍA</td>\n",
       "    </tr>\n",
       "    <tr>\n",
       "      <th>2</th>\n",
       "      <td>-122.24</td>\n",
       "      <td>37.85</td>\n",
       "      <td>52.0</td>\n",
       "      <td>1467.0</td>\n",
       "      <td>190.0</td>\n",
       "      <td>496.0</td>\n",
       "      <td>177.0</td>\n",
       "      <td>7.2574</td>\n",
       "      <td>352100.0</td>\n",
       "      <td>PERTO DA BAÍA</td>\n",
       "    </tr>\n",
       "    <tr>\n",
       "      <th>3</th>\n",
       "      <td>-122.25</td>\n",
       "      <td>37.85</td>\n",
       "      <td>52.0</td>\n",
       "      <td>1274.0</td>\n",
       "      <td>235.0</td>\n",
       "      <td>558.0</td>\n",
       "      <td>219.0</td>\n",
       "      <td>5.6431</td>\n",
       "      <td>341300.0</td>\n",
       "      <td>PERTO DA BAÍA</td>\n",
       "    </tr>\n",
       "    <tr>\n",
       "      <th>4</th>\n",
       "      <td>-122.25</td>\n",
       "      <td>37.85</td>\n",
       "      <td>52.0</td>\n",
       "      <td>1627.0</td>\n",
       "      <td>280.0</td>\n",
       "      <td>565.0</td>\n",
       "      <td>259.0</td>\n",
       "      <td>3.8462</td>\n",
       "      <td>342200.0</td>\n",
       "      <td>PERTO DA BAÍA</td>\n",
       "    </tr>\n",
       "  </tbody>\n",
       "</table>\n",
       "</div>"
      ],
      "text/plain": [
       "   longitude  latitude  idade_mediana_das_casas  total_comodos  total_quartos  \\\n",
       "0    -122.23     37.88                     41.0          880.0          129.0   \n",
       "1    -122.22     37.86                     21.0         7099.0         1106.0   \n",
       "2    -122.24     37.85                     52.0         1467.0          190.0   \n",
       "3    -122.25     37.85                     52.0         1274.0          235.0   \n",
       "4    -122.25     37.85                     52.0         1627.0          280.0   \n",
       "\n",
       "   populacao  familias  salario_mediano  preco_mediano_das_casas  \\\n",
       "0      322.0     126.0           8.3252                 452600.0   \n",
       "1     2401.0    1138.0           8.3014                 358500.0   \n",
       "2      496.0     177.0           7.2574                 352100.0   \n",
       "3      558.0     219.0           5.6431                 341300.0   \n",
       "4      565.0     259.0           3.8462                 342200.0   \n",
       "\n",
       "  proximidade_ao_mar  \n",
       "0      PERTO DA BAÍA  \n",
       "1      PERTO DA BAÍA  \n",
       "2      PERTO DA BAÍA  \n",
       "3      PERTO DA BAÍA  \n",
       "4      PERTO DA BAÍA  "
      ]
     },
     "execution_count": 11,
     "metadata": {},
     "output_type": "execute_result"
    }
   ],
   "source": [
    "#preco_mediano_das_casas é a variável target\n",
    "df = pd.read_csv(\"preco_casas.csv\")\n",
    "print(df.shape)\n",
    "df.head()"
   ]
  },
  {
   "cell_type": "markdown",
   "metadata": {},
   "source": [
    "### Pré-processamento dos dados\n",
    "\n",
    "Nesse passo, realizaremos o pré-processamento dos dados que será dividido em quatro partes:\n",
    "\n",
    "i. Tratamento das variáveis nulas\n",
    "\n",
    "ii. Codificação das variáveis categóricas\n",
    "\n",
    "iii. Normalização das variáveis numéricas (exceto as variáveis dummy)\n",
    "\n",
    "iv. Separação dos conjunto de dados em dados de treino e dados de teste\n",
    "\n",
    "#### i. Tratamento das variáveis nulas"
   ]
  },
  {
   "cell_type": "code",
   "execution_count": 12,
   "metadata": {},
   "outputs": [
    {
     "name": "stdout",
     "output_type": "stream",
     "text": [
      "Porcentagem de dados nulos por categoria:\n"
     ]
    },
    {
     "data": {
      "text/plain": [
       "longitude                  0.000\n",
       "latitude                   0.000\n",
       "idade_mediana_das_casas    0.000\n",
       "total_comodos              0.000\n",
       "total_quartos              1.003\n",
       "populacao                  0.000\n",
       "familias                   0.000\n",
       "salario_mediano            0.000\n",
       "preco_mediano_das_casas    0.000\n",
       "proximidade_ao_mar         0.000\n",
       "dtype: float64"
      ]
     },
     "execution_count": 12,
     "metadata": {},
     "output_type": "execute_result"
    }
   ],
   "source": [
    "# Porcentagem de dados nulos separados por categorias\n",
    "print('Porcentagem de dados nulos por categoria:')\n",
    "round((df.isnull().sum()/df.shape[0])*100, 3)"
   ]
  },
  {
   "cell_type": "markdown",
   "metadata": {},
   "source": [
    "Antes de realizar o tratamento, iremos verificar como a variável é dependente da localidade. Para isso, faremos um gráfico de dispersão entre as variáveis longitude e latitude e iremos inserir a variável '*total_quartos*' como cor. As localidades em que aparecem pontos vermelhos são as regiões com o maior número de quartos, enquanto as regiões em azul indicam localidades com os menores números de quartos no total."
   ]
  },
  {
   "cell_type": "code",
   "execution_count": 13,
   "metadata": {},
   "outputs": [
    {
     "data": {
      "image/png": "[encoded data removed]",
      "text/plain": [
       "<Figure size 720x576 with 2 Axes>"
      ]
     },
     "metadata": {
      "needs_background": "light"
     },
     "output_type": "display_data"
    }
   ],
   "source": [
    "# Criando gráfico de dispersão entre a posição geográfica (longitude x latitude)\n",
    "# com informação do valor da variável 'total_bedrooms' (barra de cor)\n",
    "plt.figure(figsize=[10,8])\n",
    "plt.scatter(df['longitude'], df['latitude'], c=df['total_quartos'], cmap=plt.cm.rainbow)\n",
    "plt.colorbar()\n",
    "plt.xlabel('Longitude', fontsize=14, fontweight='bold')\n",
    "plt.ylabel('Latitude', fontsize=14, fontweight='bold')\n",
    "plt.show()"
   ]
  },
  {
   "cell_type": "markdown",
   "metadata": {},
   "source": [
    "A partir do gráfico, conseguimos verificar que a maior parte dos dados apresentam um valor para a variável '*total_quartos*' menor que 1000. Com isso em mente, vemos que a localidade não influencia no número de quartos e preencheremos os valores nulos com a média da variável."
   ]
  },
  {
   "cell_type": "code",
   "execution_count": 14,
   "metadata": {},
   "outputs": [
    {
     "name": "stdout",
     "output_type": "stream",
     "text": [
      "A média de \"total_quartos\" é: 538 e todos os valores nulos foram preenchidos.\n"
     ]
    }
   ],
   "source": [
    "media_total_bedrooms = round(df['total_quartos'].mean(),0)\n",
    "print('A média de \"total_quartos\" é: %d e todos os valores nulos foram preenchidos.' %(media_total_bedrooms))\n",
    "\n",
    "df.total_quartos.fillna(media_total_bedrooms, inplace=True)"
   ]
  },
  {
   "cell_type": "markdown",
   "metadata": {},
   "source": [
    "#### One Hot Encoder: Codificação de variáveis categóricas"
   ]
  },
  {
   "cell_type": "code",
   "execution_count": 15,
   "metadata": {},
   "outputs": [
    {
     "data": {
      "text/html": [
       "<div>\n",
       "<style scoped>\n",
       "    .dataframe tbody tr th:only-of-type {\n",
       "        vertical-align: middle;\n",
       "    }\n",
       "\n",
       "    .dataframe tbody tr th {\n",
       "        vertical-align: top;\n",
       "    }\n",
       "\n",
       "    .dataframe thead th {\n",
       "        text-align: right;\n",
       "    }\n",
       "</style>\n",
       "<table border=\"1\" class=\"dataframe\">\n",
       "  <thead>\n",
       "    <tr style=\"text-align: right;\">\n",
       "      <th></th>\n",
       "      <th>longitude</th>\n",
       "      <th>latitude</th>\n",
       "      <th>idade_mediana_das_casas</th>\n",
       "      <th>total_comodos</th>\n",
       "      <th>total_quartos</th>\n",
       "      <th>populacao</th>\n",
       "      <th>familias</th>\n",
       "      <th>salario_mediano</th>\n",
       "      <th>preco_mediano_das_casas</th>\n",
       "      <th>&lt;1H OCEANO</th>\n",
       "      <th>ILHA</th>\n",
       "      <th>INTERIOR</th>\n",
       "      <th>PERTO DA BAÍA</th>\n",
       "      <th>PERTO OCEANO</th>\n",
       "    </tr>\n",
       "  </thead>\n",
       "  <tbody>\n",
       "    <tr>\n",
       "      <th>0</th>\n",
       "      <td>-122.23</td>\n",
       "      <td>37.88</td>\n",
       "      <td>41.0</td>\n",
       "      <td>880.0</td>\n",
       "      <td>129.0</td>\n",
       "      <td>322.0</td>\n",
       "      <td>126.0</td>\n",
       "      <td>8.3252</td>\n",
       "      <td>452600.0</td>\n",
       "      <td>0.0</td>\n",
       "      <td>0.0</td>\n",
       "      <td>0.0</td>\n",
       "      <td>1.0</td>\n",
       "      <td>0.0</td>\n",
       "    </tr>\n",
       "    <tr>\n",
       "      <th>1</th>\n",
       "      <td>-122.22</td>\n",
       "      <td>37.86</td>\n",
       "      <td>21.0</td>\n",
       "      <td>7099.0</td>\n",
       "      <td>1106.0</td>\n",
       "      <td>2401.0</td>\n",
       "      <td>1138.0</td>\n",
       "      <td>8.3014</td>\n",
       "      <td>358500.0</td>\n",
       "      <td>0.0</td>\n",
       "      <td>0.0</td>\n",
       "      <td>0.0</td>\n",
       "      <td>1.0</td>\n",
       "      <td>0.0</td>\n",
       "    </tr>\n",
       "    <tr>\n",
       "      <th>2</th>\n",
       "      <td>-122.24</td>\n",
       "      <td>37.85</td>\n",
       "      <td>52.0</td>\n",
       "      <td>1467.0</td>\n",
       "      <td>190.0</td>\n",
       "      <td>496.0</td>\n",
       "      <td>177.0</td>\n",
       "      <td>7.2574</td>\n",
       "      <td>352100.0</td>\n",
       "      <td>0.0</td>\n",
       "      <td>0.0</td>\n",
       "      <td>0.0</td>\n",
       "      <td>1.0</td>\n",
       "      <td>0.0</td>\n",
       "    </tr>\n",
       "    <tr>\n",
       "      <th>3</th>\n",
       "      <td>-122.25</td>\n",
       "      <td>37.85</td>\n",
       "      <td>52.0</td>\n",
       "      <td>1274.0</td>\n",
       "      <td>235.0</td>\n",
       "      <td>558.0</td>\n",
       "      <td>219.0</td>\n",
       "      <td>5.6431</td>\n",
       "      <td>341300.0</td>\n",
       "      <td>0.0</td>\n",
       "      <td>0.0</td>\n",
       "      <td>0.0</td>\n",
       "      <td>1.0</td>\n",
       "      <td>0.0</td>\n",
       "    </tr>\n",
       "    <tr>\n",
       "      <th>4</th>\n",
       "      <td>-122.25</td>\n",
       "      <td>37.85</td>\n",
       "      <td>52.0</td>\n",
       "      <td>1627.0</td>\n",
       "      <td>280.0</td>\n",
       "      <td>565.0</td>\n",
       "      <td>259.0</td>\n",
       "      <td>3.8462</td>\n",
       "      <td>342200.0</td>\n",
       "      <td>0.0</td>\n",
       "      <td>0.0</td>\n",
       "      <td>0.0</td>\n",
       "      <td>1.0</td>\n",
       "      <td>0.0</td>\n",
       "    </tr>\n",
       "  </tbody>\n",
       "</table>\n",
       "</div>"
      ],
      "text/plain": [
       "   longitude  latitude  idade_mediana_das_casas  total_comodos  total_quartos  \\\n",
       "0    -122.23     37.88                     41.0          880.0          129.0   \n",
       "1    -122.22     37.86                     21.0         7099.0         1106.0   \n",
       "2    -122.24     37.85                     52.0         1467.0          190.0   \n",
       "3    -122.25     37.85                     52.0         1274.0          235.0   \n",
       "4    -122.25     37.85                     52.0         1627.0          280.0   \n",
       "\n",
       "   populacao  familias  salario_mediano  preco_mediano_das_casas  <1H OCEANO  \\\n",
       "0      322.0     126.0           8.3252                 452600.0         0.0   \n",
       "1     2401.0    1138.0           8.3014                 358500.0         0.0   \n",
       "2      496.0     177.0           7.2574                 352100.0         0.0   \n",
       "3      558.0     219.0           5.6431                 341300.0         0.0   \n",
       "4      565.0     259.0           3.8462                 342200.0         0.0   \n",
       "\n",
       "   ILHA  INTERIOR  PERTO DA BAÍA  PERTO OCEANO  \n",
       "0   0.0       0.0            1.0           0.0  \n",
       "1   0.0       0.0            1.0           0.0  \n",
       "2   0.0       0.0            1.0           0.0  \n",
       "3   0.0       0.0            1.0           0.0  \n",
       "4   0.0       0.0            1.0           0.0  "
      ]
     },
     "execution_count": 15,
     "metadata": {},
     "output_type": "execute_result"
    }
   ],
   "source": [
    "# Instanciando a função OneHotEncoder\n",
    "ohe = OneHotEncoder()\n",
    "\n",
    "# Retorna a variável categórica codificada\n",
    "var = ohe.fit_transform(df[['proximidade_ao_mar']]).toarray()\n",
    "\n",
    "# Retorna o nome das colunas\n",
    "nome_col = ohe.categories_[0]\n",
    "\n",
    "# Removendo a coluna da variável categórica, a opção axis='1' é usada para se referir a coluna e a opção inplace=True\n",
    "#indica que a informação será salva na variável original, ou seja, na própria variável df.\n",
    "df.drop('proximidade_ao_mar', axis=1, inplace=True)\n",
    "\n",
    "# Guardaremos o nome das colunas do dataframe acima e das categorias em uma lista\n",
    "nome_colunas = []\n",
    "for item in df.columns:\n",
    "    nome_colunas.append(item)\n",
    "\n",
    "for item in nome_col:\n",
    "    nome_colunas.append(item)\n",
    "    \n",
    "# Criando um dataframe com as variáveis numéricas e as variáveis codificadas\n",
    "df = pd.DataFrame(np.c_[df, var])\n",
    "\n",
    "# Renomeando as colunas\n",
    "df.columns = nome_colunas\n",
    "\n",
    "# Imprimindo a nova tabela\n",
    "df.head()"
   ]
  },
  {
   "cell_type": "markdown",
   "metadata": {},
   "source": [
    "#### Normalização das variáveis numéricas, com exceção das variáveis dummies"
   ]
  },
  {
   "cell_type": "code",
   "execution_count": 16,
   "metadata": {},
   "outputs": [
    {
     "data": {
      "text/html": [
       "<div>\n",
       "<style scoped>\n",
       "    .dataframe tbody tr th:only-of-type {\n",
       "        vertical-align: middle;\n",
       "    }\n",
       "\n",
       "    .dataframe tbody tr th {\n",
       "        vertical-align: top;\n",
       "    }\n",
       "\n",
       "    .dataframe thead th {\n",
       "        text-align: right;\n",
       "    }\n",
       "</style>\n",
       "<table border=\"1\" class=\"dataframe\">\n",
       "  <thead>\n",
       "    <tr style=\"text-align: right;\">\n",
       "      <th></th>\n",
       "      <th>longitude</th>\n",
       "      <th>latitude</th>\n",
       "      <th>idade_mediana_das_casas</th>\n",
       "      <th>total_comodos</th>\n",
       "      <th>total_quartos</th>\n",
       "      <th>populacao</th>\n",
       "      <th>familias</th>\n",
       "      <th>salario_mediano</th>\n",
       "      <th>preco_mediano_das_casas</th>\n",
       "      <th>&lt;1H OCEANO</th>\n",
       "      <th>ILHA</th>\n",
       "      <th>INTERIOR</th>\n",
       "      <th>PERTO DA BAÍA</th>\n",
       "      <th>PERTO OCEANO</th>\n",
       "    </tr>\n",
       "  </thead>\n",
       "  <tbody>\n",
       "    <tr>\n",
       "      <th>0</th>\n",
       "      <td>-1.327835</td>\n",
       "      <td>1.052548</td>\n",
       "      <td>0.982143</td>\n",
       "      <td>-0.804819</td>\n",
       "      <td>-0.975231</td>\n",
       "      <td>-0.974429</td>\n",
       "      <td>-0.977033</td>\n",
       "      <td>2.344766</td>\n",
       "      <td>452600.0</td>\n",
       "      <td>0.0</td>\n",
       "      <td>0.0</td>\n",
       "      <td>0.0</td>\n",
       "      <td>1.0</td>\n",
       "      <td>0.0</td>\n",
       "    </tr>\n",
       "    <tr>\n",
       "      <th>1</th>\n",
       "      <td>-1.322844</td>\n",
       "      <td>1.043185</td>\n",
       "      <td>-0.607019</td>\n",
       "      <td>2.045890</td>\n",
       "      <td>1.355085</td>\n",
       "      <td>0.861439</td>\n",
       "      <td>1.669961</td>\n",
       "      <td>2.332238</td>\n",
       "      <td>358500.0</td>\n",
       "      <td>0.0</td>\n",
       "      <td>0.0</td>\n",
       "      <td>0.0</td>\n",
       "      <td>1.0</td>\n",
       "      <td>0.0</td>\n",
       "    </tr>\n",
       "    <tr>\n",
       "      <th>2</th>\n",
       "      <td>-1.332827</td>\n",
       "      <td>1.038503</td>\n",
       "      <td>1.856182</td>\n",
       "      <td>-0.535746</td>\n",
       "      <td>-0.829735</td>\n",
       "      <td>-0.820777</td>\n",
       "      <td>-0.843637</td>\n",
       "      <td>1.782699</td>\n",
       "      <td>352100.0</td>\n",
       "      <td>0.0</td>\n",
       "      <td>0.0</td>\n",
       "      <td>0.0</td>\n",
       "      <td>1.0</td>\n",
       "      <td>0.0</td>\n",
       "    </tr>\n",
       "    <tr>\n",
       "      <th>3</th>\n",
       "      <td>-1.337818</td>\n",
       "      <td>1.038503</td>\n",
       "      <td>1.856182</td>\n",
       "      <td>-0.624215</td>\n",
       "      <td>-0.722402</td>\n",
       "      <td>-0.766028</td>\n",
       "      <td>-0.733781</td>\n",
       "      <td>0.932968</td>\n",
       "      <td>341300.0</td>\n",
       "      <td>0.0</td>\n",
       "      <td>0.0</td>\n",
       "      <td>0.0</td>\n",
       "      <td>1.0</td>\n",
       "      <td>0.0</td>\n",
       "    </tr>\n",
       "    <tr>\n",
       "      <th>4</th>\n",
       "      <td>-1.337818</td>\n",
       "      <td>1.038503</td>\n",
       "      <td>1.856182</td>\n",
       "      <td>-0.462404</td>\n",
       "      <td>-0.615070</td>\n",
       "      <td>-0.759847</td>\n",
       "      <td>-0.629157</td>\n",
       "      <td>-0.012881</td>\n",
       "      <td>342200.0</td>\n",
       "      <td>0.0</td>\n",
       "      <td>0.0</td>\n",
       "      <td>0.0</td>\n",
       "      <td>1.0</td>\n",
       "      <td>0.0</td>\n",
       "    </tr>\n",
       "  </tbody>\n",
       "</table>\n",
       "</div>"
      ],
      "text/plain": [
       "   longitude  latitude  idade_mediana_das_casas  total_comodos  total_quartos  \\\n",
       "0  -1.327835  1.052548                 0.982143      -0.804819      -0.975231   \n",
       "1  -1.322844  1.043185                -0.607019       2.045890       1.355085   \n",
       "2  -1.332827  1.038503                 1.856182      -0.535746      -0.829735   \n",
       "3  -1.337818  1.038503                 1.856182      -0.624215      -0.722402   \n",
       "4  -1.337818  1.038503                 1.856182      -0.462404      -0.615070   \n",
       "\n",
       "   populacao  familias  salario_mediano  preco_mediano_das_casas  <1H OCEANO  \\\n",
       "0  -0.974429 -0.977033         2.344766                 452600.0         0.0   \n",
       "1   0.861439  1.669961         2.332238                 358500.0         0.0   \n",
       "2  -0.820777 -0.843637         1.782699                 352100.0         0.0   \n",
       "3  -0.766028 -0.733781         0.932968                 341300.0         0.0   \n",
       "4  -0.759847 -0.629157        -0.012881                 342200.0         0.0   \n",
       "\n",
       "   ILHA  INTERIOR  PERTO DA BAÍA  PERTO OCEANO  \n",
       "0   0.0       0.0            1.0           0.0  \n",
       "1   0.0       0.0            1.0           0.0  \n",
       "2   0.0       0.0            1.0           0.0  \n",
       "3   0.0       0.0            1.0           0.0  \n",
       "4   0.0       0.0            1.0           0.0  "
      ]
     },
     "execution_count": 16,
     "metadata": {},
     "output_type": "execute_result"
    }
   ],
   "source": [
    "# Guardando o nome das colunas que serão normalizadas\n",
    "nome_col_norm = []\n",
    "\n",
    "for item in df.columns:\n",
    "    if (item != 'preco_mediano_das_casas'):\n",
    "        nome_col_norm.append(item)\n",
    "    else:\n",
    "        break\n",
    "\n",
    "# Instanciando a função StandardScaler\n",
    "ss = StandardScaler()\n",
    "\n",
    "# Normalizando as variáveis\n",
    "variaveis_normalizadas = ss.fit_transform(df[nome_col_norm])\n",
    "\n",
    "# Criando uma cópia do dataframe original\n",
    "df_norm = df.copy()\n",
    "\n",
    "# Inserindo os valores normalizados no dataframe\n",
    "df_norm = pd.DataFrame(np.c_[variaveis_normalizadas, df.preco_mediano_das_casas.values, var])\n",
    "df_norm.columns = nome_colunas\n",
    "\n",
    "# Imprimindo as primeiro cinco linhas do dataframe normalizado\n",
    "df_norm.head()"
   ]
  },
  {
   "cell_type": "markdown",
   "metadata": {},
   "source": [
    "#### Separação do conjunto de dados em dados de treino e dados de teste\n",
    "\n",
    "Nesse caso, usaremos a função train_test_split da biblioteca scikit-learn."
   ]
  },
  {
   "cell_type": "code",
   "execution_count": 17,
   "metadata": {},
   "outputs": [
    {
     "data": {
      "text/plain": [
       "((15480, 14), (5160, 14))"
      ]
     },
     "execution_count": 17,
     "metadata": {},
     "output_type": "execute_result"
    }
   ],
   "source": [
    "dftrain, dftest = train_test_split(df_norm, test_size = 0.25, random_state = 0)\n",
    "dftrain.shape, dftest.shape"
   ]
  },
  {
   "cell_type": "markdown",
   "metadata": {},
   "source": [
    "Por último, separaremos as variáveis independentes, das variável dependente (target), usando a função separarVar."
   ]
  },
  {
   "cell_type": "code",
   "execution_count": 18,
   "metadata": {},
   "outputs": [
    {
     "data": {
      "text/plain": [
       "((15480, 13), (15480, 1), (5160, 13), (5160, 1))"
      ]
     },
     "execution_count": 18,
     "metadata": {},
     "output_type": "execute_result"
    }
   ],
   "source": [
    "# Função para separar as variáveis independentes da variável dependente.\n",
    "def separarVar(df_): # DataFrame de entrada\n",
    "    \n",
    "    verificador = True\n",
    "    \n",
    "    # Loop para separar as variáveis independentes da variável dependente\n",
    "    for item in df_.columns:\n",
    "        \n",
    "        if (verificador):\n",
    "            \n",
    "            X = df_[item].values.reshape(-1,1)\n",
    "            verificador = False\n",
    "            \n",
    "        else:\n",
    "            \n",
    "            if (item != 'preco_mediano_das_casas'):\n",
    "                X = np.c_[X, df_[item].values.reshape(-1,1)]\n",
    "                \n",
    "            else:\n",
    "                Y = df_[item].values.reshape(-1,1)\n",
    "            \n",
    "    return X, Y # Dados de saída\n",
    "\n",
    "Xtrain, ytrain = separarVar(dftrain)\n",
    "Xtest, ytest = separarVar(dftest)\n",
    "\n",
    "Xtrain.shape, ytrain.shape, Xtest.shape, ytest.shape"
   ]
  },
  {
   "cell_type": "markdown",
   "metadata": {},
   "source": [
    "Com as variáveis separadas, podemos agora implementar um loop para encontrar a melhor combinação de parâmetros para os modelos KNNs, RandomForests e GradientBoostings."
   ]
  },
  {
   "cell_type": "markdown",
   "metadata": {},
   "source": [
    "#### Gradient Boosting Regressor: Documentação\n",
    "\n",
    "Abaixo vemos a documentação da função GradientBoostingRegressor, assim como os valores padrões para os parâmetros de configuração. Vemos que há alta relação entre o __learning_rate__ e __n_estimators__. Além disso, é informado também que __max_depth__ deve ser alterado de acordo com os parâmetros configurados. Sendo assim, consideraremos esses três parâmetros ao instanciar a função GradientBoostingRegressor.\n",
    "\n",
    "GradientBoostingRegressor(\n",
    "    *,\n",
    "    loss='ls',\n",
    "    __learning_rate__=0.1,\n",
    "    __n_estimators__=100,\n",
    "    subsample=1.0,\n",
    "    criterion='friedman_mse',\n",
    "    min_samples_split=2,\n",
    "    min_samples_leaf=1,\n",
    "    min_weight_fraction_leaf=0.0,\n",
    "    max_depth=3,\n",
    "    min_impurity_decrease=0.0,\n",
    "    min_impurity_split=None,\n",
    "    init=None,\n",
    "    random_state=None,\n",
    "    max_features=None,\n",
    "    alpha=0.9,\n",
    "    verbose=0,\n",
    "    max_leaf_nodes=None,\n",
    "    warm_start=False,\n",
    "    validation_fraction=0.1,\n",
    "    n_iter_no_change=None,\n",
    "    tol=0.0001,\n",
    "    ccp_alpha=0.0,\n",
    ")\n",
    "Docstring:     \n",
    "Gradient Boosting for regression.\n",
    "\n",
    "GB builds an additive model in a forward stage-wise fashion;\n",
    "it allows for the optimization of arbitrary differentiable loss functions.\n",
    "In each stage a regression tree is fit on the negative gradient of the\n",
    "given loss function.\n",
    "\n",
    "#### Parâmetros\n",
    "\n",
    "loss : {'ls', 'lad', 'huber', 'quantile'}, default='ls'\n",
    "    Loss function to be optimized. 'ls' refers to least squares\n",
    "    regression. 'lad' (least absolute deviation) is a highly robust\n",
    "    loss function solely based on order information of the input\n",
    "    variables. 'huber' is a combination of the two. 'quantile'\n",
    "    allows quantile regression (use `alpha` to specify the quantile).\n",
    "\n",
    "__learning_rate__ : float, default=0.1\n",
    "    Learning rate shrinks the contribution of each tree by 'learning_rate'.\n",
    "    __There is a trade-off between learning_rate and n_estimators__.\n",
    "\n",
    "__n_estimators__ : int, default=100\n",
    "    The number of boosting stages to perform. Gradient boosting\n",
    "    is fairly robust to over-fitting __so a large number usually\n",
    "    results in better performance.__\n",
    "\n",
    "subsample : float, default=1.0\n",
    "    The fraction of samples to be used for fitting the individual base\n",
    "    learners. If smaller than 1.0 this results in Stochastic Gradient\n",
    "    Boosting. `subsample` interacts with the parameter `n_estimators`.\n",
    "    Choosing `subsample < 1.0` leads to a reduction of variance\n",
    "    and an increase in bias.\n",
    "\n",
    "criterion : {'friedman_mse', 'mse', 'mae'}, default='friedman_mse'\n",
    "    The function to measure the quality of a split. Supported criteria\n",
    "    are \"friedman_mse\" for the mean squared error with improvement\n",
    "    score by Friedman, \"mse\" for mean squared error, and \"mae\" for\n",
    "    the mean absolute error. The default value of \"friedman_mse\" is\n",
    "    generally the best as it can provide a better approximation in\n",
    "    some cases.\n",
    "\n",
    "min_samples_split : int or float, default=2\n",
    "    The minimum number of samples required to split an internal node:\n",
    "\n",
    "min_samples_leaf : int or float, default=1\n",
    "    The minimum number of samples required to be at a leaf node.\n",
    "    A split point at any depth will only be considered if it leaves at\n",
    "    least \"min_samples_leaf\" training samples in each of the left and\n",
    "    right branches.  This may have the effect of smoothing the model,\n",
    "    especially in regression.\n",
    "\n",
    "min_weight_fraction_leaf : float, default=0.0\n",
    "    The minimum weighted fraction of the sum total of weights (of all\n",
    "    the input samples) required to be at a leaf node. Samples have\n",
    "    equal weight when sample_weight is not provided.\n",
    "\n",
    "__max_depth__ : int, default=3\n",
    "    Maximum depth of the individual regression estimators. The maximum\n",
    "    depth limits the number of nodes in the tree. Tune this parameter\n",
    "    for best performance; __the best value depends on the interaction\n",
    "    of the input variables.__\n",
    "\n",
    "min_impurity_decrease : float, default=0.0\n",
    "    __A node will be split if this split induces a decrease of the impurity\n",
    "    greater than or equal to this value.__\n",
    "\n",
    "    The weighted impurity decrease equation is the following::\n",
    "\n",
    "        N_t / N * (impurity - N_t_R / N_t * right_impurity\n",
    "                            - N_t_L / N_t * left_impurity)\n",
    "\n",
    "    where \"N\" is the total number of samples, \"N_t\" is the number of\n",
    "    samples at the current node, \"N_t_L\" is the number of samples in the\n",
    "    left child, and \"N_t_R\" is the number of samples in the right child.\n",
    "\n",
    "    \"N\", \"N_t\", \"N_t_R\" and \"N_t_L\" all refer to the weighted sum,\n",
    "    if \"sample_weight\" is passed.\n",
    "\n",
    "min_impurity_split : float, default=None\n",
    "    Threshold for early stopping in tree growth. A node will split\n",
    "    if its impurity is above the threshold, otherwise it is a leaf."
   ]
  },
  {
   "cell_type": "code",
   "execution_count": 19,
   "metadata": {},
   "outputs": [],
   "source": [
    "# Definindo os estimadores que serão testados\n",
    "\n",
    "estimador_base = {'KNN' : KNeighborsRegressor(), 'RF' : RandomForestRegressor(), 'GB' : GradientBoostingRegressor()}\n",
    "\n",
    "# Definindo o dicionario de parâmetros para cara estimador\n",
    "params_KNN = {'n_neighbors' : [1, 3, 5, 7, 9, 15, 50, 100]}\n",
    "params_RF = {'n_estimators' : [50, 100, 500, 1000], 'max_depth' : [3, 10, 50]}\n",
    "params_GB = {'learning_rate' : [0.05, 0.1, 0.15], 'n_estimators' : [50, 500, 1000, 2000], 'max_depth' : [3, 5, 7]}\n",
    "\n",
    "# Dicionario de parâmetros\n",
    "params = {'KNN' : params_KNN, 'RF' : params_RF, 'GB' : params_GB}"
   ]
  },
  {
   "cell_type": "code",
   "execution_count": 20,
   "metadata": {},
   "outputs": [
    {
     "name": "stdout",
     "output_type": "stream",
     "text": [
      "Tempo de execução: 5356 segundos\n",
      "\n"
     ]
    },
    {
     "data": {
      "text/html": [
       "<style  type=\"text/css\" >\n",
       "#T_27091_row2_col0,#T_27091_row2_col1{\n",
       "            background:  lightgreen;\n",
       "        }</style><table id=\"T_27091_\" ><thead>    <tr>        <th class=\"blank level0\" ></th>        <th class=\"col_heading level0 col0\" >Modelos</th>        <th class=\"col_heading level0 col1\" >R2 validação</th>    </tr></thead><tbody>\n",
       "                <tr>\n",
       "                        <th id=\"T_27091_level0_row0\" class=\"row_heading level0 row0\" >0</th>\n",
       "                        <td id=\"T_27091_row0_col0\" class=\"data row0 col0\" >KNN</td>\n",
       "                        <td id=\"T_27091_row0_col1\" class=\"data row0 col1\" >0.7253078080694272</td>\n",
       "            </tr>\n",
       "            <tr>\n",
       "                        <th id=\"T_27091_level0_row1\" class=\"row_heading level0 row1\" >1</th>\n",
       "                        <td id=\"T_27091_row1_col0\" class=\"data row1 col0\" >RF</td>\n",
       "                        <td id=\"T_27091_row1_col1\" class=\"data row1 col1\" >0.8162742541993682</td>\n",
       "            </tr>\n",
       "            <tr>\n",
       "                        <th id=\"T_27091_level0_row2\" class=\"row_heading level0 row2\" >2</th>\n",
       "                        <td id=\"T_27091_row2_col0\" class=\"data row2 col0\" >GB</td>\n",
       "                        <td id=\"T_27091_row2_col1\" class=\"data row2 col1\" >0.8337507804869132</td>\n",
       "            </tr>\n",
       "    </tbody></table>"
      ],
      "text/plain": [
       "<pandas.io.formats.style.Styler at 0x223f4bcb8b0>"
      ]
     },
     "execution_count": 20,
     "metadata": {},
     "output_type": "execute_result"
    }
   ],
   "source": [
    "# Início da contagem do tempo de execução\n",
    "t0 = time.time()\n",
    "\n",
    "# Loop\n",
    "\n",
    "# Criando listas para armazenas as melhores combinações para os modelos\n",
    "lista_nomes_modelos = []\n",
    "lista_modelos_treinados = []\n",
    "lista_parametros = []\n",
    "lista_R2 = []\n",
    "\n",
    "for item in list(params.keys()):\n",
    "    \n",
    "    lista_nomes_modelos.append(item)\n",
    "    \n",
    "    grid = GridSearchCV(estimator = estimador_base[item], \n",
    "                        param_grid = params[item], \n",
    "                        scoring = 'r2', \n",
    "                        cv = 5)\n",
    "    \n",
    "    grid.fit(Xtrain, ytrain)\n",
    "    lista_modelos_treinados.append(grid.best_estimator_)\n",
    "    lista_parametros.append(grid.best_params_)\n",
    "    lista_R2.append(grid.best_score_)\n",
    "\n",
    "# Valor máximo da métrica escolhida. No caso de R2, quanto mais próximo de 1, melhor o modelo se ajusta aos dados.\n",
    "r2_max = np.max(lista_R2)\n",
    "\n",
    "# Fim da contagem do tempo de execução\n",
    "t1 = time.time()\n",
    "dt = t1 - t0\n",
    "\n",
    "print('Tempo de execução: %d segundos' %(dt), end='\\n\\n')\n",
    "\n",
    "df_results = pd.DataFrame(np.c_[lista_nomes_modelos, lista_R2], columns = ['Modelos', 'R2 validação'])\n",
    "\n",
    "index_max = df_results.index[df_results['R2 validação'] == str(r2_max)][0]\n",
    "\n",
    "highlight = lambda x:['background: lightgreen' if x['R2 validação'] == str(r2_max) else '' for i in x]\n",
    "\n",
    "df_results[:].style.apply(highlight, axis=1)"
   ]
  },
  {
   "cell_type": "markdown",
   "metadata": {},
   "source": [
    "Para os parâmetros testados em cada modelo, abaixo são mostrados os valores ótimos."
   ]
  },
  {
   "cell_type": "code",
   "execution_count": 21,
   "metadata": {},
   "outputs": [
    {
     "name": "stdout",
     "output_type": "stream",
     "text": [
      "Modelo KNN: \n",
      "Melhores parâmetros para o modelo: {'n_neighbors': 9}\n",
      "R2 = 0.7253078080694272\n",
      "\n",
      "Modelo RF: \n",
      "Melhores parâmetros para o modelo: {'max_depth': 50, 'n_estimators': 500}\n",
      "R2 = 0.8162742541993682\n",
      "\n",
      "Modelo GB: \n",
      "Melhores parâmetros para o modelo: {'learning_rate': 0.05, 'max_depth': 7, 'n_estimators': 1000}\n",
      "R2 = 0.8337507804869132\n",
      "\n"
     ]
    }
   ],
   "source": [
    "# Imprimindo as melhores configurações de cada modelo\n",
    "\n",
    "for i in range(0, len(lista_nomes_modelos)):\n",
    "    print('Modelo %s: ' %(lista_nomes_modelos[i]))\n",
    "    print('Melhores parâmetros para o modelo:', end=' ')\n",
    "    print(lista_parametros[i])\n",
    "    print('R2 = %s' %(str(lista_R2[i])), end='\\n\\n')"
   ]
  },
  {
   "cell_type": "markdown",
   "metadata": {},
   "source": [
    "__Exercício 2:__ Crie uma classe para comparar o grid_search dentre vários modelos distintos.\n",
    "    \n",
    "    \n",
    "Essa classe, gridSearchAll(), já está pré-desenvolvida no código abaixo. O exercício consiste de __completar essa classe.__ Para isso, crie o métodos fit_all, que irá treinar, usando grid_search, todos os grids que tenham sido pré-construídos e inseridos na classe.\n",
    "Ainda, a quantidade de folds para a validação cruzada no grid_search deve ser implementada no método construtor da classe, bem como qual a métrica de performance a ser avaliada. \n",
    "Finalmente, salve o melhor modelo de cada grid e tenha um método best_all_grid_models que retorna o melhor modelo dentre todos os grids."
   ]
  },
  {
   "cell_type": "code",
   "execution_count": 22,
   "metadata": {},
   "outputs": [],
   "source": [
    "class gridSearchAll():\n",
    "    \n",
    "    def __init__(self):\n",
    "        \n",
    "        self.grid_models = []\n",
    "        self.best_grid_models = []\n",
    "        self.lista_parametros = []\n",
    "        self.lista_nomes = []\n",
    "        self.lista_score = []\n",
    "        self.scoring = 'r2'\n",
    "        self.num_folds = 3\n",
    "    \n",
    "    def insert_model(self, estimator_base, param_grid, nome_modelo):\n",
    "        \n",
    "        self.grid_models.append([estimator_base, param_grid])\n",
    "        self.lista_nomes.append(nome_modelo)\n",
    "        \n",
    "    def define_score(self, scoring):\n",
    "        \n",
    "        self.scoring = scoring\n",
    "        \n",
    "    def define_folds(self, num_folds):\n",
    "        \n",
    "        self.num_folds = num_folds\n",
    "        \n",
    "    def fit_all(self, X_data, y_data):\n",
    "        \n",
    "        # Início da contagem do tempo de execução\n",
    "        t0 = time.time()\n",
    "        \n",
    "        for i in range(0, len(self.grid_models)):\n",
    "            \n",
    "            grid = GridSearchCV(estimator = self.grid_models[i][0], \n",
    "                                param_grid = self.grid_models[i][1], \n",
    "                                scoring = self.scoring, \n",
    "                                cv = self.num_folds)\n",
    "\n",
    "            grid.fit(X_data, y_data)\n",
    "            self.best_grid_models.append(grid.best_estimator_)\n",
    "            self.lista_parametros.append(grid.best_params_)\n",
    "            self.lista_score.append(grid.best_score_)\n",
    "            \n",
    "        # Fim da contagem do tempo de execução\n",
    "        t1 = time.time()\n",
    "        dt = t1 - t0\n",
    "        \n",
    "        self.score_max = np.max(self.lista_score)\n",
    "        self.index_max = self.lista_score.index(self.score_max)\n",
    "        \n",
    "        print('Todos os modelos foram treinados.')\n",
    "        print('Tempo de execução: %d segundos' %(dt), end='\\n\\n')\n",
    "    \n",
    "    def best_models_info(self):\n",
    "\n",
    "        df_ = pd.DataFrame(np.c_[self.lista_nomes, self.best_grid_models, self.lista_score],\n",
    "                          columns = ['Nome do modelo', 'Estimador', 'Score'])\n",
    "        \n",
    "        return df_\n",
    "\n",
    "    def best_all_grid_models_info(self):\n",
    "      \n",
    "        print('Melhor modelo: %s' %(self.lista_nomes[self.index_max]))\n",
    "        print('Estimador:', end='')\n",
    "        print(self.best_grid_models[self.index_max])\n",
    "        print('Parâmetros:', end='')\n",
    "        print(self.lista_parametros[self.index_max])\n",
    "        print('Score: %s' %str(r2_max))\n",
    "        print('*' * 30)\n",
    "        print('Número de folds usados para a validação cruzada: %d' %(self.num_folds))\n",
    "    \n",
    "    def best_all_grid_models(self):\n",
    "        \n",
    "        # Valor máximo da métrica escolhida. No caso de R2, quanto mais próximo de 1, melhor o modelo se ajusta aos dados.\n",
    "        score_max = np.max(self.lista_score)\n",
    "        index_max = self.lista_score.index(score_max)\n",
    "        \n",
    "        return self.best_grid_models[index_max]"
   ]
  },
  {
   "cell_type": "markdown",
   "metadata": {},
   "source": [
    "#### Explicação da classe \"gridSearchAll\"\n",
    "\n",
    "Primeiro, deve-se instanciar a classe. Ao fazer isso, serão criadas listas vazias para armazenar os melhores modelos, parâmetros e score. Assim como uma lista para armazenar os modelos em que serão realizados o GridSearch com a validação cruzada. Os parâmetros scoring e num_folds são configurados, por padrão, como 'r2' e '3', respectivamente. Pode-se alterar qual o scoring será avaliado, assim como o número de folds através das funções __define_score(scoring)__ e __define_folds(num_folds)__.\n",
    "\n",
    "Com a classe instanciada, pode-se usar a função insert_model para inserir o modelo e os parâmetros do mesmo que serão testados. Para inserir o modelo, deve-se informar três parâmetros:\n",
    "\n",
    "- estimator_base: Nome do estimador. Exemplos: KNeighborsRegressor(), RandomForestRegressor(), ...\n",
    "- param_grid: Parâmetros que serão alterados e testados do modelo. Exemplos: KNN: 'n_neighbors' = [1, 3, 5]; Random Forest: 'n_estimators' : [500, 1000], 'max_depth' : [3, 5, 7]. __Importante:__ os parâmetros devem ser informados como um dicionário.\n",
    "- nome_modelo: Nome do modelo. Deve ser informado como string. Exemplo: 'KNN', 'Random Forest', ...\n",
    "\n",
    "Depois de configurar todos os parâmetros, você pode usar a função __fit_all(X_data, y_data)__ para treinar todos os modelos com os dados desejados. Após isso, pode-se obter um dataframe com o melhor resultado para cada modelo através da função __best_models_info()__ e obter as informações para o melhor modelo com a função __best_all_grid_models_info()__.\n",
    "\n",
    "O melhor modelo treinado pode ser obtido pela função __best_all_grid_models__. Abaixo veremos o uso de cada uma dessas funções."
   ]
  },
  {
   "cell_type": "code",
   "execution_count": 23,
   "metadata": {},
   "outputs": [],
   "source": [
    "# Instanciando a classe\n",
    "gd = gridSearchAll()"
   ]
  },
  {
   "cell_type": "code",
   "execution_count": 24,
   "metadata": {},
   "outputs": [
    {
     "data": {
      "text/plain": [
       "[]"
      ]
     },
     "execution_count": 24,
     "metadata": {},
     "output_type": "execute_result"
    }
   ],
   "source": [
    "# Verificando os modelos inseridos.\n",
    "#Quando instanciada, a classe não apresenta nenhum modelo inserido,\n",
    "# por isso o retorno é uma lista vazia\n",
    "gd.grid_models"
   ]
  },
  {
   "cell_type": "code",
   "execution_count": 25,
   "metadata": {},
   "outputs": [
    {
     "data": {
      "text/plain": [
       "5"
      ]
     },
     "execution_count": 25,
     "metadata": {},
     "output_type": "execute_result"
    }
   ],
   "source": [
    "# Alterando o número de folds\n",
    "gd.define_folds(5)\n",
    "\n",
    "# Retornando o número de folds\n",
    "gd.num_folds"
   ]
  },
  {
   "cell_type": "markdown",
   "metadata": {},
   "source": [
    "Como usaremos o R$^2$ como métrica, não precisaremos usar a função \"define_score\". Mas a mesma poderia ser usada como mostrado abaixo:\n",
    "\n",
    "gd.define_score('nome da metrica')\n",
    "\n",
    "Onde 'nome da metrica' deve ser substituído por uma das opções abaixo.\n",
    "\n",
    "__Regression__\n",
    "\n",
    "- 'explained_variance': deve importar a biblioteca metrics.explained_variance_score\n",
    "\n",
    "- 'max_error': deve importar a biblioteca metrics.max_error\n",
    "\n",
    "- 'neg_mean_absolute_error': deve importar a biblioteca metrics.mean_absolute_error\n",
    "\n",
    "- 'neg_mean_squared_error': deve importar a biblioteca metrics.mean_squared_error\n",
    "\n",
    "- 'neg_root_mean_squared_error': deve importar a biblioteca metrics.mean_squared_error\n",
    "\n",
    "- 'neg_mean_squared_log_error': deve importar a biblioteca metrics.mean_squared_log_error\n",
    "\n",
    "- 'neg_median_absolute_error': deve importar a biblioteca metrics.median_absolute_error\n",
    "\n",
    "- 'r2': deve importar a biblioteca metrics.r2_score\n",
    "\n",
    "- 'neg_mean_poisson_deviance': deve importar a biblioteca metrics.mean_poisson_deviance\n",
    "\n",
    "- 'neg_mean_gamma_deviance': deve importar a biblioteca metrics.mean_gamma_deviance\n",
    "\n",
    "- 'neg_mean_absolute_percentage_error': deve importar a biblioteca metrics.mean_absolute_percentage_error\n",
    "\n",
    "Deve-se levar em consideração que na classe criada, busca-se o valor máximo do score por padrão, pois considerei a métrica 'r2'. Caso 'neg_mean_squared_error' seja selecionado, deve-se alterar a classe para que busque o valor mínimo, e não máximo.\n",
    "\n",
    "[Clique aqui para mais informações sobre as métricas](https://scikit-learn.org/stable/modules/model_evaluation.html)"
   ]
  },
  {
   "cell_type": "code",
   "execution_count": 26,
   "metadata": {},
   "outputs": [],
   "source": [
    "# Definindo os parâmetros dos modelos que serão testados\n",
    "params_KNN = {'n_neighbors' : [1, 2, 10]}\n",
    "params_RF = {'n_estimators' : [500, 1000], 'max_depth' : [3, 5, 7]}\n",
    "params_GB = {'learning_rate' : [0.01, 0.05], 'n_estimators' : [1000, 2000], 'max_depth' : [3, 5, 7]}"
   ]
  },
  {
   "cell_type": "code",
   "execution_count": 27,
   "metadata": {},
   "outputs": [],
   "source": [
    "# Inserindo o primeiro modelo\n",
    "gd.insert_model(estimator_base = RandomForestRegressor(), param_grid = params_RF, nome_modelo = 'RF')"
   ]
  },
  {
   "cell_type": "code",
   "execution_count": 28,
   "metadata": {},
   "outputs": [],
   "source": [
    "# Inserindo o segundo modelo\n",
    "gd.insert_model(estimator_base = KNeighborsRegressor(), param_grid = params_KNN, nome_modelo = 'KNN')"
   ]
  },
  {
   "cell_type": "code",
   "execution_count": 29,
   "metadata": {},
   "outputs": [],
   "source": [
    "# Inserindo o terceiro modelo\n",
    "gd.insert_model(estimator_base = GradientBoostingRegressor(), param_grid = params_GB, nome_modelo = 'GB')"
   ]
  },
  {
   "cell_type": "code",
   "execution_count": 30,
   "metadata": {},
   "outputs": [
    {
     "name": "stdout",
     "output_type": "stream",
     "text": [
      "[RandomForestRegressor(), {'n_estimators': [500, 1000], 'max_depth': [3, 5, 7]}]\n",
      "[KNeighborsRegressor(), {'n_neighbors': [1, 2, 10]}]\n",
      "[GradientBoostingRegressor(), {'learning_rate': [0.01, 0.05], 'n_estimators': [1000, 2000], 'max_depth': [3, 5, 7]}]\n"
     ]
    }
   ],
   "source": [
    "# Checando modelos inseridos até o momento\n",
    "for item in gd.grid_models:\n",
    "    print(item)"
   ]
  },
  {
   "cell_type": "code",
   "execution_count": 31,
   "metadata": {},
   "outputs": [
    {
     "name": "stdout",
     "output_type": "stream",
     "text": [
      "Todos os modelos foram treinados.\n",
      "Tempo de execução: 3053 segundos\n",
      "\n"
     ]
    }
   ],
   "source": [
    "# Ajustando os dados a todos os modelos inseridos\n",
    "gd.fit_all(X_data = Xtrain, y_data = ytrain)"
   ]
  },
  {
   "cell_type": "code",
   "execution_count": 32,
   "metadata": {},
   "outputs": [
    {
     "data": {
      "text/html": [
       "<div>\n",
       "<style scoped>\n",
       "    .dataframe tbody tr th:only-of-type {\n",
       "        vertical-align: middle;\n",
       "    }\n",
       "\n",
       "    .dataframe tbody tr th {\n",
       "        vertical-align: top;\n",
       "    }\n",
       "\n",
       "    .dataframe thead th {\n",
       "        text-align: right;\n",
       "    }\n",
       "</style>\n",
       "<table border=\"1\" class=\"dataframe\">\n",
       "  <thead>\n",
       "    <tr style=\"text-align: right;\">\n",
       "      <th></th>\n",
       "      <th>Nome do modelo</th>\n",
       "      <th>Estimador</th>\n",
       "      <th>Score</th>\n",
       "    </tr>\n",
       "  </thead>\n",
       "  <tbody>\n",
       "    <tr>\n",
       "      <th>0</th>\n",
       "      <td>RF</td>\n",
       "      <td>(DecisionTreeRegressor(max_depth=7, max_featur...</td>\n",
       "      <td>0.723814</td>\n",
       "    </tr>\n",
       "    <tr>\n",
       "      <th>1</th>\n",
       "      <td>KNN</td>\n",
       "      <td>KNeighborsRegressor(n_neighbors=10)</td>\n",
       "      <td>0.725589</td>\n",
       "    </tr>\n",
       "    <tr>\n",
       "      <th>2</th>\n",
       "      <td>GB</td>\n",
       "      <td>([DecisionTreeRegressor(criterion='friedman_ms...</td>\n",
       "      <td>0.833925</td>\n",
       "    </tr>\n",
       "  </tbody>\n",
       "</table>\n",
       "</div>"
      ],
      "text/plain": [
       "  Nome do modelo                                          Estimador     Score\n",
       "0             RF  (DecisionTreeRegressor(max_depth=7, max_featur...  0.723814\n",
       "1            KNN                KNeighborsRegressor(n_neighbors=10)  0.725589\n",
       "2             GB  ([DecisionTreeRegressor(criterion='friedman_ms...  0.833925"
      ]
     },
     "execution_count": 32,
     "metadata": {},
     "output_type": "execute_result"
    }
   ],
   "source": [
    "# Matriz com os melhores resultados levando em consideração a combinação de parâmetros pada cada um dos modelos testados.\n",
    "gd.best_models_info()"
   ]
  },
  {
   "cell_type": "code",
   "execution_count": 33,
   "metadata": {},
   "outputs": [
    {
     "name": "stdout",
     "output_type": "stream",
     "text": [
      "Melhor modelo: GB\n",
      "Estimador:GradientBoostingRegressor(learning_rate=0.05, max_depth=7, n_estimators=2000)\n",
      "Parâmetros:{'learning_rate': 0.05, 'max_depth': 7, 'n_estimators': 2000}\n",
      "Score: 0.8337507804869132\n",
      "******************************\n",
      "Número de folds usados para a validação cruzada: 5\n"
     ]
    }
   ],
   "source": [
    "# Informação sobre o melhor modelo\n",
    "gd.best_all_grid_models_info()"
   ]
  },
  {
   "cell_type": "code",
   "execution_count": 34,
   "metadata": {},
   "outputs": [
    {
     "data": {
      "text/plain": [
       "GradientBoostingRegressor(learning_rate=0.05, max_depth=7, n_estimators=2000)"
      ]
     },
     "execution_count": 34,
     "metadata": {},
     "output_type": "execute_result"
    }
   ],
   "source": [
    "# Retornando o melhor modelo treinado.\n",
    "gd.best_all_grid_models()"
   ]
  },
  {
   "cell_type": "markdown",
   "metadata": {},
   "source": [
    "__Exercício 3:__ Usando a classe criada, analise novamente os modelos criados no exercício 1."
   ]
  },
  {
   "cell_type": "markdown",
   "metadata": {},
   "source": [
    "Com o modelo treinado, podemos aplicá-lo aos dados de teste do exercício 1."
   ]
  },
  {
   "cell_type": "code",
   "execution_count": 35,
   "metadata": {},
   "outputs": [
    {
     "data": {
      "image/png": "[encoded data removed]",
      "text/plain": [
       "<Figure size 576x576 with 1 Axes>"
      ]
     },
     "metadata": {
      "needs_background": "light"
     },
     "output_type": "display_data"
    }
   ],
   "source": [
    "x = y = np.linspace(0,500000, 10)\n",
    "y_pred = gd.best_all_grid_models().predict(Xtest)\n",
    "r2 = r2_score(y_true = ytest, y_pred = y_pred)\n",
    "        \n",
    "# Criando um gráfico para avaliar o resultado\n",
    "plt.figure(figsize=[8,8])\n",
    "plt.title('Gradient Boosting' + ' | R2: ' + str(r2), fontsize = 14, fontweight = 'bold')\n",
    "plt.scatter(gd.best_all_grid_models().predict(Xtest), ytest, alpha=0.2, s=50, c='blue')\n",
    "plt.plot(x, y, lw=2, c ='black', ls='--')\n",
    "plt.xlabel('Valor predito - Dados de teste', fontsize = 14)\n",
    "plt.ylabel('Valor Target - Dados de teste', fontsize = 14)\n",
    "plt.grid()\n",
    "plt.show()"
   ]
  },
  {
   "cell_type": "markdown",
   "metadata": {},
   "source": [
    "Ao aplicar o modelo treinado, selecionado pela classe \"gridSearchAll\", vemos que o valor de R$^2$ permanece muito próximo àquele da validação. Isso indica que o modelo se ajusta bem aos dados e não apresenta overfitting.\n",
    "\n",
    "Ainda, Podemos obter cada um dos melhores modelos treinados a partir da função best_models_info() que retorna um dataframe com o nome do modelo, o modelo treinado (na coluna Estimador) e o valor de R$^2$ da validação."
   ]
  },
  {
   "cell_type": "code",
   "execution_count": 36,
   "metadata": {},
   "outputs": [
    {
     "data": {
      "text/plain": [
       "RandomForestRegressor(max_depth=7, n_estimators=500)"
      ]
     },
     "execution_count": 36,
     "metadata": {},
     "output_type": "execute_result"
    }
   ],
   "source": [
    "# Modelo treinado com os melhores parâmetros (primeiro a ser inserido)\n",
    "gd.best_models_info()['Estimador'][0]"
   ]
  },
  {
   "cell_type": "code",
   "execution_count": 37,
   "metadata": {},
   "outputs": [
    {
     "data": {
      "text/plain": [
       "KNeighborsRegressor(n_neighbors=10)"
      ]
     },
     "execution_count": 37,
     "metadata": {},
     "output_type": "execute_result"
    }
   ],
   "source": [
    "# Modelo treinado com os melhores parâmetros (segundo a ser inserido)\n",
    "gd.best_models_info()['Estimador'][1]"
   ]
  },
  {
   "cell_type": "code",
   "execution_count": 38,
   "metadata": {},
   "outputs": [
    {
     "data": {
      "text/plain": [
       "GradientBoostingRegressor(learning_rate=0.05, max_depth=7, n_estimators=2000)"
      ]
     },
     "execution_count": 38,
     "metadata": {},
     "output_type": "execute_result"
    }
   ],
   "source": [
    "# Modelo treinado com os melhores parâmetros (terceiro a ser inserido)\n",
    "gd.best_models_info()['Estimador'][2]"
   ]
  }
 ],
 "metadata": {
  "kernelspec": {
   "display_name": "Python 3",
   "language": "python",
   "name": "python3"
  },
  "language_info": {
   "codemirror_mode": {
    "name": "ipython",
    "version": 3
   },
   "file_extension": ".py",
   "mimetype": "text/x-python",
   "name": "python",
   "nbconvert_exporter": "python",
   "pygments_lexer": "ipython3",
   "version": "3.8.8"
  }
 },
 "nbformat": 4,
 "nbformat_minor": 2
}
