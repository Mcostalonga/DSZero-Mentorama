{
 "cells": [
  {
   "cell_type": "markdown",
   "metadata": {},
   "source": [
    "<br><br>\n",
    "\n",
    "## Exercício clusterização: clusters RFM\n",
    "\n",
    "<br>\n",
    "\n",
    "No exercício a seguir, estudaremos um conceito muito interessante e comum no contexto de dados, os __clusters RFM!__\n",
    "\n",
    "A sigla __RFM__ vem do inglês, significando __recency, frequency and monetary.__ Em português, recência, frequência e valor monetário.\n",
    "\n",
    "Essa clusterização é muito comum quando o __objetivo é segmentar clientes de uma certa base__ em termos de:\n",
    "\n",
    "<br>\n",
    "\n",
    "__Recência__ de compra: há quantos dias foi feita a última compra, relativo a data atual;\n",
    "\n",
    "__Freqûencia__ de compra: considerando uma certa janela de tempo, qual a frequência (ou quantidade) de compra;\n",
    "\n",
    "__Valor monetário__ das compras: qual foi o total gasto, nesta mesma janela de tempo.\n",
    "\n",
    "\n",
    "<br>\n",
    "\n",
    "Use a função getData para carregar os dados disponíveis para este exercício.\n",
    "\n",
    "Esse dataset contém 4 colunas, em que cada linha/istância corresponde a um cliente único de uma certa empresa.\n",
    "\n",
    "As colunas \"rec\", \"freq\" e \"valor\" indicam a recência, frequência e valor monetário do cliente num período de 120 dias.\n",
    "\n",
    "Desta forma, por exemplo, um usuário com:\n",
    "\n",
    "    - recência: 30\n",
    "    \n",
    "    - frequência: 5\n",
    "    \n",
    "    - valor: 10\n",
    "    \n",
    "deve ser interpretado como: um usuário que fez a última compra há 30 dias atrás; que a frequência mensal de compra dele, dentro dos últimos 120 dias foi de 5 vezes; o valor médio gasto, dentro desse período de 120 dias, foi de R$10,00.\n",
    "\n",
    "<br>\n",
    "\n",
    "__Exercício:__\n",
    "\n",
    "Como cientista de dados da empresa, o seu __objetivo__ é __analisar os dados disponíveis__ e procurar pelos __grupos de clientes mais valiosos e menos valiosos__ para a companhia. \n",
    "\n",
    "Justifique bastante suas análises e __interprete os resultados.__\n",
    "\n",
    "Você pode (e deve!) utilizar técnicas de clusterização, como __KMeans__ e __DBSCAN__, bem como criar segmentações a partir de suas __análises exploratórias.__\n",
    "\n",
    "Lembre-se que, neste contexto não supervisionado, não existe resposta certa e a __criatividade__ é fundamental!\n",
    "\n",
    "__Obs.:__ Ao utilizar o KMeans e o DBSCAN, lembre-se de normalizar os dados antes de aplicar os algoritmos."
   ]
  },
  {
   "cell_type": "code",
   "execution_count": 1,
   "metadata": {},
   "outputs": [],
   "source": [
    "# Importando bibliotecas\n",
    "import pandas as pd\n",
    "import numpy as np\n",
    "import matplotlib.pyplot as plt\n",
    "\n",
    "# Cluster\n",
    "from sklearn.cluster import KMeans\n",
    "\n",
    "def getData():\n",
    "    return pd.read_csv(\"dataframe_exercicio_clusterizacao_RFM.csv\")"
   ]
  },
  {
   "cell_type": "code",
   "execution_count": 2,
   "metadata": {},
   "outputs": [
    {
     "data": {
      "text/html": [
       "<div>\n",
       "<style scoped>\n",
       "    .dataframe tbody tr th:only-of-type {\n",
       "        vertical-align: middle;\n",
       "    }\n",
       "\n",
       "    .dataframe tbody tr th {\n",
       "        vertical-align: top;\n",
       "    }\n",
       "\n",
       "    .dataframe thead th {\n",
       "        text-align: right;\n",
       "    }\n",
       "</style>\n",
       "<table border=\"1\" class=\"dataframe\">\n",
       "  <thead>\n",
       "    <tr style=\"text-align: right;\">\n",
       "      <th></th>\n",
       "      <th>user</th>\n",
       "      <th>rec</th>\n",
       "      <th>freq</th>\n",
       "      <th>valor</th>\n",
       "    </tr>\n",
       "  </thead>\n",
       "  <tbody>\n",
       "    <tr>\n",
       "      <th>0</th>\n",
       "      <td>1</td>\n",
       "      <td>15.0</td>\n",
       "      <td>7.0</td>\n",
       "      <td>196.881015</td>\n",
       "    </tr>\n",
       "    <tr>\n",
       "      <th>1</th>\n",
       "      <td>2</td>\n",
       "      <td>51.0</td>\n",
       "      <td>6.0</td>\n",
       "      <td>162.408892</td>\n",
       "    </tr>\n",
       "    <tr>\n",
       "      <th>2</th>\n",
       "      <td>3</td>\n",
       "      <td>80.0</td>\n",
       "      <td>5.0</td>\n",
       "      <td>180.158644</td>\n",
       "    </tr>\n",
       "    <tr>\n",
       "      <th>3</th>\n",
       "      <td>4</td>\n",
       "      <td>38.0</td>\n",
       "      <td>4.0</td>\n",
       "      <td>156.048130</td>\n",
       "    </tr>\n",
       "    <tr>\n",
       "      <th>4</th>\n",
       "      <td>5</td>\n",
       "      <td>19.0</td>\n",
       "      <td>6.0</td>\n",
       "      <td>164.052067</td>\n",
       "    </tr>\n",
       "  </tbody>\n",
       "</table>\n",
       "</div>"
      ],
      "text/plain": [
       "   user   rec  freq       valor\n",
       "0     1  15.0   7.0  196.881015\n",
       "1     2  51.0   6.0  162.408892\n",
       "2     3  80.0   5.0  180.158644\n",
       "3     4  38.0   4.0  156.048130\n",
       "4     5  19.0   6.0  164.052067"
      ]
     },
     "execution_count": 2,
     "metadata": {},
     "output_type": "execute_result"
    }
   ],
   "source": [
    "df = getData()\n",
    "df.head()"
   ]
  },
  {
   "cell_type": "markdown",
   "metadata": {},
   "source": [
    "Inicialmente, iremos realizar o tratamento das variáveis. Criaremos notas para 'rec' e 'freq'. Começando por 'rec', sabemos que o período de análise é de 120 dias e, nesse caso, quanto maior o valor atribuído a 'rec', menos interessante é, uma vez que representa o tempo desde a última compra do cliente. Dessa forma, criaremos uma nota de considerando as seguntes faixas para rec:\n",
    "\n",
    "- 120 até 97: 1\n",
    "- 96 até 73: 2\n",
    "- 72 até 49: 3\n",
    "- 48 até 25: 2\n",
    "- 24 até 0: 1"
   ]
  },
  {
   "cell_type": "code",
   "execution_count": 3,
   "metadata": {},
   "outputs": [
    {
     "data": {
      "text/plain": [
       "array([120.,  96.,  72.,  48.,  24.,   0.])"
      ]
     },
     "execution_count": 3,
     "metadata": {},
     "output_type": "execute_result"
    }
   ],
   "source": [
    "rec_faixas = np.linspace(120, 0, 6)\n",
    "rec_faixas"
   ]
  },
  {
   "cell_type": "markdown",
   "metadata": {},
   "source": [
    "Faremos o mesmo para 'freq', levando em consideração os limites abaixo. Nesse caso, quanto maior a frequência, melhor.\n",
    "\n",
    "- 0 até 4: 1\n",
    "- 5 até 8: 2\n",
    "- 9 até 12: 3\n",
    "- 13 até 15: 4\n",
    "- 16 até 20: 5"
   ]
  },
  {
   "cell_type": "code",
   "execution_count": 4,
   "metadata": {},
   "outputs": [
    {
     "name": "stdout",
     "output_type": "stream",
     "text": [
      "Valor mínimo - freq: 1.0\n",
      "Valor máximo - freq: 17.0\n"
     ]
    },
    {
     "data": {
      "text/plain": [
       "array([ 0.,  4.,  8., 12., 16., 20.])"
      ]
     },
     "execution_count": 4,
     "metadata": {},
     "output_type": "execute_result"
    }
   ],
   "source": [
    "print('Valor mínimo - freq: %s' %(str(np.min(df.freq.values))))\n",
    "print('Valor máximo - freq: %s' %(str(np.max(df.freq.values))))\n",
    "\n",
    "# Criando as faixas\n",
    "freq_faixas = np.linspace(0, 20, 6)\n",
    "freq_faixas"
   ]
  },
  {
   "cell_type": "markdown",
   "metadata": {},
   "source": [
    "Por último, criaremos a variável \"valor_total\" que será calculada pela multiplicação dos valores da coluna \"freq\" pela coluna \"total\". e, novamente, daremos notas. Assim como no caso da frequência, quanto maior o valor, melhor."
   ]
  },
  {
   "cell_type": "code",
   "execution_count": 5,
   "metadata": {},
   "outputs": [
    {
     "name": "stdout",
     "output_type": "stream",
     "text": [
      "Valor mínimo - valor_total: 11.035878930188453\n",
      "Valor máximo - valor_total: 4029.42311508214\n"
     ]
    },
    {
     "data": {
      "text/plain": [
       "array([   0.,  806., 1612., 2418., 3224., 4030.])"
      ]
     },
     "execution_count": 5,
     "metadata": {},
     "output_type": "execute_result"
    }
   ],
   "source": [
    "valor_total = df['freq'][:] * df['valor'][:]\n",
    "print('Valor mínimo - valor_total: %s' %(str(np.min(valor_total))))\n",
    "print('Valor máximo - valor_total: %s' %(str(np.max(valor_total))))\n",
    "\n",
    "valor_faixas = np.linspace(0, 4030, 6)\n",
    "valor_faixas"
   ]
  },
  {
   "cell_type": "markdown",
   "metadata": {},
   "source": [
    "Conhecendo os valores máximo e mínimo de valor total, atribuiremos notas às faixas, assim como fizemos para os outros parâmetros.\n",
    "\n",
    "- 0 até 806: 1\n",
    "- 807 até 1612: 2\n",
    "- 1612 até 2418: 3\n",
    "- 2419 até 3224: 4\n",
    "- 3225 até 4030: 5"
   ]
  },
  {
   "cell_type": "markdown",
   "metadata": {},
   "source": [
    "#### Função para criar listas com o valor das notas levando em consideração as faixas criadas."
   ]
  },
  {
   "cell_type": "code",
   "execution_count": 6,
   "metadata": {},
   "outputs": [],
   "source": [
    "# Criando função para atribuir notas de acordo com as faixas especificadas\n",
    "def atribuirNota(df_coluna_values, intervalo, decrescente = False):\n",
    "    \n",
    "    # Lista para armazenar as notas\n",
    "    lista_notas = []\n",
    "    if (decrescente):\n",
    "        for item in df_coluna_values:\n",
    "            if (item < intervalo[0] and item >= intervalo[1]):\n",
    "                lista_notas.append(1)\n",
    "            elif (item < intervalo[1] and item >= intervalo[2]):\n",
    "                lista_notas.append(2)\n",
    "            elif (item < intervalo[2] and item >= intervalo[3]):\n",
    "                lista_notas.append(3)\n",
    "            elif (item < intervalo[3] and item >= intervalo[4]):\n",
    "                lista_notas.append(4)\n",
    "            else:\n",
    "                lista_notas.append(5)\n",
    "    else:\n",
    "        for item in df_coluna_values:\n",
    "            if (item >= intervalo[0] and item <= intervalo[1]):\n",
    "                lista_notas.append(1)\n",
    "            elif (item > intervalo[1] and item <= intervalo[2]):\n",
    "                lista_notas.append(2)\n",
    "            elif (item > intervalo[2] and item <= intervalo[3]):\n",
    "                lista_notas.append(3)\n",
    "            elif (item > intervalo[3] and item <= intervalo[4]):\n",
    "                lista_notas.append(4)\n",
    "            else:\n",
    "                lista_notas.append(5)\n",
    "    \n",
    "    return lista_notas"
   ]
  },
  {
   "cell_type": "code",
   "execution_count": 7,
   "metadata": {},
   "outputs": [],
   "source": [
    "# Atribuindo notas de acordo com as faixas especificadas\n",
    "lista_rec = atribuirNota(df_coluna_values = df.rec.values, intervalo = rec_faixas, decrescente = True)\n",
    "lista_freq = atribuirNota(df_coluna_values = df.freq.values, intervalo = freq_faixas)\n",
    "lista_valor_total = atribuirNota(df_coluna_values = valor_total, intervalo = valor_faixas)"
   ]
  },
  {
   "cell_type": "code",
   "execution_count": 8,
   "metadata": {},
   "outputs": [
    {
     "data": {
      "text/html": [
       "<div>\n",
       "<style scoped>\n",
       "    .dataframe tbody tr th:only-of-type {\n",
       "        vertical-align: middle;\n",
       "    }\n",
       "\n",
       "    .dataframe tbody tr th {\n",
       "        vertical-align: top;\n",
       "    }\n",
       "\n",
       "    .dataframe thead th {\n",
       "        text-align: right;\n",
       "    }\n",
       "</style>\n",
       "<table border=\"1\" class=\"dataframe\">\n",
       "  <thead>\n",
       "    <tr style=\"text-align: right;\">\n",
       "      <th></th>\n",
       "      <th>user</th>\n",
       "      <th>rec</th>\n",
       "      <th>freq</th>\n",
       "      <th>valor</th>\n",
       "    </tr>\n",
       "  </thead>\n",
       "  <tbody>\n",
       "    <tr>\n",
       "      <th>0</th>\n",
       "      <td>1</td>\n",
       "      <td>5</td>\n",
       "      <td>2</td>\n",
       "      <td>2</td>\n",
       "    </tr>\n",
       "    <tr>\n",
       "      <th>1</th>\n",
       "      <td>2</td>\n",
       "      <td>3</td>\n",
       "      <td>2</td>\n",
       "      <td>2</td>\n",
       "    </tr>\n",
       "    <tr>\n",
       "      <th>2</th>\n",
       "      <td>3</td>\n",
       "      <td>2</td>\n",
       "      <td>2</td>\n",
       "      <td>2</td>\n",
       "    </tr>\n",
       "    <tr>\n",
       "      <th>3</th>\n",
       "      <td>4</td>\n",
       "      <td>4</td>\n",
       "      <td>1</td>\n",
       "      <td>1</td>\n",
       "    </tr>\n",
       "    <tr>\n",
       "      <th>4</th>\n",
       "      <td>5</td>\n",
       "      <td>5</td>\n",
       "      <td>2</td>\n",
       "      <td>2</td>\n",
       "    </tr>\n",
       "  </tbody>\n",
       "</table>\n",
       "</div>"
      ],
      "text/plain": [
       "   user  rec  freq  valor\n",
       "0     1    5     2      2\n",
       "1     2    3     2      2\n",
       "2     3    2     2      2\n",
       "3     4    4     1      1\n",
       "4     5    5     2      2"
      ]
     },
     "execution_count": 8,
     "metadata": {},
     "output_type": "execute_result"
    }
   ],
   "source": [
    "# Criando um novo dataframe a ser avaliado\n",
    "df_novo = pd.DataFrame(np.c_[df.user, lista_rec, lista_freq, lista_valor_total],\n",
    "                      columns = ['user', 'rec', 'freq', 'valor'])\n",
    "df_novo.head()"
   ]
  },
  {
   "cell_type": "markdown",
   "metadata": {},
   "source": [
    "Agora, criaremos um gráfico de dispersão entre as features 'rec' e 'freq', aplicando o 'valor' como cor para verificar se é possível identificar alguns grupos."
   ]
  },
  {
   "cell_type": "markdown",
   "metadata": {},
   "source": [
    "Por último, iremos checar como Recency e Frequency se relacionam com Monetary."
   ]
  },
  {
   "cell_type": "code",
   "execution_count": 9,
   "metadata": {},
   "outputs": [
    {
     "data": {
      "image/png": "[encoded data removed]",
      "text/plain": [
       "<Figure size 756x576 with 2 Axes>"
      ]
     },
     "metadata": {
      "needs_background": "light"
     },
     "output_type": "display_data"
    }
   ],
   "source": [
    "plt.figure(figsize=[10.5,8])\n",
    "plt.scatter(df_novo['rec'][:], df_novo['freq'][:], c = df_novo['valor'][:], cmap=plt.cm.rainbow)\n",
    "plt.colorbar()\n",
    "plt.title('Figura 1. Recency x Frequency, C = Monetary', fontsize = 16, fontweight = 'bold')\n",
    "plt.xlabel('Recency', fontsize = 14, fontweight = 'bold')\n",
    "plt.ylabel('Frequency', fontsize = 14, fontweight = 'bold')\n",
    "plt.show()"
   ]
  },
  {
   "cell_type": "markdown",
   "metadata": {},
   "source": [
    "A Figura 1 mostra Estamos interessados em fragmentar essa base em clientes valiosos e clientes sem valor para as empresas. Sendo assim, usaremos, inicialmente, o algoritmo K-means com dois clusters. Antes, separaremos as variáveis usando a função separarVar."
   ]
  },
  {
   "cell_type": "code",
   "execution_count": 10,
   "metadata": {},
   "outputs": [],
   "source": [
    "# Função para separar as variáveis independentes da variável dependente.\n",
    "def separarVar(df_): # DataFrame de entrada\n",
    "    \n",
    "    verificador = True\n",
    "    \n",
    "    # Loop para separar as variáveis independentes da variável dependente\n",
    "    for item in df_.columns:\n",
    "        if verificador:\n",
    "            if (item != 'user'):\n",
    "                X = df_[item].values.reshape(-1,1)\n",
    "                verificador = False\n",
    "        else:\n",
    "            if (item != 'user'):\n",
    "                X = np.c_[X, df_[item].values.reshape(-1,1)]\n",
    "    \n",
    "    return X#  Dados de saída\n",
    "\n",
    "X_data = separarVar(df_novo)"
   ]
  },
  {
   "cell_type": "code",
   "execution_count": 11,
   "metadata": {},
   "outputs": [],
   "source": [
    "# Instanciando o modelo\n",
    "km = KMeans(n_clusters = 2) \n",
    "\n",
    "# Treinando o modelo\n",
    "km.fit(X_data)\n",
    "\n",
    "# Obtendo a classificação dos usuários\n",
    "grupos = km.predict(X_data)"
   ]
  },
  {
   "cell_type": "code",
   "execution_count": 12,
   "metadata": {},
   "outputs": [
    {
     "data": {
      "image/png": "[encoded data removed]",
      "text/plain": [
       "<Figure size 756x576 with 2 Axes>"
      ]
     },
     "metadata": {
      "needs_background": "light"
     },
     "output_type": "display_data"
    }
   ],
   "source": [
    "plt.figure(figsize=[10.5,8])\n",
    "plt.scatter(df_novo['rec'][:], df_novo['freq'][:], c = grupos, cmap = plt.cm.viridis)\n",
    "plt.colorbar()\n",
    "\n",
    "for center in km.cluster_centers_:\n",
    "    plt.scatter(center[0], center[1], s = 300, marker = 'x', c = 'black', lw = 7)\n",
    "    \n",
    "plt.title('Figura 2. Recency x Frequency, C = Grupos', fontsize = 16, fontweight = 'bold')\n",
    "plt.xlabel('Recency', fontsize = 14, fontweight = 'bold')\n",
    "plt.ylabel('Frequency', fontsize = 14, fontweight = 'bold')\n",
    "plt.show()"
   ]
  },
  {
   "cell_type": "markdown",
   "metadata": {},
   "source": [
    "O X na Figura 2 indica o centro do cluster que foi considerado para separar os clientes valiosos (pontos amarelo ou classe 1), dos clientes menos valiosos (pontos azuis ou classe 0). Traduzindo isso em porcentagem, temos o gráfico de barras mostrado na Figura 3.\n",
    "\n",
    "__Nota:__ Cada vez que kernel é rodado, a ordem de classificação acima se altera. Então, para essa classificação foi considerado o seguinte:\n",
    "\n",
    "    - Clientes valiosos: Aqueles que estão no grupo dos pontos que se encontram no canto superior direito da figura 2.\n",
    "    - Clientes menos valiosos: Aqueles que estão no grupo dos pontos que se encontram no canto inferior esquerdo da figura 2."
   ]
  },
  {
   "cell_type": "code",
   "execution_count": 14,
   "metadata": {},
   "outputs": [],
   "source": [
    "df_grupos = pd.DataFrame(np.c_[df_novo.user, grupos], columns = ['user', 'Grupo'])\n",
    "total_clientes = df_grupos.user.value_counts().sum()\n",
    "df_2_grupos = df_grupos.groupby(['Grupo']).apply(lambda x: x.user.value_counts().sum())\n",
    "#print(df_2_grupos)\n",
    "\n",
    "df_2_grupos = pd.DataFrame(np.c_[df_2_grupos[0] * 100 /total_clientes, df_2_grupos[1] * 100 /total_clientes],\n",
    "                           columns = ['Menos valiosos', 'Mais valiosos'])\n",
    "\n",
    "\n",
    "#df_2_grupos"
   ]
  },
  {
   "cell_type": "code",
   "execution_count": 15,
   "metadata": {},
   "outputs": [
    {
     "data": {
      "image/png": "[encoded data removed]",
      "text/plain": [
       "<Figure size 720x576 with 1 Axes>"
      ]
     },
     "metadata": {},
     "output_type": "display_data"
    }
   ],
   "source": [
    "labels = df_2_grupos.columns\n",
    "\n",
    "x = 1\n",
    "width = 0.35\n",
    "\n",
    "#construção do frame, criando figura e eixos\n",
    "fig, ax = plt.subplots(figsize=[10,8])\n",
    "\n",
    "#valores para construção do gráfico de barras\n",
    "rect1 = ax.bar(x - width/2, df_2_grupos[labels[0]].values, width, label='Menos valiosos')\n",
    "rect2 = ax.bar(x + width/2, df_2_grupos[labels[1]].values, width, label='Mais valiosos')\n",
    "\n",
    "# Adicona título no gráfico, legenda nos eixos e no gráfico legenda\n",
    "ax.set_ylabel('Frequência relativa [%]', fontsize = 14, fontweight = 'bold') # legenda eixo y\n",
    "ax.set_xlabel('Clientes', fontsize = 14, fontweight = 'bold') # Legenda eixo x\n",
    "ax.set_title('Figura 3. Porcentagem de clientes', fontsize = 16, fontweight = 'bold') # Título\n",
    "ax.tick_params(axis='x',label1On=False) # Removendo labels dos ticks do eixo x\n",
    "ax.tick_params(axis='y',label1On=False) # Removendo labels dos ticks do eixo y\n",
    "\n",
    "plt.text(x = x - width/2, y = df_2_grupos[labels[0]].values - 2,\n",
    "         s = str(round(df_2_grupos[labels[0]].values[0],2)),\n",
    "         fontsize = 14, fontweight = 'bold', ha='center')\n",
    "plt.text(x = x + width/2, y = df_2_grupos[labels[1]].values - 2,\n",
    "         s = str(round(df_2_grupos[labels[1]].values[0],2)),\n",
    "         fontsize = 14, fontweight = 'bold', ha='center')\n",
    "\n",
    "ax.legend(prop={\"size\":14}) # legenda do gráfico\n",
    "plt.show()"
   ]
  },
  {
   "cell_type": "markdown",
   "metadata": {},
   "source": [
    "Com a abordagem adotada, vê-se que 52,08% dos clientes são classificados como \"mais valiosos\", enquanto o restante é classificado como \"menos valiosos\".\n",
    "\n",
    "Entretanto, essa abordagem pode ser melhorada. Caso mais um cluster seja introduzido, pode-se identificar um terceiro grupo de clientes. Para esse novo grupo de clientes, poderíamos direcionar uma série de ações para garantir que os mesmos se tornassem clientes \"menos valiosos\" e, posteriormente, \"mais valiosos\". Vejamos abaixa a aplicação dessa abordagem."
   ]
  },
  {
   "cell_type": "code",
   "execution_count": 24,
   "metadata": {},
   "outputs": [],
   "source": [
    "# Instanciando o modelo\n",
    "km_3 = KMeans(n_clusters = 3) \n",
    "\n",
    "# Treinando o modelo\n",
    "km_3.fit(X_data)\n",
    "\n",
    "# Obtendo a classificação dos usuários\n",
    "grupos_3 = km_3.predict(X_data)"
   ]
  },
  {
   "cell_type": "code",
   "execution_count": 26,
   "metadata": {},
   "outputs": [
    {
     "data": {
      "image/png": "[encoded data removed]",
      "text/plain": [
       "<Figure size 756x576 with 2 Axes>"
      ]
     },
     "metadata": {
      "needs_background": "light"
     },
     "output_type": "display_data"
    }
   ],
   "source": [
    "# Plotando o gráfico para analisar a nova segmentação\n",
    "plt.figure(figsize=[10.5,8])\n",
    "plt.scatter(df_novo['rec'][:], df_novo['freq'][:], c = grupos_3, cmap = plt.cm.viridis)\n",
    "plt.colorbar()\n",
    "\n",
    "for center in km_3.cluster_centers_:\n",
    "    plt.scatter(center[0], center[1], s = 300, marker = 'x', c = 'black', lw = 7)\n",
    "    \n",
    "plt.title('Figura 4. Recency x Frequency, C = Grupos', fontsize = 16, fontweight = 'bold')\n",
    "plt.xlabel('Recency', fontsize = 14, fontweight = 'bold')\n",
    "plt.ylabel('Frequency', fontsize = 14, fontweight = 'bold')\n",
    "plt.show()"
   ]
  },
  {
   "cell_type": "markdown",
   "metadata": {},
   "source": [
    "Agora obtemos três grupos de classificação:\n",
    "    \n",
    "- Grupo 2: Clientes menos valiosos (em amarelo)\n",
    "- Grupo 1: Clientes mais valiosos (em verde)\n",
    "- Grupo 0: Clientes precisando de atenção (em azul)\n",
    "\n",
    "Vejamos a distribuição relativa adotando essa nova abordagem.\n",
    "\n",
    "__Nota:__ Cada vez que kernel é rodado, a ordem acima se altera. Então, para essa classificação foi considerado o seguinte:\n",
    "\n",
    "    - Clientes valiosos: Aqueles que estão no grupo dos pontos que se encontram no canto superior direito da figura 4.\n",
    "    - Clientes menos valiosos: Aqueles que estão no grupo dos pontos que se encontram no canto inferior direito da figura 4.\n",
    "    - Clientes precisando de atenção: Aqueles que estão no grupo dos pontos que se encontram no canto interior esquerdo da figura 4."
   ]
  },
  {
   "cell_type": "code",
   "execution_count": 28,
   "metadata": {},
   "outputs": [
    {
     "name": "stdout",
     "output_type": "stream",
     "text": [
      "Grupo\n",
      "0    485\n",
      "1    257\n",
      "2    270\n",
      "dtype: int64\n"
     ]
    },
    {
     "data": {
      "text/html": [
       "<div>\n",
       "<style scoped>\n",
       "    .dataframe tbody tr th:only-of-type {\n",
       "        vertical-align: middle;\n",
       "    }\n",
       "\n",
       "    .dataframe tbody tr th {\n",
       "        vertical-align: top;\n",
       "    }\n",
       "\n",
       "    .dataframe thead th {\n",
       "        text-align: right;\n",
       "    }\n",
       "</style>\n",
       "<table border=\"1\" class=\"dataframe\">\n",
       "  <thead>\n",
       "    <tr style=\"text-align: right;\">\n",
       "      <th></th>\n",
       "      <th>Atenção</th>\n",
       "      <th>Mais valiosos</th>\n",
       "      <th>Menos valiosos</th>\n",
       "    </tr>\n",
       "  </thead>\n",
       "  <tbody>\n",
       "    <tr>\n",
       "      <th>0</th>\n",
       "      <td>47.924901</td>\n",
       "      <td>25.395257</td>\n",
       "      <td>26.679842</td>\n",
       "    </tr>\n",
       "  </tbody>\n",
       "</table>\n",
       "</div>"
      ],
      "text/plain": [
       "     Atenção  Mais valiosos  Menos valiosos\n",
       "0  47.924901      25.395257       26.679842"
      ]
     },
     "execution_count": 28,
     "metadata": {},
     "output_type": "execute_result"
    }
   ],
   "source": [
    "df_grupos_3 = pd.DataFrame(np.c_[df_novo.user, grupos_3], columns = ['user', 'Grupo'])\n",
    "total_clientes = df_grupos_3.user.value_counts().sum()\n",
    "df_3_grupos = df_grupos_3.groupby(['Grupo']).apply(lambda x: x.user.value_counts().sum())\n",
    "print(df_3_grupos)\n",
    "df_3_grupos = pd.DataFrame(np.c_[df_3_grupos[0] * 100 /total_clientes, df_3_grupos[1] * 100 /total_clientes, df_3_grupos[2] * 100 /total_clientes],\n",
    "                           columns = ['Atenção', 'Mais valiosos', 'Menos valiosos'])\n",
    "\n",
    "df_3_grupos\n"
   ]
  },
  {
   "cell_type": "code",
   "execution_count": 33,
   "metadata": {},
   "outputs": [
    {
     "data": {
      "image/png": "[encoded data removed]",
      "text/plain": [
       "<Figure size 720x576 with 1 Axes>"
      ]
     },
     "metadata": {},
     "output_type": "display_data"
    }
   ],
   "source": [
    "labels = df_3_grupos.columns\n",
    "\n",
    "x = 1\n",
    "width = 0.35\n",
    "\n",
    "#construção do frame, criando figura e eixos\n",
    "fig, ax = plt.subplots(figsize=[10,8])\n",
    "\n",
    "#valores para construção do gráfico de barras\n",
    "rect1 = ax.bar(x - width, df_3_grupos[labels[0]].values, width, label='Atenção')\n",
    "rect2 = ax.bar(x, df_3_grupos[labels[1]].values, width, label='Mais valiosos')\n",
    "rect3 = ax.bar(x + width, df_3_grupos[labels[2]].values, width, label='Menos valiosos')\n",
    "\n",
    "# Adicona título no gráfico, legenda nos eixos e no gráfico legenda\n",
    "ax.set_ylabel('Frequência relativa [%]', fontsize = 14, fontweight = 'bold') # legenda eixo y\n",
    "ax.set_xlabel('Clientes', fontsize = 14, fontweight = 'bold') # Legenda eixo x\n",
    "ax.set_title('Figura 5. Porcentagem de clientes', fontsize = 16, fontweight = 'bold') # Título\n",
    "ax.tick_params(axis='x',label1On=False) # Removendo labels dos ticks do eixo x\n",
    "ax.tick_params(axis='y',label1On=False) # Removendo labels dos ticks do eixo y\n",
    "\n",
    "plt.text(x = x - width, y = df_3_grupos[labels[0]].values - 2,\n",
    "         s = str(round(df_3_grupos[labels[0]].values[0],2)),\n",
    "         fontsize = 14, fontweight = 'bold', ha='center')\n",
    "plt.text(x = x, y = df_3_grupos[labels[1]].values - 2,\n",
    "         s = str(round(df_3_grupos[labels[1]].values[0],2)),\n",
    "         fontsize = 14, fontweight = 'bold', ha='center')\n",
    "plt.text(x = x + width, y = df_3_grupos[labels[2]].values - 2,\n",
    "         s = str(round(df_3_grupos[labels[2]].values[0],2)),\n",
    "         fontsize = 14, fontweight = 'bold', ha='center')\n",
    "\n",
    "ax.legend(prop={\"size\":14}) # legenda do gráfico\n",
    "plt.show()"
   ]
  },
  {
   "cell_type": "markdown",
   "metadata": {},
   "source": [
    "Nessa nova abordagem, vemos que existe uma grande porcentagem de clientes que apresentam baixa recência, frequência e/ou valor. Com isso conhecido, pode-se adotar alguma medida para chamar a atenção dos mesmos e torná-los clientes \"mais valioso\" com o passar do tempo.\n",
    "\n",
    "Através da curva de Elbow podemos avaliar qual é o número ideal de clusters para o problema acima."
   ]
  },
  {
   "cell_type": "code",
   "execution_count": 34,
   "metadata": {
    "scrolled": false
   },
   "outputs": [
    {
     "data": {
      "image/png": "[encoded data removed]",
      "text/plain": [
       "<Figure size 1080x432 with 1 Axes>"
      ]
     },
     "metadata": {
      "needs_background": "light"
     },
     "output_type": "display_data"
    }
   ],
   "source": [
    "#calculando as inertias - WCSS para cada cluster\n",
    "lista_inertias = []\n",
    "for i in range(1, 13):\n",
    "    km = KMeans(n_clusters=i)\n",
    "    km.fit(X_data)\n",
    "    lista_inertias.append(km.inertia_)\n",
    "    \n",
    "    \n",
    "#plotando a curva de elbow    \n",
    "plt.figure(figsize=[15,6])\n",
    "plt.title(\"Figura 6. Curva de Elbow\", fontsize = 20, fontweight = 'bold')\n",
    "plt.xlabel(\"Número de clusters\", fontsize = 14, fontweight = 'bold')\n",
    "plt.ylabel(\"WCSS (inertia)\", fontsize = 14, fontweight = 'bold')\n",
    "plt.plot(range(1, 1+len(lista_inertias)), lista_inertias, c = 'black', lw = 2)\n",
    "plt.scatter(range(1, 1+len(lista_inertias)), lista_inertias, c = 'black', lw = 2)\n",
    "plt.xticks(range(1,1+len(lista_inertias)))\n",
    "plt.grid()\n",
    "plt.show()"
   ]
  },
  {
   "cell_type": "markdown",
   "metadata": {},
   "source": [
    "Através da Figura 6, pode-se verificar que o número de clusters usado na primeira parte do problema (n_clusters = 2) pode ser definido como o ponto de Elbow. Entretanto, usando n_clusters = 3, conseguimos identificar um terceiro grupo no qual podemos focar esforços para torná-los clientes mais assíduos."
   ]
  },
  {
   "cell_type": "markdown",
   "metadata": {},
   "source": [
    "Mais informações sobre os algoritmos de clusterização: [clique aqui](https://scikit-learn.org/stable/modules/clustering.html)"
   ]
  },
  {
   "cell_type": "code",
   "execution_count": null,
   "metadata": {},
   "outputs": [],
   "source": []
  }
 ],
 "metadata": {
  "kernelspec": {
   "display_name": "Python 3 (ipykernel)",
   "language": "python",
   "name": "python3"
  },
  "language_info": {
   "codemirror_mode": {
    "name": "ipython",
    "version": 3
   },
   "file_extension": ".py",
   "mimetype": "text/x-python",
   "name": "python",
   "nbconvert_exporter": "python",
   "pygments_lexer": "ipython3",
   "version": "3.9.7"
  }
 },
 "nbformat": 4,
 "nbformat_minor": 2
}
